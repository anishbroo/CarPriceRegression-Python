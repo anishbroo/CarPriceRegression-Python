{
 "cells": [
  {
   "attachments": {},
   "cell_type": "markdown",
   "metadata": {},
   "source": [
    "## `Switch`"
   ]
  },
  {
   "attachments": {},
   "cell_type": "markdown",
   "metadata": {},
   "source": [
    "- Implemented in Python 3.10 and after.\n",
    "- Dictionary or if..else approach was taken in consideration before 3.10\n"
   ]
  },
  {
   "cell_type": "code",
   "execution_count": 7,
   "metadata": {},
   "outputs": [
    {
     "data": {
      "text/plain": [
       "\"key doesn't exists.\""
      ]
     },
     "execution_count": 7,
     "metadata": {},
     "output_type": "execute_result"
    }
   ],
   "source": [
    "switcher = {\n",
    "    0: \"Case 0\",\n",
    "    1: \"Case 1\",\n",
    "    2: \"Case 2\"\n",
    "}\n",
    "\n",
    "value = 3\n",
    "switcher.get(value, \"key doesn't exists.\")"
   ]
  },
  {
   "attachments": {},
   "cell_type": "markdown",
   "metadata": {},
   "source": [
    "- `match` keyword is used for switch case followed by variable or expression returning value. \n",
    "- Multiple `case` statements can be made under the scope of `match` block "
   ]
  },
  {
   "cell_type": "code",
   "execution_count": 1,
   "metadata": {},
   "outputs": [
    {
     "name": "stdout",
     "output_type": "stream",
     "text": [
      "case 2\n"
     ]
    }
   ],
   "source": [
    "# match statement\n",
    "arg = 2\n",
    "match arg:\n",
    "    case 0:\n",
    "        print(\"case 0\")\n",
    "    case 1:\n",
    "        print(\"case 1\")\n",
    "    case 2:\n",
    "        print(\"case 2\")"
   ]
  }
 ],
 "metadata": {
  "kernelspec": {
   "display_name": "workshop",
   "language": "python",
   "name": "python3"
  },
  "language_info": {
   "codemirror_mode": {
    "name": "ipython",
    "version": 3
   },
   "file_extension": ".py",
   "mimetype": "text/x-python",
   "name": "python",
   "nbconvert_exporter": "python",
   "pygments_lexer": "ipython3",
   "version": "3.10.9"
  },
  "orig_nbformat": 4
 },
 "nbformat": 4,
 "nbformat_minor": 2
}
