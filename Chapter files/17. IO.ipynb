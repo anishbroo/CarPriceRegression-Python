{
 "cells": [
  {
   "attachments": {},
   "cell_type": "markdown",
   "metadata": {},
   "source": [
    "## `Input-Output`"
   ]
  },
  {
   "cell_type": "code",
   "execution_count": null,
   "metadata": {},
   "outputs": [],
   "source": [
    "# input from console\n",
    "value=int(input(\"Enter the value:\"))\n",
    "print(value,type(value))"
   ]
  },
  {
   "attachments": {},
   "cell_type": "markdown",
   "metadata": {},
   "source": [
    "#### `File Opening Mode`\n",
    "- `w`<br/>\n",
    "To write data into file. If any data is already present in the file, it would be deleted and the present data will be stored.\n",
    "open an existing file for write operation. If the file already contains some data then it will be overridden. If the specified file is not already available then this mode will create that file. \n",
    "\n",
    "- `r`<br/>\n",
    "To read the data form the file. The file pointer is positioned at the beginning of the file.\n",
    "open an existing file for read operation. The file pointer is positioned at the beginning  of the file.If the specified file does not exist then we will get FileNotFoundError.This is default mode. \n",
    "- `a`<br/>\n",
    "To append data to the file. Appending means adding at the end of existing data. The file pointer is placed at the end of the file. If the file does not exist, it will create new for writing data.\n",
    "open an existing file for append operation. It won't override existing data.If the specified file is not already avaialble then this mode will create a new file. \n",
    "- `w+`<br/>\n",
    "To write and read data a file. The previous data in the file will be deleted.\n",
    "To write and read data. It will override existing data. \n",
    "- `r+`<br/>\n",
    "To read and write data into the file. The previous data in the file will not be deleted.The file pointer is placed at the beginning of the file.\n",
    "- `a+`<br/>\n",
    "To append and read data from the file.It wont override existing data. \n",
    "To append and read of a file. The file pointer will be at the end of the file if the file exists. If the file does not exist, it creates a new file for reading and writing.\n",
    "- `x`<br/>\n",
    "To open a file in exclusive creation mode for write operation. If the file already exists then we will get FileExistsError. "
   ]
  },
  {
   "cell_type": "code",
   "execution_count": 6,
   "metadata": {},
   "outputs": [],
   "source": [
    "file = open('file.txt','r')"
   ]
  },
  {
   "cell_type": "code",
   "execution_count": 7,
   "metadata": {},
   "outputs": [
    {
     "name": "stdout",
     "output_type": "stream",
     "text": [
      "nccs\n",
      "\n"
     ]
    }
   ],
   "source": [
    "content= file.readline()\n",
    "print(content)"
   ]
  },
  {
   "cell_type": "code",
   "execution_count": 8,
   "metadata": {},
   "outputs": [
    {
     "name": "stdout",
     "output_type": "stream",
     "text": [
      "['college \\n', 'is in paknajol\\n']\n"
     ]
    }
   ],
   "source": [
    "content= file.readlines()\n",
    "print(content)"
   ]
  },
  {
   "cell_type": "code",
   "execution_count": 21,
   "metadata": {},
   "outputs": [],
   "source": [
    "file=open('file.txt','w')"
   ]
  },
  {
   "cell_type": "code",
   "execution_count": 16,
   "metadata": {},
   "outputs": [],
   "source": [
    "txt=\"we are in nccs college.\\n and we are studing python.\" #write gareko kura hernalai file feri close garera open garna parxa\n",
    "file.writelines(txt)"
   ]
  },
  {
   "cell_type": "code",
   "execution_count": 18,
   "metadata": {},
   "outputs": [],
   "source": [
    "file.close()"
   ]
  },
  {
   "cell_type": "code",
   "execution_count": 22,
   "metadata": {},
   "outputs": [
    {
     "name": "stdout",
     "output_type": "stream",
     "text": [
      "['we are in class', 'we are studing python.']\n",
      "we are in nccs college.\n",
      " and we are studing python.\n",
      "\n",
      "we are in nccs college.\n",
      " and we are studing python.\n",
      "\n"
     ]
    }
   ],
   "source": [
    "#modifying using for loop\n",
    "txt_lst=['we are in class','we are studing python.']\n",
    "print(txt_lst)\n",
    "\n",
    "new_line='\\n'\n",
    "modified_lst=[]\n",
    "for lst in txt_lst:\n",
    "    new_str=txt+new_line\n",
    "    print(new_str)"
   ]
  },
  {
   "cell_type": "code",
   "execution_count": 23,
   "metadata": {},
   "outputs": [
    {
     "name": "stdout",
     "output_type": "stream",
     "text": [
      "['WE ARE IN CLASS', 'WE ARE STUDING PYTHON.']\n"
     ]
    }
   ],
   "source": [
    "#modifying using list comprehension\n",
    "txt_lst=['we are in class','we are studing python.']\n",
    "new_lst=[txt.upper() for txt in txt_lst]\n",
    "print(new_lst)"
   ]
  },
  {
   "cell_type": "code",
   "execution_count": 25,
   "metadata": {},
   "outputs": [
    {
     "name": "stdout",
     "output_type": "stream",
     "text": [
      "we are in class studing python\n"
     ]
    }
   ],
   "source": [
    "str1='we are in class' #string concatenation\n",
    "str2=' studing python'\n",
    "print(str1+str2)"
   ]
  },
  {
   "cell_type": "code",
   "execution_count": 26,
   "metadata": {},
   "outputs": [
    {
     "data": {
      "text/plain": [
       "<function TextIOWrapper.close()>"
      ]
     },
     "execution_count": 26,
     "metadata": {},
     "output_type": "execute_result"
    }
   ],
   "source": [
    "file.writelines(txt_lst)\n",
    "file.close"
   ]
  }
 ],
 "metadata": {
  "kernelspec": {
   "display_name": "workshop",
   "language": "python",
   "name": "python3"
  },
  "language_info": {
   "codemirror_mode": {
    "name": "ipython",
    "version": 3
   },
   "file_extension": ".py",
   "mimetype": "text/x-python",
   "name": "python",
   "nbconvert_exporter": "python",
   "pygments_lexer": "ipython3",
   "version": "3.10.9"
  },
  "orig_nbformat": 4
 },
 "nbformat": 4,
 "nbformat_minor": 2
}
