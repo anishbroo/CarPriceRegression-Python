{
 "cells": [
  {
   "attachments": {},
   "cell_type": "markdown",
   "metadata": {},
   "source": [
    "## `Loops`"
   ]
  },
  {
   "attachments": {},
   "cell_type": "markdown",
   "metadata": {},
   "source": [
    "## `1. While Loop`\n",
    "- `syntax`<br/>\n",
    "```python\n",
    "    while condition:\n",
    "        \"while-block Statements\"\n",
    "```"
   ]
  },
  {
   "attachments": {},
   "cell_type": "markdown",
   "metadata": {},
   "source": [
    "- <span style=\"color:pink\">When to use?</span><br>\n",
    "Loops are used for repeating particular set of statement/s util some condition is met. Use when number of iteration is unknown in advace.<br/>\n"
   ]
  },
  {
   "attachments": {},
   "cell_type": "markdown",
   "metadata": {},
   "source": [
    "- <span style=\"color:pink\">Finite and Infinite Loops</span><br/>\n",
    "Finite loops has countable number of execution of same set of statement/s.<br/>\n",
    "Infinite loops run without exit routine."
   ]
  },
  {
   "cell_type": "code",
   "execution_count": 1,
   "metadata": {},
   "outputs": [
    {
     "name": "stdout",
     "output_type": "stream",
     "text": [
      "value of i= 0\n",
      "value of i= 1\n",
      "value of i= 2\n"
     ]
    }
   ],
   "source": [
    "i = 0\n",
    "while i<3:\n",
    "    print('value of i=', i)\n",
    "    i += 1"
   ]
  },
  {
   "attachments": {},
   "cell_type": "markdown",
   "metadata": {},
   "source": [
    "- `Break` statement"
   ]
  },
  {
   "cell_type": "code",
   "execution_count": 11,
   "metadata": {},
   "outputs": [
    {
     "name": "stdout",
     "output_type": "stream",
     "text": [
      "value of i 1\n",
      "value of i 2\n",
      "value of i 3\n",
      "value of i 4\n",
      "Break code will be executed for value of i equals to  5\n"
     ]
    }
   ],
   "source": [
    "i = 0\n",
    "while i<7:\n",
    "    i += 1\n",
    "    if i==5:\n",
    "        print(\"Break code will be executed for value of i equals to \", i)\n",
    "        break\n",
    "    print('value of i', i)"
   ]
  },
  {
   "attachments": {},
   "cell_type": "markdown",
   "metadata": {},
   "source": [
    "- `Continue` statement"
   ]
  },
  {
   "cell_type": "code",
   "execution_count": 13,
   "metadata": {},
   "outputs": [
    {
     "name": "stdout",
     "output_type": "stream",
     "text": [
      "value of i 1\n",
      "value of i 2\n",
      "value of i 3\n",
      "value of i 4\n",
      "skipped for value  5\n",
      "value of i 6\n",
      "value of i 7\n"
     ]
    }
   ],
   "source": [
    "i = 0\n",
    "while i<7:\n",
    "    i += 1\n",
    "    if i==5:\n",
    "        print(\"skipped for value \", i)\n",
    "        continue\n",
    "    print('value of i', i)"
   ]
  },
  {
   "attachments": {},
   "cell_type": "markdown",
   "metadata": {},
   "source": [
    "## `2. For Loop`\n",
    "```python\n",
    "    # syntax\n",
    "    for ele in some_iterable:\n",
    "        ...\n",
    "```"
   ]
  },
  {
   "cell_type": "code",
   "execution_count": 4,
   "metadata": {},
   "outputs": [
    {
     "name": "stdout",
     "output_type": "stream",
     "text": [
      "value is 1\n",
      "value is 2\n",
      "break executes\n"
     ]
    }
   ],
   "source": [
    "for ele in [1,2,3]:\n",
    "    print(f\"value is {ele}\")\n",
    "    if ele == 2:\n",
    "        print('break executes')\n",
    "        break\n",
    "else:\n",
    "    print(\"else executes\")\n"
   ]
  },
  {
   "attachments": {},
   "cell_type": "markdown",
   "metadata": {},
   "source": [
    "- For loop is used for iterating over sequence.\n",
    "- Use when number of iteration is known in advace."
   ]
  },
  {
   "cell_type": "code",
   "execution_count": 1,
   "metadata": {},
   "outputs": [
    {
     "name": "stdout",
     "output_type": "stream",
     "text": [
      "<class 'range'>\n"
     ]
    }
   ],
   "source": [
    "print(list(range(0,5)))"
   ]
  },
  {
   "cell_type": "code",
   "execution_count": 21,
   "metadata": {},
   "outputs": [
    {
     "name": "stdout",
     "output_type": "stream",
     "text": [
      "Ram\n",
      "Shyam\n",
      "Hari\n"
     ]
    }
   ],
   "source": [
    "names_list = [\"Ram\", \"Shyam\", \"Hari\"]\n",
    "for name in names_list:\n",
    "  print(name)"
   ]
  },
  {
   "cell_type": "code",
   "execution_count": 3,
   "metadata": {},
   "outputs": [
    {
     "name": "stdout",
     "output_type": "stream",
     "text": [
      "break executes\n"
     ]
    }
   ],
   "source": [
    "for ele in [1,2,3]:\n",
    "    if ele == 2:\n",
    "        print('break executes')\n",
    "        break\n",
    "else:\n",
    "    print(\"else executes\")\n"
   ]
  },
  {
   "cell_type": "code",
   "execution_count": 28,
   "metadata": {},
   "outputs": [
    {
     "name": "stdout",
     "output_type": "stream",
     "text": [
      "Ram\n"
     ]
    }
   ],
   "source": [
    "for name in names_list:\n",
    "  if name == \"Shyam\":\n",
    "    break\n",
    "  print(name)"
   ]
  },
  {
   "cell_type": "code",
   "execution_count": 29,
   "metadata": {},
   "outputs": [
    {
     "name": "stdout",
     "output_type": "stream",
     "text": [
      "Ram\n",
      "Hari\n"
     ]
    }
   ],
   "source": [
    "for name in names_list:\n",
    "  if name == \"Shyam\":\n",
    "    continue\n",
    "  print(name)"
   ]
  },
  {
   "cell_type": "code",
   "execution_count": 2,
   "metadata": {},
   "outputs": [
    {
     "name": "stdout",
     "output_type": "stream",
     "text": [
      "48 8056\n"
     ]
    }
   ],
   "source": [
    "import sys\n",
    "rng=range(1,1000)\n",
    "print(sys.getsizeof(rng),sys.getsizeof(list(rng)))"
   ]
  },
  {
   "cell_type": "code",
   "execution_count": 30,
   "metadata": {},
   "outputs": [
    {
     "name": "stdout",
     "output_type": "stream",
     "text": [
      "Ram\n",
      "Shyam\n",
      "Hari\n"
     ]
    }
   ],
   "source": [
    "for idx in range(0, len(names_list)):\n",
    "    print(names_list[idx])"
   ]
  },
  {
   "cell_type": "code",
   "execution_count": 19,
   "metadata": {},
   "outputs": [
    {
     "name": "stdout",
     "output_type": "stream",
     "text": [
      "Ram\n",
      "Shyam\n",
      "Hari\n"
     ]
    }
   ],
   "source": [
    "names_tuple = (\"Ram\", \"Shyam\", \"Hari\")\n",
    "for name in names_tuple:\n",
    "  print(name)"
   ]
  },
  {
   "cell_type": "code",
   "execution_count": 31,
   "metadata": {},
   "outputs": [
    {
     "name": "stdout",
     "output_type": "stream",
     "text": [
      "Ram\n",
      "Shyam\n",
      "Hari\n"
     ]
    }
   ],
   "source": [
    "for idx in range(0, len(names_tuple)):\n",
    "    print(names_tuple[idx])"
   ]
  },
  {
   "attachments": {},
   "cell_type": "markdown",
   "metadata": {},
   "source": [
    "- `For loop is also used for iterating over string.`"
   ]
  },
  {
   "cell_type": "code",
   "execution_count": 2,
   "metadata": {},
   "outputs": [
    {
     "name": "stdout",
     "output_type": "stream",
     "text": [
      "character is  S\n",
      "character is  t\n",
      "character is  u\n",
      "character is  d\n",
      "character is  e\n",
      "character is  n\n",
      "character is  t\n",
      "character is  s\n",
      "character is   \n",
      "character is  i\n",
      "character is  n\n",
      "character is   \n",
      "character is  N\n",
      "character is  C\n",
      "character is  C\n",
      "character is  S\n",
      "character is   \n",
      "character is  a\n",
      "character is  r\n",
      "character is  e\n",
      "character is   \n",
      "character is  s\n",
      "character is  t\n",
      "character is  u\n",
      "character is  d\n",
      "character is  i\n",
      "character is  o\n",
      "character is  u\n",
      "character is  s\n",
      "character is  .\n"
     ]
    }
   ],
   "source": [
    "text = 'Students in NCCS are studious.'\n",
    "for character in text:\n",
    "    print('character is ', character)"
   ]
  },
  {
   "cell_type": "code",
   "execution_count": 8,
   "metadata": {},
   "outputs": [
    {
     "name": "stdout",
     "output_type": "stream",
     "text": [
      "('key1', 1)\n",
      "('key2', 4)\n"
     ]
    }
   ],
   "source": [
    "d_a={'key1':1,'key2': 4}\n",
    "for ele in d_a.items():\n",
    "    print(ele)"
   ]
  }
 ],
 "metadata": {
  "kernelspec": {
   "display_name": "workshop",
   "language": "python",
   "name": "python3"
  },
  "language_info": {
   "codemirror_mode": {
    "name": "ipython",
    "version": 3
   },
   "file_extension": ".py",
   "mimetype": "text/x-python",
   "name": "python",
   "nbconvert_exporter": "python",
   "pygments_lexer": "ipython3",
   "version": "3.10.9"
  },
  "orig_nbformat": 4
 },
 "nbformat": 4,
 "nbformat_minor": 2
}
