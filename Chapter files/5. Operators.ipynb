{
 "cells": [
  {
   "attachments": {},
   "cell_type": "markdown",
   "metadata": {},
   "source": [
    "## `Operators`"
   ]
  },
  {
   "attachments": {},
   "cell_type": "markdown",
   "metadata": {},
   "source": [
    "### `Arithematic Operators`\n",
    "- Addition `+`\n",
    "- Subtraction `-`\n",
    "- Multiplicaiton `*`\n",
    "- Division `/`\n",
    "- Modulus `%`\n",
    "- Exponentiation `**`\n",
    "- Floor Division `//`"
   ]
  },
  {
   "attachments": {},
   "cell_type": "markdown",
   "metadata": {},
   "source": [
    "### `Assignment Operators`\n",
    "- `=`\n",
    "- `+=`\n",
    "- `-=`\n",
    "- `*=`\n",
    "- `/=`\n",
    "- `%=`\n",
    "- `//=`\n",
    "- `**=`\n",
    "- `&=`\n",
    "- `|=`\n"
   ]
  },
  {
   "cell_type": "code",
   "execution_count": null,
   "metadata": {},
   "outputs": [
    {
     "ename": "",
     "evalue": "",
     "output_type": "error",
     "traceback": [
      "\u001b[1;31mRunning cells with 'workshop' requires the ipykernel package.\n",
      "\u001b[1;31mRun the following command to install 'ipykernel' into the Python environment. \n",
      "\u001b[1;31mCommand: 'conda install -n workshop ipykernel --update-deps --force-reinstall'"
     ]
    }
   ],
   "source": [
    "# **=\n",
    "# print(2**3)\n",
    "5/2"
   ]
  },
  {
   "attachments": {},
   "cell_type": "markdown",
   "metadata": {},
   "source": [
    "### `Comparision Opterators`\n",
    "- Equal `==`\n",
    "- Not Equal `!=`\n",
    "- Greater than `>`\n",
    "- Less than `<`\n",
    "- Greater than or equal to `>=`\n",
    "- Less than or equal to `<=`"
   ]
  },
  {
   "attachments": {},
   "cell_type": "markdown",
   "metadata": {},
   "source": [
    "### `Logical Operators`\n",
    "- `and`   : Returns True when both expressions are True\n",
    "- `or`    : Returns True when any one of expressions are True\n",
    "- `not`   : Returns True when False and vise-versa."
   ]
  },
  {
   "attachments": {},
   "cell_type": "markdown",
   "metadata": {},
   "source": [
    "### `Identity Operators`\n",
    "- `is`      : Return True when two variables are same objects\n",
    "- `is not`  : Returns True when two variables are not same objects "
   ]
  },
  {
   "attachments": {},
   "cell_type": "markdown",
   "metadata": {},
   "source": [
    "### `Membership Operators`\n",
    "- `in` Returns True when an iterator contains particular value.\n",
    "- `not in` Returns True when an iterator doesn't contain particular value."
   ]
  }
 ],
 "metadata": {
  "kernelspec": {
   "display_name": "detection2",
   "language": "python",
   "name": "python3"
  },
  "language_info": {
   "codemirror_mode": {
    "name": "ipython",
    "version": 3
   },
   "file_extension": ".py",
   "mimetype": "text/x-python",
   "name": "python",
   "nbconvert_exporter": "python",
   "pygments_lexer": "ipython3",
   "version": "3.11.3"
  },
  "orig_nbformat": 4
 },
 "nbformat": 4,
 "nbformat_minor": 2
}
