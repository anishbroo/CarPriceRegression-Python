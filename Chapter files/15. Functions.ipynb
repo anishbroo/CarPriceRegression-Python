{
 "cells": [
  {
   "attachments": {},
   "cell_type": "markdown",
   "metadata": {},
   "source": [
    "## `Functions`"
   ]
  },
  {
   "attachments": {},
   "cell_type": "markdown",
   "metadata": {},
   "source": [
    "- <span style=\"color:pink\">Block of statements organized to perform related action.</span><br/>\n",
    "- <span style=\"color:pink\">Functions are reuseable.</span><br/>\n",
    "- <span style=\"color:pink\">Makes the program modular.</span><br/>\n",
    "- <span style=\"color:pink\">Built-in and user-defined functions.</span><br/>\n",
    "\n",
    "#### `Syntax`\n",
    "Function Defination\n",
    "```python\n",
    "    def function_name(parameters):\n",
    "        '''function block'''\n",
    "        return [expression]\n",
    "```\n",
    "Function Call<br/>\n",
    "&emsp;&emsp;`function_name`(arguments)"
   ]
  },
  {
   "attachments": {},
   "cell_type": "markdown",
   "metadata": {},
   "source": [
    "#### `Calling a function`\n",
    "\n"
   ]
  },
  {
   "cell_type": "code",
   "execution_count": 1,
   "metadata": {},
   "outputs": [],
   "source": [
    "# Define a function\n",
    "def calculate_square(value):\n",
    "    squared_value = value * value\n",
    "    return squared_value"
   ]
  },
  {
   "cell_type": "code",
   "execution_count": 2,
   "metadata": {},
   "outputs": [
    {
     "name": "stdout",
     "output_type": "stream",
     "text": [
      "25\n"
     ]
    }
   ],
   "source": [
    "# Calling a function\n",
    "result = calculate_square(5)\n",
    "print(result)"
   ]
  },
  {
   "attachments": {},
   "cell_type": "markdown",
   "metadata": {},
   "source": [
    "#### `Classification of function call on the basis of writing of arguments`\n",
    "- Positional Arguments\n",
    "- Keyword Arguments\n",
    "- Default Arguments\n",
    "- Variable-length Arguments\n",
    "- Variable-Length Keyword-Arguments"
   ]
  },
  {
   "attachments": {},
   "cell_type": "markdown",
   "metadata": {},
   "source": [
    "#### &emsp;`Positional Arguments`\n",
    "&emsp;&emsp;The number of arguments in function call must be equal with the number of parameters defined in function.\n",
    "```python\n",
    "    # function defination\n",
    "    def temp_func(a, b):\n",
    "        c = a + b\n",
    "        return c\n",
    "    \n",
    "    # function call\n",
    "    temp_func(3, 4)\n",
    "```"
   ]
  },
  {
   "cell_type": "code",
   "execution_count": 4,
   "metadata": {},
   "outputs": [
    {
     "name": "stdout",
     "output_type": "stream",
     "text": [
      "10\n"
     ]
    }
   ],
   "source": [
    "def temp_func(a,b):\n",
    "    c=a+b\n",
    "    return c\n",
    "\n",
    "print(temp_func(5,5))"
   ]
  },
  {
   "attachments": {},
   "cell_type": "markdown",
   "metadata": {},
   "source": [
    "#### &emsp;`Keyword Arguments`\n",
    "&emsp;&emsp;The arguments are identified with parameter name.\n",
    "```python\n",
    "    # function defination\n",
    "    def temp_func(a, b):\n",
    "        c = a + b\n",
    "        return c\n",
    "    \n",
    "    # function call\n",
    "    temp_func(a=3, b=4)\n",
    "```"
   ]
  },
  {
   "cell_type": "code",
   "execution_count": 3,
   "metadata": {},
   "outputs": [
    {
     "data": {
      "text/plain": [
       "10"
      ]
     },
     "execution_count": 3,
     "metadata": {},
     "output_type": "execute_result"
    }
   ],
   "source": [
    "def temp_func(a,b):\n",
    "    c=a+b\n",
    "    return c\n",
    "\n",
    "temp_func(a=5,b=5)"
   ]
  },
  {
   "attachments": {},
   "cell_type": "markdown",
   "metadata": {},
   "source": [
    "#### &emsp;`Default Arguments`\n",
    "&emsp;&emsp;The function assumes the default value if it isn't provided as arguments in function call.\n",
    "```python\n",
    "    # function defination\n",
    "    def temp_func(a, b=0):\n",
    "        c = a + b\n",
    "        return c\n",
    "    \n",
    "    # valid function calls\n",
    "    temp_func(a=3)\n",
    "    temp_func(3)\n",
    "    temp_func(3,4)\n",
    "```"
   ]
  },
  {
   "cell_type": "code",
   "execution_count": 4,
   "metadata": {},
   "outputs": [
    {
     "data": {
      "text/plain": [
       "5"
      ]
     },
     "execution_count": 4,
     "metadata": {},
     "output_type": "execute_result"
    }
   ],
   "source": [
    "def temp_func(a,b=0):\n",
    "    c=a+b\n",
    "    return c\n",
    "\n",
    "temp_func(a=5)\n",
    "temp_func(7)\n",
    "# temp_func(5,7)"
   ]
  },
  {
   "attachments": {},
   "cell_type": "markdown",
   "metadata": {},
   "source": [
    "#### &emsp;`Variable-Length Arguments`\n",
    "&emsp;&emsp;The parameter packs the arguments into a tuple.\n",
    "```python\n",
    "    # function defination\n",
    "    def temp_func(a, *args):\n",
    "        print(a, type(a))\n",
    "        print(args, type(args))\n",
    "        \n",
    "    \n",
    "    # valid function calls\n",
    "    temp_func(3, 4, 5)\n",
    "    temp_func(1, 2, 3, 4)\n",
    "```"
   ]
  },
  {
   "cell_type": "code",
   "execution_count": 8,
   "metadata": {},
   "outputs": [
    {
     "name": "stdout",
     "output_type": "stream",
     "text": [
      "4 <class 'int'>\n",
      "(5, 6) <class 'tuple'>\n",
      "1 <class 'int'>\n",
      "(2, 3, 4) <class 'tuple'>\n"
     ]
    }
   ],
   "source": [
    "def temp_func(a,*args):\n",
    "    print(a,type(a))\n",
    "    print(args,type(args))\n",
    "    \n",
    "temp_func(4,5,6)\n",
    "temp_func(1,2,3,4)"
   ]
  },
  {
   "attachments": {},
   "cell_type": "markdown",
   "metadata": {},
   "source": [
    "#### &emsp;`Variable-Length Keyword-Arguments`\n",
    "&emsp;&emsp;The parameter packs the arguments into a dictionary.\n",
    "```python\n",
    "    # function defination\n",
    "    def temp_func(a, **kwargs):\n",
    "        print(a, type(a))\n",
    "        print(kwargs, type(kwargs))\n",
    "        \n",
    "    \n",
    "    # valid function calls\n",
    "    temp_func(3, b=4)\n",
    "    temp_func(1, b=2, c=3, d=4)\n",
    "```"
   ]
  },
  {
   "cell_type": "code",
   "execution_count": 6,
   "metadata": {},
   "outputs": [
    {
     "name": "stdout",
     "output_type": "stream",
     "text": [
      "3 <class 'int'>\n",
      "{'b': 4} <class 'dict'>\n",
      "1 <class 'int'>\n",
      "{'b': 2, 'c': 3, 'd': 4} <class 'dict'>\n"
     ]
    }
   ],
   "source": [
    "def temp_func(a,**kwargs):\n",
    "    print(a,type(a))\n",
    "    print(kwargs,type(kwargs))\n",
    "    \n",
    "temp_func(3,b=4)\n",
    "temp_func(1,b=2,c=3,d=4)"
   ]
  },
  {
   "attachments": {},
   "cell_type": "markdown",
   "metadata": {},
   "source": [
    "#### `Lambda Functions`\n",
    "#### &emsp;`Syntax`\n",
    "&emsp;&emsp; lambda [arg1, [arg2,..., argn]]: expression<br/>\n",
    "\n",
    "```python\n",
    "    # function defination\n",
    "    product = lambda arg1, arg2: arg1*arg2\n",
    "    result = product(1, 2)\n",
    "    print(result)\n",
    "```"
   ]
  },
  {
   "cell_type": "code",
   "execution_count": 7,
   "metadata": {},
   "outputs": [
    {
     "name": "stdout",
     "output_type": "stream",
     "text": [
      "20\n"
     ]
    }
   ],
   "source": [
    "product = lambda arg1,arg2 :arg1*arg2\n",
    "res = product(10,2)\n",
    "print(res)"
   ]
  },
  {
   "attachments": {},
   "cell_type": "markdown",
   "metadata": {},
   "source": [
    "#### `Global and Local Variables`\n",
    "- Scope of the variable differentiates into global and local variable. \n",
    "\n",
    "- Local variable are created inside function and has its existance inside particular function only.\n",
    "\n",
    "- Global variables are created outside of functions. Its existance is throughout the program.\n",
    "\n",
    "- If the variable name is <span style=\"color:pink\">same</span> in global space and inside the function, then the local variable has precedence/priority inside the function.\n",
    "\n",
    "- If global variable is to be used as the global identity inside function then variabel must be defied by prefixed `gobal` keyword "
   ]
  },
  {
   "cell_type": "code",
   "execution_count": 10,
   "metadata": {},
   "outputs": [
    {
     "name": "stdout",
     "output_type": "stream",
     "text": [
      "from global space: 0\n",
      "from local space: 0\n",
      "from global space: 1\n"
     ]
    }
   ],
   "source": [
    "value=0\n",
    "def function():\n",
    "    #global bhane keyword le k assign cha tyo lekhne\n",
    "    global value\n",
    "    print('from local space:',value)\n",
    "    value+=1\n",
    "\n",
    "print('from global space:',value)\n",
    "function()\n",
    "print('from global space:',value)\n"
   ]
  }
 ],
 "metadata": {
  "kernelspec": {
   "display_name": "workshop",
   "language": "python",
   "name": "python3"
  },
  "language_info": {
   "codemirror_mode": {
    "name": "ipython",
    "version": 3
   },
   "file_extension": ".py",
   "mimetype": "text/x-python",
   "name": "python",
   "nbconvert_exporter": "python",
   "pygments_lexer": "ipython3",
   "version": "3.10.9"
  },
  "orig_nbformat": 4
 },
 "nbformat": 4,
 "nbformat_minor": 2
}
