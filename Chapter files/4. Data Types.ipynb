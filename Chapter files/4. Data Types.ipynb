{
 "cells": [
  {
   "attachments": {},
   "cell_type": "markdown",
   "metadata": {},
   "source": [
    "## `Primitive Data Types`"
   ]
  },
  {
   "attachments": {},
   "cell_type": "markdown",
   "metadata": {},
   "source": [
    "- Data Type of variable or data can be identified with syntax <br/>\n",
    "type(variable_name)<br/>\n",
    "- Single or double quotation mark or both can be used in string datatype."
   ]
  },
  {
   "attachments": {},
   "cell_type": "markdown",
   "metadata": {},
   "source": [
    "#### `1. String`"
   ]
  },
  {
   "cell_type": "code",
   "execution_count": 21,
   "metadata": {},
   "outputs": [
    {
     "name": "stdout",
     "output_type": "stream",
     "text": [
      "This is string variable. <class 'str'>\n",
      "This is also string variable. <class 'str'>\n",
      "It's his book. <class 'str'>\n",
      "This is the example\n",
      "for multiline string. Did you\n",
      "get it? <class 'str'>\n"
     ]
    }
   ],
   "source": [
    "string_variable_1 = \"This is string variable.\"\n",
    "string_variable_2 = 'This is also string variable.'\n",
    "string_variable_3 = \"It's his book.\"\n",
    "\n",
    "multiline_string = \"\"\"This is the example\n",
    "for multiline string. Did you\n",
    "get it?\"\"\"\n",
    "\n",
    "print(string_variable_1, type(string_variable_1))\n",
    "print(string_variable_2, type(string_variable_2))\n",
    "print(string_variable_3, type(string_variable_3))\n",
    "print(multiline_string, type(multiline_string))"
   ]
  },
  {
   "cell_type": "code",
   "execution_count": 22,
   "metadata": {},
   "outputs": [
    {
     "name": "stdout",
     "output_type": "stream",
     "text": [
      "length of string is  12\n"
     ]
    }
   ],
   "source": [
    "# determine number of characters in the string including white spaces\n",
    "text = 'Hello World!'\n",
    "length =  len(text)\n",
    "print(\"length of string is \", length)"
   ]
  },
  {
   "attachments": {},
   "cell_type": "markdown",
   "metadata": {},
   "source": [
    "#### &emsp;`String Formating`"
   ]
  },
  {
   "attachments": {},
   "cell_type": "markdown",
   "metadata": {},
   "source": [
    "##### &emsp;`Formating with '%' operator`\n",
    "- `%s` -- injects strings\n",
    "- `%d` -- injects integers\n",
    "- `%b` -- injects binary format.\n",
    "- `%f` -- injects floating-point number\n",
    "&emsp;&emsp; <br/>Precison of floating-point number can be handled with format `%a.bf` where `a` represents minimum number of digits to be present in string and `b` represents the number of digits to be included that appears after the decimal.\n",
    "```python\n",
    "    # Examples \n",
    "    txt = 'Number is %d.' % 2 \n",
    "    print(txt)\n",
    "\n",
    "    txt2 = 'This is %s sentence. The first sentence is: <%s>.' %('second', txt)\n",
    "    print(txt2)\n",
    "```"
   ]
  },
  {
   "attachments": {},
   "cell_type": "markdown",
   "metadata": {},
   "source": [
    "##### &emsp;`Formating with 'format()' method.`\n",
    "```python\n",
    "    # Syntax\n",
    "    'Formating string with {} method'.format('format()')\n",
    "```\n",
    "\n",
    "```python\n",
    "    # Example\n",
    "    txt = 'Number is {}'.format(2.0032425)\n",
    "    print(txt)\n",
    "\n",
    "    # Index based insertion\n",
    "    txt = '{1} is {0}'.format('unique', 'Number')\n",
    "    print(txt)\n",
    "\n",
    "    # Keyword based insertion\n",
    "    txt = '{} is {}'.format(a='Number', b='')\n",
    "```"
   ]
  },
  {
   "cell_type": "code",
   "execution_count": 22,
   "metadata": {},
   "outputs": [
    {
     "name": "stdout",
     "output_type": "stream",
     "text": [
      "Number is 2.0032425\n"
     ]
    }
   ],
   "source": [
    "# Formating with `format()` string method.\n",
    "txt = 'Number is {}'.format(2.0032425)\n",
    "print(txt)"
   ]
  },
  {
   "attachments": {},
   "cell_type": "markdown",
   "metadata": {},
   "source": [
    "##### &emsp;`Formating woth f-string`\n",
    "```python\n",
    "    # Syntax\n",
    "    txt = 'f-string'\n",
    "    f'Formating string with {txt}'\n",
    "```"
   ]
  },
  {
   "attachments": {},
   "cell_type": "markdown",
   "metadata": {},
   "source": [
    "- `String Methods`<br/>\n",
    "len(), upper(), lower(), title(), swapcase(), capitalize(), endswith(), startswith(), strip(), split(), replace()"
   ]
  },
  {
   "attachments": {},
   "cell_type": "markdown",
   "metadata": {},
   "source": [
    "### `2. Integer`\n",
    "- Non-Fractional Numbers"
   ]
  },
  {
   "cell_type": "code",
   "execution_count": 8,
   "metadata": {},
   "outputs": [
    {
     "name": "stdout",
     "output_type": "stream",
     "text": [
      "5\n",
      "-3000\n"
     ]
    }
   ],
   "source": [
    "integer_variable_1 = 5\n",
    "integer_variable_2 = -3000\n",
    "\n",
    "print(integer_variable_1)\n",
    "print(integer_variable_2)"
   ]
  },
  {
   "attachments": {},
   "cell_type": "markdown",
   "metadata": {},
   "source": [
    "### `2. Float`\n",
    "- Fractional Numbers"
   ]
  },
  {
   "cell_type": "code",
   "execution_count": 10,
   "metadata": {},
   "outputs": [
    {
     "name": "stdout",
     "output_type": "stream",
     "text": [
      "5.0\n",
      "-100.3\n"
     ]
    }
   ],
   "source": [
    "float_variable_1 = 5.0\n",
    "float_variable_2 = -100.3\n",
    "\n",
    "print(float_variable_1)\n",
    "print(float_variable_2)"
   ]
  },
  {
   "attachments": {},
   "cell_type": "markdown",
   "metadata": {},
   "source": [
    "### `3. Boolean` \n",
    "- Either True or False\n",
    "- Boolean False is equivalent to integer 0 or float 0, or empty list, string, tuple, set, dictionary, None."
   ]
  }
 ],
 "metadata": {
  "kernelspec": {
   "display_name": "detection2",
   "language": "python",
   "name": "python3"
  },
  "language_info": {
   "codemirror_mode": {
    "name": "ipython",
    "version": 3
   },
   "file_extension": ".py",
   "mimetype": "text/x-python",
   "name": "python",
   "nbconvert_exporter": "python",
   "pygments_lexer": "ipython3",
   "version": "3.11.3"
  },
  "orig_nbformat": 4
 },
 "nbformat": 4,
 "nbformat_minor": 2
}
