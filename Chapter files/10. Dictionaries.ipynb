{
 "cells": [
  {
   "attachments": {},
   "cell_type": "markdown",
   "metadata": {},
   "source": [
    "## `Dictionaries`\n",
    "- Key-Value Pair"
   ]
  },
  {
   "cell_type": "code",
   "execution_count": null,
   "metadata": {},
   "outputs": [],
   "source": []
  },
  {
   "attachments": {},
   "cell_type": "markdown",
   "metadata": {},
   "source": [
    "- Initialize dictionary using curly braces `{}` or `dict()` function. "
   ]
  },
  {
   "cell_type": "code",
   "execution_count": 2,
   "metadata": {},
   "outputs": [
    {
     "name": "stdout",
     "output_type": "stream",
     "text": [
      "<class 'dict'>\n"
     ]
    }
   ],
   "source": [
    "dict_a= dict()\n",
    "print(type(dict_a))"
   ]
  },
  {
   "cell_type": "code",
   "execution_count": 20,
   "metadata": {},
   "outputs": [
    {
     "name": "stdout",
     "output_type": "stream",
     "text": [
      "<class 'dict'>\n",
      "<class 'dict'>\n"
     ]
    }
   ],
   "source": [
    "dict_a={}\n",
    "print(type(dict_a))\n",
    "dict_b={}\n",
    "print(type(dict_b))"
   ]
  },
  {
   "attachments": {},
   "cell_type": "markdown",
   "metadata": {},
   "source": [
    "- Initialize dictionary using keys and optional value using ` fromkeys()` method of `dict` class."
   ]
  },
  {
   "cell_type": "code",
   "execution_count": 3,
   "metadata": {},
   "outputs": [
    {
     "name": "stdout",
     "output_type": "stream",
     "text": [
      "{'car': None, 'car1': None}\n"
     ]
    }
   ],
   "source": [
    "d_a={'car':'Tata','car1':'ev','car2':'zen'}\n",
    "new_dictionary=d_a.fromkeys(['car','car1'])\n",
    "print(new_dictionary)"
   ]
  },
  {
   "attachments": {},
   "cell_type": "markdown",
   "metadata": {},
   "source": [
    "- Add data into dictionary using square bracket `[]` notation."
   ]
  },
  {
   "cell_type": "code",
   "execution_count": 21,
   "metadata": {},
   "outputs": [
    {
     "name": "stdout",
     "output_type": "stream",
     "text": [
      "{'animal': 'janawar'}\n",
      "{'luzza': 'kalu'}\n"
     ]
    }
   ],
   "source": [
    "dict_a['animal'] = 'janawar'\n",
    "print(dict_a)\n",
    "\n",
    "dict_b['luzza'] = 'kalu'\n",
    "print(dict_b)"
   ]
  },
  {
   "attachments": {},
   "cell_type": "markdown",
   "metadata": {},
   "source": [
    "- Access value of key using square bracket `[]` notation."
   ]
  },
  {
   "cell_type": "code",
   "execution_count": 6,
   "metadata": {},
   "outputs": [
    {
     "name": "stdout",
     "output_type": "stream",
     "text": [
      "janawar\n"
     ]
    }
   ],
   "source": [
    "print(dict_a[\"animal\"])"
   ]
  },
  {
   "attachments": {},
   "cell_type": "markdown",
   "metadata": {},
   "source": [
    "- Access value of key using `get()` method."
   ]
  },
  {
   "cell_type": "code",
   "execution_count": 8,
   "metadata": {},
   "outputs": [
    {
     "name": "stdout",
     "output_type": "stream",
     "text": [
      "None\n"
     ]
    }
   ],
   "source": [
    "print(dict_a.get('reptiles'))"
   ]
  },
  {
   "cell_type": "code",
   "execution_count": 7,
   "metadata": {},
   "outputs": [
    {
     "name": "stdout",
     "output_type": "stream",
     "text": [
      "janawar\n"
     ]
    }
   ],
   "source": [
    "print(dict_a.get('animal'))"
   ]
  },
  {
   "attachments": {},
   "cell_type": "markdown",
   "metadata": {},
   "source": [
    "- Retreive all the keys of dictionary."
   ]
  },
  {
   "cell_type": "code",
   "execution_count": 10,
   "metadata": {},
   "outputs": [
    {
     "name": "stdout",
     "output_type": "stream",
     "text": [
      "dict_keys(['animal'])\n",
      "['animal']\n",
      "animal\n"
     ]
    }
   ],
   "source": [
    "keys=dict_a.keys() #particular key haru cha kii chaina check or access garcha tara paila list ma convert garna parcha\n",
    "print(keys)\n",
    "keys=list(keys)\n",
    "print(keys)\n",
    "print(keys[0])"
   ]
  },
  {
   "cell_type": "code",
   "execution_count": 9,
   "metadata": {},
   "outputs": [
    {
     "name": "stdout",
     "output_type": "stream",
     "text": [
      "dict_keys(['animal'])\n"
     ]
    }
   ],
   "source": [
    "keys=dict_a.keys()\n",
    "print(keys)"
   ]
  },
  {
   "attachments": {},
   "cell_type": "markdown",
   "metadata": {},
   "source": [
    "- Retreive all the values of dictionary."
   ]
  },
  {
   "cell_type": "code",
   "execution_count": 12,
   "metadata": {},
   "outputs": [
    {
     "name": "stdout",
     "output_type": "stream",
     "text": [
      "dict_values(['janawar'])\n",
      "['janawar']\n",
      "janawar\n"
     ]
    }
   ],
   "source": [
    "values=dict_a.values() #particular value haru cha kii chaina check or access garcha tara paila list ma convert garna parcha\n",
    "print(values)\n",
    "values=list(values)\n",
    "print(values)\n",
    "print(values[0])"
   ]
  },
  {
   "cell_type": "code",
   "execution_count": 11,
   "metadata": {},
   "outputs": [
    {
     "name": "stdout",
     "output_type": "stream",
     "text": [
      "dict_values(['janawar'])\n"
     ]
    }
   ],
   "source": [
    "#retrives all the values kun kun value cha sab dekhaucha\n",
    "values=dict_a.values()\n",
    "print(values)"
   ]
  },
  {
   "attachments": {},
   "cell_type": "markdown",
   "metadata": {},
   "source": [
    "- Update value of key using square bracket `[]` notation."
   ]
  },
  {
   "cell_type": "code",
   "execution_count": 13,
   "metadata": {},
   "outputs": [
    {
     "name": "stdout",
     "output_type": "stream",
     "text": [
      "{'animal': 'janawar'}\n",
      "{'animal': 'hippo'}\n"
     ]
    }
   ],
   "source": [
    "#bhayeko key ko value update garne\n",
    "print(dict_a)\n",
    "dict_a['animal'] = 'hippo'\n",
    "print(dict_a)"
   ]
  },
  {
   "attachments": {},
   "cell_type": "markdown",
   "metadata": {},
   "source": [
    "- Access value of key using `update()` method."
   ]
  },
  {
   "attachments": {},
   "cell_type": "markdown",
   "metadata": {},
   "source": [
    "- Remove specific key-value pair with `pop()`."
   ]
  },
  {
   "cell_type": "code",
   "execution_count": 18,
   "metadata": {},
   "outputs": [
    {
     "data": {
      "text/plain": [
       "{}"
      ]
     },
     "execution_count": 18,
     "metadata": {},
     "output_type": "execute_result"
    }
   ],
   "source": [
    "dict_b"
   ]
  },
  {
   "cell_type": "code",
   "execution_count": 17,
   "metadata": {},
   "outputs": [
    {
     "name": "stdout",
     "output_type": "stream",
     "text": [
      "kalu\n"
     ]
    }
   ],
   "source": [
    "#pop le value udaidinchaa ra return panii garcha\n",
    "key= dict_b.pop('luzza')\n",
    "print(key)"
   ]
  },
  {
   "attachments": {},
   "cell_type": "markdown",
   "metadata": {},
   "source": [
    "- Remove last key-value pair with `popitem()`. (from V3.7)"
   ]
  },
  {
   "cell_type": "code",
   "execution_count": 25,
   "metadata": {},
   "outputs": [
    {
     "name": "stdout",
     "output_type": "stream",
     "text": [
      "('key2', 30)\n"
     ]
    }
   ],
   "source": [
    "#removes last element and returns a tuple(key value pair)\n",
    "dict_a={'key1':100, 'key2':30}\n",
    "key= dict_a.popitem()\n",
    "print(key)"
   ]
  },
  {
   "attachments": {},
   "cell_type": "markdown",
   "metadata": {},
   "source": [
    "- Remove specific key-value pair using `del` keyword. (Also used to remove entire dictionary.)"
   ]
  },
  {
   "cell_type": "code",
   "execution_count": 23,
   "metadata": {},
   "outputs": [
    {
     "name": "stdout",
     "output_type": "stream",
     "text": [
      "{}\n"
     ]
    }
   ],
   "source": [
    "#puraii tuple naii delete gardincha\n",
    "del dict_b['luzza']\n",
    "print(dict_b)"
   ]
  },
  {
   "attachments": {},
   "cell_type": "markdown",
   "metadata": {},
   "source": [
    "- Remove all key-value pairs using `clear()` method."
   ]
  },
  {
   "cell_type": "code",
   "execution_count": 26,
   "metadata": {},
   "outputs": [
    {
     "name": "stdout",
     "output_type": "stream",
     "text": [
      "('key2', 30)\n"
     ]
    }
   ],
   "source": [
    "#sabai key ra value udaidincha\n",
    "dict_a={'key1':100, 'key2':30}\n",
    "key= dict_a.popitem()\n",
    "print(key)"
   ]
  },
  {
   "attachments": {},
   "cell_type": "markdown",
   "metadata": {},
   "source": [
    "- Get key-value pairs as tuples in list using `items()`."
   ]
  }
 ],
 "metadata": {
  "kernelspec": {
   "display_name": "base",
   "language": "python",
   "name": "python3"
  },
  "language_info": {
   "codemirror_mode": {
    "name": "ipython",
    "version": 3
   },
   "file_extension": ".py",
   "mimetype": "text/x-python",
   "name": "python",
   "nbconvert_exporter": "python",
   "pygments_lexer": "ipython3",
   "version": "3.10.9"
  },
  "orig_nbformat": 4
 },
 "nbformat": 4,
 "nbformat_minor": 2
}
