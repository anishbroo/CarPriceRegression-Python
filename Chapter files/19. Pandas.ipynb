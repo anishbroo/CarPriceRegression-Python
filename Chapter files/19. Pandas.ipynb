{
 "cells": [
  {
   "attachments": {},
   "cell_type": "markdown",
   "metadata": {},
   "source": [
    "## `Pandas`\n",
    "- used for cleaning, exploring, manipulating and analyzing the data."
   ]
  },
  {
   "attachments": {},
   "cell_type": "markdown",
   "metadata": {},
   "source": [
    "#### &emsp;`why to use?`\n",
    "- &emsp;&emsp; can analyze huge amount of data and derive statistical inferences.\n",
    "- &emsp;&emsp; transforms messy data into readable and relevant."
   ]
  },
  {
   "attachments": {},
   "cell_type": "markdown",
   "metadata": {},
   "source": [
    "#### &emsp; `Package installation`\n",
    "```python\n",
    "    # Type\n",
    "    pip install pandas\n",
    "    # in command prompt after activating the environment.\n",
    "```"
   ]
  },
  {
   "cell_type": "code",
   "execution_count": 1,
   "metadata": {},
   "outputs": [
    {
     "name": "stdout",
     "output_type": "stream",
     "text": [
      "1.5.3\n"
     ]
    }
   ],
   "source": [
    "# import in file to use its features.\n",
    "import pandas as pd\n",
    "\n",
    "# check version\n",
    "print(pd.__version__)"
   ]
  },
  {
   "attachments": {},
   "cell_type": "markdown",
   "metadata": {},
   "source": [
    "#### `Datatypes`\n",
    "- Series\n",
    "- Dataframe"
   ]
  },
  {
   "attachments": {},
   "cell_type": "markdown",
   "metadata": {},
   "source": [
    "### `Series`\n",
    "- like a column in table.\n",
    "- can hold data of any type.\n",
    "- can hold 1-D array."
   ]
  },
  {
   "attachments": {},
   "cell_type": "markdown",
   "metadata": {},
   "source": [
    "#### `Create series from list`"
   ]
  },
  {
   "cell_type": "code",
   "execution_count": 1,
   "metadata": {},
   "outputs": [
    {
     "name": "stdout",
     "output_type": "stream",
     "text": [
      "<class 'list'>\n",
      "<class 'pandas.core.series.Series'>\n",
      "0    1\n",
      "1    2\n",
      "2    3\n",
      "dtype: int64\n"
     ]
    }
   ],
   "source": [
    "import pandas as pd\n",
    "arr = [1, 2, 3]\n",
    "print(type(arr))\n",
    "series_1 = pd.Series(arr)\n",
    "\n",
    "print(type(series_1))\n",
    "print(series_1)"
   ]
  },
  {
   "attachments": {},
   "cell_type": "markdown",
   "metadata": {},
   "source": [
    "#### `Labels`\n",
    "- If no labels are provided to the values, they are indexed with index number.\n",
    "- The values can be annotated with labels explicitly\n",
    "- Values can be accessed using index or labels (if provided)."
   ]
  },
  {
   "attachments": {},
   "cell_type": "markdown",
   "metadata": {},
   "source": [
    "#### `Create series from list along with labels.`"
   ]
  },
  {
   "cell_type": "code",
   "execution_count": 4,
   "metadata": {},
   "outputs": [
    {
     "name": "stdout",
     "output_type": "stream",
     "text": [
      "<class 'pandas.core.series.Series'>\n",
      "first     1\n",
      "second    2\n",
      "third     3\n",
      "dtype: int64\n"
     ]
    }
   ],
   "source": [
    "arr = [1, 2, 3]\n",
    "labels = ['first', 'second', 'third']\n",
    "series_2 = pd.Series(arr, index=labels)\n",
    "\n",
    "print(type(series_2))\n",
    "print(series_2)"
   ]
  },
  {
   "attachments": {},
   "cell_type": "markdown",
   "metadata": {},
   "source": [
    "#### `Access values`"
   ]
  },
  {
   "cell_type": "code",
   "execution_count": 5,
   "metadata": {},
   "outputs": [
    {
     "name": "stdout",
     "output_type": "stream",
     "text": [
      "first value of series_1: 1\n",
      "first value of series_2: 1\n"
     ]
    }
   ],
   "source": [
    "print(f\"first value of series_1: {series_1[0]}\")\n",
    "\n",
    "print(f\"first value of series_2: {series_2['first']}\")"
   ]
  },
  {
   "attachments": {},
   "cell_type": "markdown",
   "metadata": {},
   "source": [
    "#### `Create series from dictionary`"
   ]
  },
  {
   "cell_type": "code",
   "execution_count": 6,
   "metadata": {},
   "outputs": [
    {
     "name": "stdout",
     "output_type": "stream",
     "text": [
      "Kathmandu    1234\n",
      "Pokhara      2345\n",
      "Dharan       3456\n",
      "dtype: int64\n"
     ]
    }
   ],
   "source": [
    "places_area = {'Kathmandu':1234, 'Pokhara':2345, 'Dharan':3456}\n",
    "\n",
    "series_3 = pd.Series(places_area)\n",
    "print(series_3)\n",
    "\n",
    "# keys in dictionary becomes labels in series"
   ]
  },
  {
   "attachments": {},
   "cell_type": "markdown",
   "metadata": {},
   "source": [
    "#### `Create series from subset of dictionary`"
   ]
  },
  {
   "cell_type": "code",
   "execution_count": 7,
   "metadata": {},
   "outputs": [
    {
     "name": "stdout",
     "output_type": "stream",
     "text": [
      "Kathmandu    1234\n",
      "Pokhara      2345\n",
      "dtype: int64\n"
     ]
    }
   ],
   "source": [
    "places_area = {'Kathmandu':1234, 'Pokhara':2345, 'Dharan':3456}\n",
    "\n",
    "series_4 = pd.Series(places_area, index=['Kathmandu', 'Pokhara'])\n",
    "print(series_4)"
   ]
  },
  {
   "attachments": {},
   "cell_type": "markdown",
   "metadata": {},
   "source": [
    "### `DataFrame`\n",
    "- like a table.\n",
    "- 2-D data structure having rows and columns."
   ]
  },
  {
   "attachments": {},
   "cell_type": "markdown",
   "metadata": {},
   "source": [
    "#### `Create a dataframe from dictionary`"
   ]
  },
  {
   "cell_type": "code",
   "execution_count": 8,
   "metadata": {},
   "outputs": [
    {
     "name": "stdout",
     "output_type": "stream",
     "text": [
      "   english  math  science  computer\n",
      "0       50    51       80        90\n",
      "1       60    53       81        91\n",
      "2       70    55       82        92\n",
      "3       80    52       83        93\n",
      "4       90    50       84        94\n"
     ]
    }
   ],
   "source": [
    "subject_marks = {\n",
    "    'english' : [50, 60, 70, 80 , 90],\n",
    "    'math' : [51, 53, 55, 52, 50],\n",
    "    'science' : [80, 81, 82, 83, 84],\n",
    "    'computer' : [90, 91, 92, 93, 94]\n",
    "}\n",
    "\n",
    "df = pd.DataFrame(subject_marks)\n",
    "print(df)"
   ]
  },
  {
   "attachments": {},
   "cell_type": "markdown",
   "metadata": {},
   "source": [
    "#### `Locate rows in DataFrame`\n",
    "- uses `loc` attribute to get rows"
   ]
  },
  {
   "cell_type": "code",
   "execution_count": 9,
   "metadata": {},
   "outputs": [
    {
     "name": "stdout",
     "output_type": "stream",
     "text": [
      "<class 'pandas.core.series.Series'>\n",
      "english     50\n",
      "math        51\n",
      "science     80\n",
      "computer    90\n",
      "Name: 0, dtype: int64\n"
     ]
    }
   ],
   "source": [
    "# integer as index\n",
    "row = df.loc[0]\n",
    "print(type(row))\n",
    "print(row)"
   ]
  },
  {
   "cell_type": "code",
   "execution_count": 10,
   "metadata": {},
   "outputs": [
    {
     "name": "stdout",
     "output_type": "stream",
     "text": [
      "<class 'pandas.core.frame.DataFrame'>\n",
      "   english  math  science  computer\n",
      "0       50    51       80        90\n"
     ]
    }
   ],
   "source": [
    "# list as index\n",
    "row = df.loc[[0]]\n",
    "print(type(row))\n",
    "print(row)"
   ]
  },
  {
   "attachments": {},
   "cell_type": "markdown",
   "metadata": {},
   "source": [
    "#### `Named Indexes`"
   ]
  },
  {
   "cell_type": "code",
   "execution_count": 11,
   "metadata": {},
   "outputs": [
    {
     "name": "stdout",
     "output_type": "stream",
     "text": [
      "          english  math  science  computer\n",
      "student1       50    51       80        90\n",
      "student2       60    53       81        91\n",
      "student3       70    55       82        92\n",
      "student4       80    52       83        93\n",
      "student5       90    50       84        94\n"
     ]
    }
   ],
   "source": [
    "# Create a dataframe from dictionary\n",
    "subject_marks = {\n",
    "    'english' : [50, 60, 70, 80 , 90],\n",
    "    'math' : [51, 53, 55, 52, 50],\n",
    "    'science' : [80, 81, 82, 83, 84],\n",
    "    'computer' : [90, 91, 92, 93, 94]\n",
    "}\n",
    "\n",
    "labels = ['student1','student2','student3','student4','student5']\n",
    "\n",
    "df = pd.DataFrame(subject_marks, index=labels)\n",
    "print(df)"
   ]
  },
  {
   "attachments": {},
   "cell_type": "markdown",
   "metadata": {},
   "source": [
    "#### `Access rows using labels`"
   ]
  },
  {
   "cell_type": "code",
   "execution_count": 12,
   "metadata": {},
   "outputs": [
    {
     "name": "stdout",
     "output_type": "stream",
     "text": [
      "<class 'pandas.core.series.Series'>\n",
      "english     50\n",
      "math        51\n",
      "science     80\n",
      "computer    90\n",
      "Name: student1, dtype: int64\n"
     ]
    }
   ],
   "source": [
    "row = df.loc['student1']\n",
    "print(type(row))\n",
    "print(row)"
   ]
  },
  {
   "cell_type": "code",
   "execution_count": 13,
   "metadata": {},
   "outputs": [
    {
     "name": "stdout",
     "output_type": "stream",
     "text": [
      "<class 'pandas.core.frame.DataFrame'>\n",
      "          english  math  science  computer\n",
      "student1       50    51       80        90\n"
     ]
    }
   ],
   "source": [
    "row = df.loc[['student1']]\n",
    "print(type(row))\n",
    "print(row)"
   ]
  },
  {
   "attachments": {},
   "cell_type": "markdown",
   "metadata": {},
   "source": [
    "#### `Access columns using column names`"
   ]
  },
  {
   "cell_type": "code",
   "execution_count": 14,
   "metadata": {},
   "outputs": [
    {
     "name": "stdout",
     "output_type": "stream",
     "text": [
      "Before adding column(s)\n",
      " Index(['english', 'math', 'science', 'computer'], dtype='object')\n"
     ]
    }
   ],
   "source": [
    "# List out the names of columns in dataframe\n",
    "print('Before adding column(s)\\n', df.columns)"
   ]
  },
  {
   "cell_type": "code",
   "execution_count": 5,
   "metadata": {},
   "outputs": [
    {
     "ename": "NameError",
     "evalue": "name 'df' is not defined",
     "output_type": "error",
     "traceback": [
      "\u001b[1;31m---------------------------------------------------------------------------\u001b[0m",
      "\u001b[1;31mNameError\u001b[0m                                 Traceback (most recent call last)",
      "Cell \u001b[1;32mIn[5], line 2\u001b[0m\n\u001b[0;32m      1\u001b[0m \u001b[39m# Adding column for subject 'social'\u001b[39;00m\n\u001b[1;32m----> 2\u001b[0m df[\u001b[39m'\u001b[39m\u001b[39msocial\u001b[39m\u001b[39m'\u001b[39m] \u001b[39m=\u001b[39m [\u001b[39m1\u001b[39m, \u001b[39m2\u001b[39m, \u001b[39m3\u001b[39m, \u001b[39m4\u001b[39m, \u001b[39m5\u001b[39m]\n\u001b[0;32m      3\u001b[0m \u001b[39mprint\u001b[39m(\u001b[39m'\u001b[39m\u001b[39mAfter adding column(s)\u001b[39m\u001b[39m\\n\u001b[39;00m\u001b[39m'\u001b[39m, df\u001b[39m.\u001b[39mcolumns)\n",
      "\u001b[1;31mNameError\u001b[0m: name 'df' is not defined"
     ]
    }
   ],
   "source": [
    "# Adding column for subject 'social'\n",
    "df['social'] = [1, 2, 3, 4, 5]\n",
    "print('After adding column(s)\\n', df.columns)"
   ]
  },
  {
   "cell_type": "code",
   "execution_count": 16,
   "metadata": {},
   "outputs": [
    {
     "data": {
      "text/html": [
       "<div>\n",
       "<style scoped>\n",
       "    .dataframe tbody tr th:only-of-type {\n",
       "        vertical-align: middle;\n",
       "    }\n",
       "\n",
       "    .dataframe tbody tr th {\n",
       "        vertical-align: top;\n",
       "    }\n",
       "\n",
       "    .dataframe thead th {\n",
       "        text-align: right;\n",
       "    }\n",
       "</style>\n",
       "<table border=\"1\" class=\"dataframe\">\n",
       "  <thead>\n",
       "    <tr style=\"text-align: right;\">\n",
       "      <th></th>\n",
       "      <th>english</th>\n",
       "      <th>math</th>\n",
       "      <th>science</th>\n",
       "      <th>computer</th>\n",
       "      <th>social</th>\n",
       "    </tr>\n",
       "  </thead>\n",
       "  <tbody>\n",
       "    <tr>\n",
       "      <th>student1</th>\n",
       "      <td>50</td>\n",
       "      <td>51</td>\n",
       "      <td>80</td>\n",
       "      <td>90</td>\n",
       "      <td>1</td>\n",
       "    </tr>\n",
       "    <tr>\n",
       "      <th>student2</th>\n",
       "      <td>60</td>\n",
       "      <td>53</td>\n",
       "      <td>81</td>\n",
       "      <td>91</td>\n",
       "      <td>2</td>\n",
       "    </tr>\n",
       "    <tr>\n",
       "      <th>student3</th>\n",
       "      <td>70</td>\n",
       "      <td>55</td>\n",
       "      <td>82</td>\n",
       "      <td>92</td>\n",
       "      <td>3</td>\n",
       "    </tr>\n",
       "    <tr>\n",
       "      <th>student4</th>\n",
       "      <td>80</td>\n",
       "      <td>52</td>\n",
       "      <td>83</td>\n",
       "      <td>93</td>\n",
       "      <td>4</td>\n",
       "    </tr>\n",
       "    <tr>\n",
       "      <th>student5</th>\n",
       "      <td>90</td>\n",
       "      <td>50</td>\n",
       "      <td>84</td>\n",
       "      <td>94</td>\n",
       "      <td>5</td>\n",
       "    </tr>\n",
       "  </tbody>\n",
       "</table>\n",
       "</div>"
      ],
      "text/plain": [
       "          english  math  science  computer  social\n",
       "student1       50    51       80        90       1\n",
       "student2       60    53       81        91       2\n",
       "student3       70    55       82        92       3\n",
       "student4       80    52       83        93       4\n",
       "student5       90    50       84        94       5"
      ]
     },
     "execution_count": 16,
     "metadata": {},
     "output_type": "execute_result"
    }
   ],
   "source": [
    "df.head()"
   ]
  },
  {
   "attachments": {},
   "cell_type": "markdown",
   "metadata": {},
   "source": [
    "#### `Find n-largest and n-smallest values in columns`"
   ]
  },
  {
   "cell_type": "code",
   "execution_count": 18,
   "metadata": {},
   "outputs": [
    {
     "name": "stdout",
     "output_type": "stream",
     "text": [
      "          english  math  science  computer  social\n",
      "student5       90    50       84        94       5\n",
      "student4       80    52       83        93       4\n",
      "student3       70    55       82        92       3\n"
     ]
    }
   ],
   "source": [
    "# find n-number of largest values based on particular column\n",
    "print(df.nlargest(3, ['english']))"
   ]
  },
  {
   "cell_type": "code",
   "execution_count": 19,
   "metadata": {},
   "outputs": [
    {
     "name": "stdout",
     "output_type": "stream",
     "text": [
      "          english  math  science  computer  social\n",
      "student1       50    51       80        90       1\n",
      "student2       60    53       81        91       2\n",
      "student3       70    55       82        92       3\n"
     ]
    }
   ],
   "source": [
    "# find n-number of largest values based on particular column\n",
    "print(df.nsmallest(3, ['english']))"
   ]
  },
  {
   "attachments": {},
   "cell_type": "markdown",
   "metadata": {},
   "source": [
    "#### `Convert dataframe into numpy array`"
   ]
  },
  {
   "cell_type": "code",
   "execution_count": 20,
   "metadata": {},
   "outputs": [
    {
     "data": {
      "text/html": [
       "<div>\n",
       "<style scoped>\n",
       "    .dataframe tbody tr th:only-of-type {\n",
       "        vertical-align: middle;\n",
       "    }\n",
       "\n",
       "    .dataframe tbody tr th {\n",
       "        vertical-align: top;\n",
       "    }\n",
       "\n",
       "    .dataframe thead th {\n",
       "        text-align: right;\n",
       "    }\n",
       "</style>\n",
       "<table border=\"1\" class=\"dataframe\">\n",
       "  <thead>\n",
       "    <tr style=\"text-align: right;\">\n",
       "      <th></th>\n",
       "      <th>a</th>\n",
       "      <th>b</th>\n",
       "      <th>c</th>\n",
       "    </tr>\n",
       "  </thead>\n",
       "  <tbody>\n",
       "    <tr>\n",
       "      <th>0</th>\n",
       "      <td>1</td>\n",
       "      <td>2</td>\n",
       "      <td>3</td>\n",
       "    </tr>\n",
       "    <tr>\n",
       "      <th>1</th>\n",
       "      <td>4</td>\n",
       "      <td>5</td>\n",
       "      <td>6</td>\n",
       "    </tr>\n",
       "    <tr>\n",
       "      <th>2</th>\n",
       "      <td>7</td>\n",
       "      <td>8</td>\n",
       "      <td>9</td>\n",
       "    </tr>\n",
       "    <tr>\n",
       "      <th>3</th>\n",
       "      <td>10</td>\n",
       "      <td>11</td>\n",
       "      <td>12</td>\n",
       "    </tr>\n",
       "  </tbody>\n",
       "</table>\n",
       "</div>"
      ],
      "text/plain": [
       "    a   b   c\n",
       "0   1   2   3\n",
       "1   4   5   6\n",
       "2   7   8   9\n",
       "3  10  11  12"
      ]
     },
     "execution_count": 20,
     "metadata": {},
     "output_type": "execute_result"
    }
   ],
   "source": [
    "import pandas as pd\n",
    " \n",
    "# initialize a dataframe\n",
    "df = pd.DataFrame(\n",
    "        [[1, 2, 3],\n",
    "        [4, 5, 6],\n",
    "        [7, 8, 9],\n",
    "        [10, 11, 12]],\n",
    "        columns=['a', 'b', 'c']\n",
    "    )\n",
    "df.head()"
   ]
  },
  {
   "cell_type": "code",
   "execution_count": 21,
   "metadata": {},
   "outputs": [
    {
     "name": "stdout",
     "output_type": "stream",
     "text": [
      "Numpy Array \n",
      " [[ 1  2  3]\n",
      " [ 4  5  6]\n",
      " [ 7  8  9]\n",
      " [10 11 12]]\n",
      "Type of array:  <class 'numpy.ndarray'>\n",
      "Type of elements:  int64\n"
     ]
    }
   ],
   "source": [
    "# convert dataframe to numpy array\n",
    "arr = df.to_numpy()\n",
    " \n",
    "print('Numpy Array \\n', arr)\n",
    "print('Type of array: ', type(arr))\n",
    "print('Type of elements: ', arr.dtype)"
   ]
  },
  {
   "cell_type": "code",
   "execution_count": 22,
   "metadata": {},
   "outputs": [
    {
     "name": "stdout",
     "output_type": "stream",
     "text": [
      "Numpy Array \n",
      " [ 1  4  7 10]\n",
      "Type of array:  <class 'numpy.ndarray'>\n",
      "Type of elements:  int64\n"
     ]
    }
   ],
   "source": [
    "# creating series using column of dataframe\n",
    "series = pd.Series(df['a'].head())\n",
    "arr = series.to_numpy()\n",
    "\n",
    "print('Numpy Array \\n', arr)\n",
    "print('Type of array: ', type(arr))\n",
    "print('Type of elements: ', arr.dtype)"
   ]
  },
  {
   "attachments": {},
   "cell_type": "markdown",
   "metadata": {},
   "source": [
    "#### `Load Data from CSV file`\n",
    "- uses pd.read_csv() to load into dataframe."
   ]
  },
  {
   "cell_type": "code",
   "execution_count": 5,
   "metadata": {},
   "outputs": [],
   "source": [
    "import pandas as pd\n",
    "# Load csv data as DataFrame\n",
    "df = pd.read_csv('./csv_files/organizations-10000.csv')"
   ]
  },
  {
   "cell_type": "code",
   "execution_count": 6,
   "metadata": {},
   "outputs": [],
   "source": [
    "# Remove any of the column using column name\n",
    "import pandas as pd\n",
    "df = df.drop(['Index'], axis=1)"
   ]
  },
  {
   "cell_type": "code",
   "execution_count": 7,
   "metadata": {},
   "outputs": [
    {
     "data": {
      "text/html": [
       "<div>\n",
       "<style scoped>\n",
       "    .dataframe tbody tr th:only-of-type {\n",
       "        vertical-align: middle;\n",
       "    }\n",
       "\n",
       "    .dataframe tbody tr th {\n",
       "        vertical-align: top;\n",
       "    }\n",
       "\n",
       "    .dataframe thead th {\n",
       "        text-align: right;\n",
       "    }\n",
       "</style>\n",
       "<table border=\"1\" class=\"dataframe\">\n",
       "  <thead>\n",
       "    <tr style=\"text-align: right;\">\n",
       "      <th></th>\n",
       "      <th>Founded</th>\n",
       "      <th>Number of employees</th>\n",
       "    </tr>\n",
       "  </thead>\n",
       "  <tbody>\n",
       "    <tr>\n",
       "      <th>count</th>\n",
       "      <td>10000.000000</td>\n",
       "      <td>10000.000000</td>\n",
       "    </tr>\n",
       "    <tr>\n",
       "      <th>mean</th>\n",
       "      <td>1995.776700</td>\n",
       "      <td>4961.321000</td>\n",
       "    </tr>\n",
       "    <tr>\n",
       "      <th>std</th>\n",
       "      <td>14.991608</td>\n",
       "      <td>2911.862096</td>\n",
       "    </tr>\n",
       "    <tr>\n",
       "      <th>min</th>\n",
       "      <td>1970.000000</td>\n",
       "      <td>1.000000</td>\n",
       "    </tr>\n",
       "    <tr>\n",
       "      <th>25%</th>\n",
       "      <td>1983.000000</td>\n",
       "      <td>2446.750000</td>\n",
       "    </tr>\n",
       "    <tr>\n",
       "      <th>50%</th>\n",
       "      <td>1996.000000</td>\n",
       "      <td>4894.000000</td>\n",
       "    </tr>\n",
       "    <tr>\n",
       "      <th>75%</th>\n",
       "      <td>2009.000000</td>\n",
       "      <td>7530.000000</td>\n",
       "    </tr>\n",
       "    <tr>\n",
       "      <th>max</th>\n",
       "      <td>2022.000000</td>\n",
       "      <td>9999.000000</td>\n",
       "    </tr>\n",
       "  </tbody>\n",
       "</table>\n",
       "</div>"
      ],
      "text/plain": [
       "            Founded  Number of employees\n",
       "count  10000.000000         10000.000000\n",
       "mean    1995.776700          4961.321000\n",
       "std       14.991608          2911.862096\n",
       "min     1970.000000             1.000000\n",
       "25%     1983.000000          2446.750000\n",
       "50%     1996.000000          4894.000000\n",
       "75%     2009.000000          7530.000000\n",
       "max     2022.000000          9999.000000"
      ]
     },
     "execution_count": 7,
     "metadata": {},
     "output_type": "execute_result"
    }
   ],
   "source": [
    "# statistical information of dataframe    #statictical data dincha int ma bhako ko\n",
    "df.describe()"
   ]
  },
  {
   "cell_type": "code",
   "execution_count": 8,
   "metadata": {},
   "outputs": [
    {
     "name": "stdout",
     "output_type": "stream",
     "text": [
      "<class 'pandas.core.frame.DataFrame'>\n",
      "RangeIndex: 10000 entries, 0 to 9999\n",
      "Data columns (total 8 columns):\n",
      " #   Column               Non-Null Count  Dtype \n",
      "---  ------               --------------  ----- \n",
      " 0   Organization Id      10000 non-null  object\n",
      " 1   Name                 10000 non-null  object\n",
      " 2   Website              10000 non-null  object\n",
      " 3   Country              10000 non-null  object\n",
      " 4   Description          10000 non-null  object\n",
      " 5   Founded              10000 non-null  int64 \n",
      " 6   Industry             10000 non-null  object\n",
      " 7   Number of employees  10000 non-null  int64 \n",
      "dtypes: int64(2), object(6)\n",
      "memory usage: 625.1+ KB\n"
     ]
    }
   ],
   "source": [
    "# Datatype, count, and non-null information\n",
    "df.info()           #gives info of each col "
   ]
  },
  {
   "cell_type": "code",
   "execution_count": 9,
   "metadata": {},
   "outputs": [
    {
     "data": {
      "text/html": [
       "<div>\n",
       "<style scoped>\n",
       "    .dataframe tbody tr th:only-of-type {\n",
       "        vertical-align: middle;\n",
       "    }\n",
       "\n",
       "    .dataframe tbody tr th {\n",
       "        vertical-align: top;\n",
       "    }\n",
       "\n",
       "    .dataframe thead th {\n",
       "        text-align: right;\n",
       "    }\n",
       "</style>\n",
       "<table border=\"1\" class=\"dataframe\">\n",
       "  <thead>\n",
       "    <tr style=\"text-align: right;\">\n",
       "      <th></th>\n",
       "      <th>Organization Id</th>\n",
       "      <th>Name</th>\n",
       "      <th>Website</th>\n",
       "      <th>Country</th>\n",
       "      <th>Description</th>\n",
       "      <th>Founded</th>\n",
       "      <th>Industry</th>\n",
       "      <th>Number of employees</th>\n",
       "    </tr>\n",
       "  </thead>\n",
       "  <tbody>\n",
       "    <tr>\n",
       "      <th>0</th>\n",
       "      <td>522816eF8fdBE6d</td>\n",
       "      <td>Mckinney PLC</td>\n",
       "      <td>http://soto.com/</td>\n",
       "      <td>Sri Lanka</td>\n",
       "      <td>Synergized global system engine</td>\n",
       "      <td>1988</td>\n",
       "      <td>Dairy</td>\n",
       "      <td>3930</td>\n",
       "    </tr>\n",
       "    <tr>\n",
       "      <th>1</th>\n",
       "      <td>70C7FBD7e6Aa3Ea</td>\n",
       "      <td>Cunningham LLC</td>\n",
       "      <td>http://harding-duffy.com/</td>\n",
       "      <td>Namibia</td>\n",
       "      <td>Team-oriented fault-tolerant adapter</td>\n",
       "      <td>2018</td>\n",
       "      <td>Library</td>\n",
       "      <td>7871</td>\n",
       "    </tr>\n",
       "    <tr>\n",
       "      <th>2</th>\n",
       "      <td>428B397eA2d7290</td>\n",
       "      <td>Ruiz-Walls</td>\n",
       "      <td>http://www.atkins.biz/</td>\n",
       "      <td>Iran</td>\n",
       "      <td>Re-contextualized bifurcated moderator</td>\n",
       "      <td>2003</td>\n",
       "      <td>Hospital / Health Care</td>\n",
       "      <td>3095</td>\n",
       "    </tr>\n",
       "    <tr>\n",
       "      <th>3</th>\n",
       "      <td>9D234Ae8Cc51C1c</td>\n",
       "      <td>Parrish, Osborne and Clarke</td>\n",
       "      <td>http://salazar.info/</td>\n",
       "      <td>British Indian Ocean Territory (Chagos Archipe...</td>\n",
       "      <td>Fully-configurable next generation concept</td>\n",
       "      <td>1989</td>\n",
       "      <td>Supermarkets</td>\n",
       "      <td>5422</td>\n",
       "    </tr>\n",
       "    <tr>\n",
       "      <th>4</th>\n",
       "      <td>6CDCcdE3D0b7b44</td>\n",
       "      <td>Diaz, Robles and Haley</td>\n",
       "      <td>https://www.brooks-scott.net/</td>\n",
       "      <td>Botswana</td>\n",
       "      <td>Inverse intangible methodology</td>\n",
       "      <td>2013</td>\n",
       "      <td>Nanotechnology</td>\n",
       "      <td>3135</td>\n",
       "    </tr>\n",
       "  </tbody>\n",
       "</table>\n",
       "</div>"
      ],
      "text/plain": [
       "   Organization Id                         Name  \\\n",
       "0  522816eF8fdBE6d                 Mckinney PLC   \n",
       "1  70C7FBD7e6Aa3Ea               Cunningham LLC   \n",
       "2  428B397eA2d7290                   Ruiz-Walls   \n",
       "3  9D234Ae8Cc51C1c  Parrish, Osborne and Clarke   \n",
       "4  6CDCcdE3D0b7b44       Diaz, Robles and Haley   \n",
       "\n",
       "                         Website  \\\n",
       "0               http://soto.com/   \n",
       "1      http://harding-duffy.com/   \n",
       "2         http://www.atkins.biz/   \n",
       "3           http://salazar.info/   \n",
       "4  https://www.brooks-scott.net/   \n",
       "\n",
       "                                             Country  \\\n",
       "0                                          Sri Lanka   \n",
       "1                                            Namibia   \n",
       "2                                               Iran   \n",
       "3  British Indian Ocean Territory (Chagos Archipe...   \n",
       "4                                           Botswana   \n",
       "\n",
       "                                  Description  Founded  \\\n",
       "0             Synergized global system engine     1988   \n",
       "1        Team-oriented fault-tolerant adapter     2018   \n",
       "2      Re-contextualized bifurcated moderator     2003   \n",
       "3  Fully-configurable next generation concept     1989   \n",
       "4              Inverse intangible methodology     2013   \n",
       "\n",
       "                 Industry  Number of employees  \n",
       "0                   Dairy                 3930  \n",
       "1                 Library                 7871  \n",
       "2  Hospital / Health Care                 3095  \n",
       "3            Supermarkets                 5422  \n",
       "4          Nanotechnology                 3135  "
      ]
     },
     "execution_count": 9,
     "metadata": {},
     "output_type": "execute_result"
    }
   ],
   "source": [
    "# first 5 rows\n",
    "df.head()"
   ]
  },
  {
   "cell_type": "code",
   "execution_count": 10,
   "metadata": {},
   "outputs": [
    {
     "data": {
      "text/html": [
       "<div>\n",
       "<style scoped>\n",
       "    .dataframe tbody tr th:only-of-type {\n",
       "        vertical-align: middle;\n",
       "    }\n",
       "\n",
       "    .dataframe tbody tr th {\n",
       "        vertical-align: top;\n",
       "    }\n",
       "\n",
       "    .dataframe thead th {\n",
       "        text-align: right;\n",
       "    }\n",
       "</style>\n",
       "<table border=\"1\" class=\"dataframe\">\n",
       "  <thead>\n",
       "    <tr style=\"text-align: right;\">\n",
       "      <th></th>\n",
       "      <th>Organization Id</th>\n",
       "      <th>Name</th>\n",
       "      <th>Website</th>\n",
       "      <th>Country</th>\n",
       "      <th>Description</th>\n",
       "      <th>Founded</th>\n",
       "      <th>Industry</th>\n",
       "      <th>Number of employees</th>\n",
       "    </tr>\n",
       "  </thead>\n",
       "  <tbody>\n",
       "    <tr>\n",
       "      <th>9995</th>\n",
       "      <td>2EE82AD1Cd045cd</td>\n",
       "      <td>Neal, Day and Wang</td>\n",
       "      <td>https://carson.net/</td>\n",
       "      <td>San Marino</td>\n",
       "      <td>Team-oriented multimedia core</td>\n",
       "      <td>2013</td>\n",
       "      <td>Import / Export</td>\n",
       "      <td>6123</td>\n",
       "    </tr>\n",
       "    <tr>\n",
       "      <th>9996</th>\n",
       "      <td>06f1568A2CaF04a</td>\n",
       "      <td>Barrett, Rojas and Adkins</td>\n",
       "      <td>https://douglas-garza.com/</td>\n",
       "      <td>Turkmenistan</td>\n",
       "      <td>Cross-group dedicated methodology</td>\n",
       "      <td>2018</td>\n",
       "      <td>Human Resources / HR</td>\n",
       "      <td>9043</td>\n",
       "    </tr>\n",
       "    <tr>\n",
       "      <th>9997</th>\n",
       "      <td>B4B92A44e0331Bc</td>\n",
       "      <td>Franklin-Ayala</td>\n",
       "      <td>http://www.torres.org/</td>\n",
       "      <td>Yemen</td>\n",
       "      <td>Polarized exuding orchestration</td>\n",
       "      <td>1983</td>\n",
       "      <td>Financial Services</td>\n",
       "      <td>8951</td>\n",
       "    </tr>\n",
       "    <tr>\n",
       "      <th>9998</th>\n",
       "      <td>01D2539e270CEbd</td>\n",
       "      <td>Wolfe-Mckee</td>\n",
       "      <td>http://www.parks.com/</td>\n",
       "      <td>Togo</td>\n",
       "      <td>Balanced value-added ability</td>\n",
       "      <td>1975</td>\n",
       "      <td>Environmental Services</td>\n",
       "      <td>2505</td>\n",
       "    </tr>\n",
       "    <tr>\n",
       "      <th>9999</th>\n",
       "      <td>0D3b7DcFA21d92d</td>\n",
       "      <td>Beck LLC</td>\n",
       "      <td>https://wagner-glover.com/</td>\n",
       "      <td>Georgia</td>\n",
       "      <td>Decentralized context-sensitive service-desk</td>\n",
       "      <td>2007</td>\n",
       "      <td>Wireless</td>\n",
       "      <td>4552</td>\n",
       "    </tr>\n",
       "  </tbody>\n",
       "</table>\n",
       "</div>"
      ],
      "text/plain": [
       "      Organization Id                       Name                     Website  \\\n",
       "9995  2EE82AD1Cd045cd         Neal, Day and Wang         https://carson.net/   \n",
       "9996  06f1568A2CaF04a  Barrett, Rojas and Adkins  https://douglas-garza.com/   \n",
       "9997  B4B92A44e0331Bc             Franklin-Ayala      http://www.torres.org/   \n",
       "9998  01D2539e270CEbd                Wolfe-Mckee       http://www.parks.com/   \n",
       "9999  0D3b7DcFA21d92d                   Beck LLC  https://wagner-glover.com/   \n",
       "\n",
       "           Country                                   Description  Founded  \\\n",
       "9995    San Marino                 Team-oriented multimedia core     2013   \n",
       "9996  Turkmenistan             Cross-group dedicated methodology     2018   \n",
       "9997         Yemen               Polarized exuding orchestration     1983   \n",
       "9998          Togo                  Balanced value-added ability     1975   \n",
       "9999       Georgia  Decentralized context-sensitive service-desk     2007   \n",
       "\n",
       "                    Industry  Number of employees  \n",
       "9995         Import / Export                 6123  \n",
       "9996    Human Resources / HR                 9043  \n",
       "9997      Financial Services                 8951  \n",
       "9998  Environmental Services                 2505  \n",
       "9999                Wireless                 4552  "
      ]
     },
     "execution_count": 10,
     "metadata": {},
     "output_type": "execute_result"
    }
   ],
   "source": [
    "# last 5 rows\n",
    "df.tail()"
   ]
  },
  {
   "cell_type": "code",
   "execution_count": 11,
   "metadata": {},
   "outputs": [
    {
     "data": {
      "text/plain": [
       "10000"
      ]
     },
     "execution_count": 11,
     "metadata": {},
     "output_type": "execute_result"
    }
   ],
   "source": [
    "# Remove rows with empty cell returning new dataframe\n",
    "new_df = df.dropna()        #nan bhako row val remove garnalai \n",
    "len(new_df)"
   ]
  },
  {
   "cell_type": "code",
   "execution_count": null,
   "metadata": {},
   "outputs": [],
   "source": [
    "# Remove rows with empty cell making change in original dataframe\n",
    "df.dropna(inplace=True)             "
   ]
  },
  {
   "cell_type": "code",
   "execution_count": null,
   "metadata": {},
   "outputs": [],
   "source": [
    "# Removing rows with empty cell of particular column\n",
    "df.dropna(subset=['Website'], inplace=True)"
   ]
  },
  {
   "cell_type": "code",
   "execution_count": null,
   "metadata": {},
   "outputs": [],
   "source": [
    "# replace all the NaN values in dataframe\n",
    "df.fillna(0, inplace=True)"
   ]
  },
  {
   "cell_type": "code",
   "execution_count": null,
   "metadata": {},
   "outputs": [],
   "source": [
    "# replace the NaN values of particular column\n",
    "df['Country'].fillna(0, inplace=True)"
   ]
  },
  {
   "cell_type": "code",
   "execution_count": null,
   "metadata": {},
   "outputs": [],
   "source": [
    "# Replace statistical values: mean, median, mode\n",
    "num_emp_mean = df['Number of employees'].mean()\n",
    "df['Number of employees'].fillna(num_emp_mean, inplace=True)"
   ]
  },
  {
   "cell_type": "code",
   "execution_count": null,
   "metadata": {},
   "outputs": [],
   "source": [
    "df"
   ]
  },
  {
   "attachments": {},
   "cell_type": "markdown",
   "metadata": {},
   "source": [
    "#### `Column Selection of Dataframe`"
   ]
  },
  {
   "cell_type": "code",
   "execution_count": null,
   "metadata": {},
   "outputs": [],
   "source": [
    "# Listing all the columns in dataframe\n",
    "df.columns"
   ]
  },
  {
   "cell_type": "code",
   "execution_count": null,
   "metadata": {},
   "outputs": [],
   "source": [
    "# Selecting single column as Series\n",
    "name = df['Name']\n",
    "print(name, type(name))"
   ]
  },
  {
   "cell_type": "code",
   "execution_count": null,
   "metadata": {},
   "outputs": [],
   "source": [
    "name = df.Name\n",
    "print(name, type(name))"
   ]
  },
  {
   "cell_type": "code",
   "execution_count": null,
   "metadata": {},
   "outputs": [],
   "source": [
    "# selecting single column as DataFrame\n",
    "name = df[['Name']]\n",
    "print(name, type(name))"
   ]
  },
  {
   "attachments": {},
   "cell_type": "markdown",
   "metadata": {},
   "source": [
    "#### `Column Removal`"
   ]
  },
  {
   "cell_type": "code",
   "execution_count": null,
   "metadata": {},
   "outputs": [],
   "source": [
    "df.columns"
   ]
  },
  {
   "cell_type": "code",
   "execution_count": null,
   "metadata": {},
   "outputs": [],
   "source": [
    "# Remove any of the column using column name\n",
    "df.drop(['Website', 'Description'], axis=1, inplace=True)"
   ]
  },
  {
   "cell_type": "code",
   "execution_count": null,
   "metadata": {},
   "outputs": [],
   "source": [
    "df.columns"
   ]
  },
  {
   "cell_type": "code",
   "execution_count": null,
   "metadata": {},
   "outputs": [],
   "source": [
    "# Rename the column names with rename() method\n",
    "df.rename(\n",
    "    columns = {\n",
    "        'Organization Id':'org_id',\n",
    "        'Number of employees':'num_employees'\n",
    "    },\n",
    "    inplace = True\n",
    ")"
   ]
  },
  {
   "cell_type": "code",
   "execution_count": null,
   "metadata": {},
   "outputs": [],
   "source": [
    "df.columns"
   ]
  },
  {
   "attachments": {},
   "cell_type": "markdown",
   "metadata": {},
   "source": [
    "#### `Adding new rows in dataframe`"
   ]
  },
  {
   "cell_type": "code",
   "execution_count": null,
   "metadata": {},
   "outputs": [],
   "source": [
    "# Add new row\n",
    "new_data = {'org_id':'aaaaaa', 'Name':'SomeName', 'Country':'Nepal', 'Founded':2015, 'Industry':'software',\n",
    "       'num_employees':50}\n",
    "\n",
    "new_row = pd.DataFrame(new_data, index=[0])\n",
    "df = pd.concat([new_row, df]).reset_index(drop=True)\n",
    "df.head()"
   ]
  },
  {
   "attachments": {},
   "cell_type": "markdown",
   "metadata": {},
   "source": [
    "#### `Removal of duplicate rows`"
   ]
  },
  {
   "cell_type": "code",
   "execution_count": null,
   "metadata": {},
   "outputs": [],
   "source": [
    "## Run above cell more than once to create duplicate rows\n",
    "# remove duplicated rows\n",
    "dup = df.drop_duplicates().reset_index(drop=True)\n",
    "dup"
   ]
  },
  {
   "cell_type": "code",
   "execution_count": null,
   "metadata": {},
   "outputs": [],
   "source": [
    "## Remove duplicates in particular column\n",
    "df.drop_duplicates(subset=['Country'])"
   ]
  },
  {
   "cell_type": "code",
   "execution_count": null,
   "metadata": {},
   "outputs": [],
   "source": [
    "# Remove duplicates on specific column(s) and\n",
    "# keep last occurance rather than first\n",
    "df.drop_duplicates(subset=['Founded', 'Industry'], keep='last')"
   ]
  },
  {
   "attachments": {},
   "cell_type": "markdown",
   "metadata": {},
   "source": [
    "#### `Filter dataframe based on condition`"
   ]
  },
  {
   "cell_type": "code",
   "execution_count": null,
   "metadata": {},
   "outputs": [],
   "source": [
    "df.head()"
   ]
  },
  {
   "cell_type": "code",
   "execution_count": null,
   "metadata": {},
   "outputs": [],
   "source": [
    "condition = df['Country']=='Nepal'\n",
    "condition"
   ]
  },
  {
   "cell_type": "code",
   "execution_count": null,
   "metadata": {},
   "outputs": [],
   "source": [
    "df[condition].head()"
   ]
  },
  {
   "attachments": {},
   "cell_type": "markdown",
   "metadata": {},
   "source": [
    "#### `Retrive unique values on columns`"
   ]
  },
  {
   "cell_type": "code",
   "execution_count": null,
   "metadata": {},
   "outputs": [],
   "source": [
    "# unique countries in column 'Country'\n",
    "df['Country'].unique()"
   ]
  },
  {
   "cell_type": "code",
   "execution_count": null,
   "metadata": {},
   "outputs": [],
   "source": [
    "# number of unique values in column\n",
    "df['Country'].nunique(dropna=True)"
   ]
  },
  {
   "attachments": {},
   "cell_type": "markdown",
   "metadata": {},
   "source": [
    "#### `Retrive index number of column`"
   ]
  },
  {
   "cell_type": "code",
   "execution_count": null,
   "metadata": {},
   "outputs": [],
   "source": [
    "index_num = df.columns.get_loc('Country')\n",
    "print(index_num)"
   ]
  },
  {
   "attachments": {},
   "cell_type": "markdown",
   "metadata": {},
   "source": [
    "#### `Convert series into dataframe`"
   ]
  },
  {
   "cell_type": "code",
   "execution_count": null,
   "metadata": {},
   "outputs": [],
   "source": [
    "# Creating series\n",
    "quantities =  [60, 20, 40, 90]\n",
    "labels = ['apple', 'realme', 'oppo', 'xiaomi']\n",
    "s = pd.Series(quantities, index=labels)\n",
    "s"
   ]
  },
  {
   "cell_type": "code",
   "execution_count": null,
   "metadata": {},
   "outputs": [],
   "source": [
    "# Conversion into dataframe\n",
    "col_name = \"mobile brand\"\n",
    "s_df = s.to_frame(name=col_name)\n",
    "\n",
    "print(type(s), f\"\\n{' '*18}to\\n\", type(s_df))\n",
    "s_df"
   ]
  },
  {
   "cell_type": "code",
   "execution_count": null,
   "metadata": {},
   "outputs": [],
   "source": [
    "# reset the index\n",
    "s_df = s_df.reset_index()\n",
    "s_df"
   ]
  },
  {
   "cell_type": "code",
   "execution_count": null,
   "metadata": {},
   "outputs": [],
   "source": [
    "# drop the index column\n",
    "s_df = s_df.drop(['index'], axis=1)\n",
    "s_df"
   ]
  }
 ],
 "metadata": {
  "kernelspec": {
   "display_name": "workshop",
   "language": "python",
   "name": "python3"
  },
  "language_info": {
   "codemirror_mode": {
    "name": "ipython",
    "version": 3
   },
   "file_extension": ".py",
   "mimetype": "text/x-python",
   "name": "python",
   "nbconvert_exporter": "python",
   "pygments_lexer": "ipython3",
   "version": "3.10.9"
  },
  "orig_nbformat": 4
 },
 "nbformat": 4,
 "nbformat_minor": 2
}
