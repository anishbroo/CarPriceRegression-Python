{
 "cells": [
  {
   "attachments": {},
   "cell_type": "markdown",
   "metadata": {},
   "source": [
    "## `Class`\n",
    "- `Blueprint` for creating `objects` with same functionalities and different values.\n",
    "\n",
    "- User-defined prototype for object/s which defines set of attributes that characterize any object of the class. \n",
    "\n",
    "- Attributes are: `class variables`, `instance variables` and `methods` which can be accessed with dot notation.\n",
    "\n",
    "- Almost every variables in <span style=\"color:purple\">Python</span> are objects of some underlying classes, even the primitive data types.\n",
    "\n",
    "- `Syntax`\n",
    "```python\n",
    "    # Class creation\n",
    "    class ClassName:\n",
    "        class_variable = 1\n",
    "\n",
    "    # Object Creation\n",
    "    obj = ClassName()\n",
    "    print(obj.class_variable)\n",
    "```"
   ]
  },
  {
   "cell_type": "code",
   "execution_count": null,
   "metadata": {},
   "outputs": [],
   "source": [
    "  # Class creation\n",
    "class ClassName:\n",
    "    class_variable = 1\n",
    "\n",
    "    # Object Creation\n",
    "    obj = ClassName()\n",
    "    print(obj.class_variable)"
   ]
  },
  {
   "attachments": {},
   "cell_type": "markdown",
   "metadata": {},
   "source": [
    "####"
   ]
  },
  {
   "attachments": {},
   "cell_type": "markdown",
   "metadata": {},
   "source": [
    "#### `class variable or instance variable`\n",
    "&emsp;&emsp;Holds the data associated with the class and its objects.<br/>\n",
    "&emsp;&emsp;`Instance Variable` :- defined inside the method and belongs current object.<br/>\n",
    "&emsp;&emsp;"
   ]
  },
  {
   "attachments": {},
   "cell_type": "markdown",
   "metadata": {},
   "source": [
    "#### `Method`  \n",
    "&emsp;&emsp;Fuctions that are defined inside the class.<br/>"
   ]
  },
  {
   "attachments": {},
   "cell_type": "markdown",
   "metadata": {},
   "source": [
    "#### `Object`\n",
    "&emsp;&emsp;Instance of class."
   ]
  },
  {
   "attachments": {},
   "cell_type": "markdown",
   "metadata": {},
   "source": [
    "#### `Function Overloading`\n",
    "&emsp;&emsp;Providing multiple behavior to the fuction/s based on number or types of arguments or objects."
   ]
  },
  {
   "attachments": {},
   "cell_type": "markdown",
   "metadata": {},
   "source": [
    "#### Example\n",
    "```python\n",
    "    class People:\n",
    "        'People class as base class.'\n",
    "        person_count = 0    # class variable - shared among all objects\n",
    "\n",
    "        # Special method - constructor\n",
    "        def __init__(self, name, age):\n",
    "            self.name = name    # instance variable\n",
    "            self.age = age      # instance variable\n",
    "            People.person_count += 1 # Accessing class variable\n",
    "        \n",
    "        # method\n",
    "        def show_count(self):\n",
    "            print(f\"Total People: {People.person_count}\")\n",
    "\n",
    "        # method\n",
    "        def show_details(self):\n",
    "            print(f\"Name : {self.name} Age: {self.age}\")\n",
    "    \n",
    "    \n",
    "    # first object creation\n",
    "    person1 = People('Hari', 30)\n",
    "    \n",
    "    # Access the attributes of the object.\n",
    "    person1.show_details()\n",
    "    print(f\"Total number of people {People.person_count}\")\n",
    "\n",
    "    # Modify attribute\n",
    "    person1.age = 31\n",
    "\n",
    "    # remove attribute\n",
    "    del person1.age\n",
    "\n",
    "```"
   ]
  },
  {
   "cell_type": "code",
   "execution_count": 2,
   "metadata": {},
   "outputs": [],
   "source": [
    "class People:\n",
    "        'People class as base class.'\n",
    "        person_count = 0    # class variable - shared among all objects\n",
    "\n",
    "        # Special method - constructor\n",
    "        def __init__(self, name, age):\n",
    "            self.name = name    # instance variable\n",
    "            self.age = age      # instance variable\n",
    "            People.person_count += 1 # Accessing class variable\n",
    "        \n",
    "        # method\n",
    "        def show_count(self):\n",
    "            print(f\"Total People: {People.person_count}\")\n",
    "\n",
    "        # method\n",
    "        def show_details(self):\n",
    "            print(f\"Name : {self.name} Age: {self.age}\")"
   ]
  },
  {
   "cell_type": "code",
   "execution_count": 3,
   "metadata": {},
   "outputs": [],
   "source": [
    "#1st obj creation\n",
    "person1=People('Ram',20)"
   ]
  },
  {
   "cell_type": "code",
   "execution_count": 4,
   "metadata": {},
   "outputs": [
    {
     "name": "stdout",
     "output_type": "stream",
     "text": [
      "Total People: 1\n"
     ]
    }
   ],
   "source": [
    "person1.show_count()"
   ]
  },
  {
   "cell_type": "code",
   "execution_count": 5,
   "metadata": {},
   "outputs": [
    {
     "name": "stdout",
     "output_type": "stream",
     "text": [
      "Name : Ram Age: 20\n",
      "Total number of people 1\n"
     ]
    }
   ],
   "source": [
    " # Access the attributes of the object.\n",
    "person1.show_details()\n",
    "print(f\"Total number of people {People.person_count}\")"
   ]
  },
  {
   "attachments": {},
   "cell_type": "markdown",
   "metadata": {},
   "source": [
    "#### `Attribute manipulation with dot notation.`"
   ]
  },
  {
   "cell_type": "code",
   "execution_count": 8,
   "metadata": {},
   "outputs": [
    {
     "name": "stdout",
     "output_type": "stream",
     "text": [
      "31\n"
     ]
    }
   ],
   "source": [
    "# Modify attribute\n",
    "person1.age = 31\n",
    "print(person1.age)"
   ]
  },
  {
   "cell_type": "code",
   "execution_count": 9,
   "metadata": {},
   "outputs": [
    {
     "name": "stdout",
     "output_type": "stream",
     "text": [
      "31\n"
     ]
    },
    {
     "ename": "AttributeError",
     "evalue": "'People' object has no attribute 'age'",
     "output_type": "error",
     "traceback": [
      "\u001b[1;31m---------------------------------------------------------------------------\u001b[0m",
      "\u001b[1;31mAttributeError\u001b[0m                            Traceback (most recent call last)",
      "Cell \u001b[1;32mIn[9], line 4\u001b[0m\n\u001b[0;32m      2\u001b[0m \u001b[39mprint\u001b[39m(person1\u001b[39m.\u001b[39mage)\n\u001b[0;32m      3\u001b[0m \u001b[39mdel\u001b[39;00m person1\u001b[39m.\u001b[39mage\n\u001b[1;32m----> 4\u001b[0m \u001b[39mprint\u001b[39m(person1\u001b[39m.\u001b[39;49mage)\n",
      "\u001b[1;31mAttributeError\u001b[0m: 'People' object has no attribute 'age'"
     ]
    }
   ],
   "source": [
    "#remove attribute  \n",
    "print(person1.age)\n",
    "del person1.age\n",
    "print(person1.age)  #second print ma error aucha becuz its already deleted"
   ]
  },
  {
   "attachments": {},
   "cell_type": "markdown",
   "metadata": {},
   "source": [
    "#### `Attribute manipulation with functions.`\n",
    "- getattr(obj, name) > access attribute value\n",
    "- hasattr(obj, name) > check if attribute exists.\n",
    "- setattr(obj, name, value) > set attribute with value.\n",
    "- delattr(obj, name) > delete attribute."
   ]
  },
  {
   "cell_type": "code",
   "execution_count": 20,
   "metadata": {},
   "outputs": [],
   "source": [
    "person2=People('Hari',30)"
   ]
  },
  {
   "cell_type": "code",
   "execution_count": 21,
   "metadata": {},
   "outputs": [
    {
     "data": {
      "text/plain": [
       "'Hari'"
      ]
     },
     "execution_count": 21,
     "metadata": {},
     "output_type": "execute_result"
    }
   ],
   "source": [
    "#access attribute value.\n",
    "getattr(person2,'name')       #string ma hunaparcha name"
   ]
  },
  {
   "cell_type": "code",
   "execution_count": 17,
   "metadata": {},
   "outputs": [
    {
     "data": {
      "text/plain": [
       "False"
      ]
     },
     "execution_count": 17,
     "metadata": {},
     "output_type": "execute_result"
    }
   ],
   "source": [
    "#hasattr(person2,'name')        #true aucha\n",
    "hasattr(person2,'namejcjsdsv')  #false aucha"
   ]
  },
  {
   "cell_type": "code",
   "execution_count": 22,
   "metadata": {},
   "outputs": [
    {
     "name": "stdout",
     "output_type": "stream",
     "text": [
      "Hari\n",
      "Alex\n"
     ]
    }
   ],
   "source": [
    "print(getattr(person2,'name'))        #before updation value hereko \n",
    "setattr(person2,'name','Alex')  #naya val rakheko name ma settar use garera\n",
    "print(getattr(person2,'name'))         #check garnalai update bahyoki nai bahnera"
   ]
  },
  {
   "cell_type": "code",
   "execution_count": null,
   "metadata": {},
   "outputs": [],
   "source": [
    "print(getattr(person2,'age'))\n",
    "delattr(person2,'name')"
   ]
  },
  {
   "attachments": {},
   "cell_type": "markdown",
   "metadata": {},
   "source": [
    "#### `Private and Public variables`\n",
    "\n",
    "- Double underscore `_` is prefixed to variable name to identify variable as private variable.\n",
    "\n",
    "- Unlike public variable, private variable can't be accessed with dot notation. To access with it, class name must be inncluded after dot notation\n",
    "i.e.\n",
    "```python\n",
    "    class SomeClass:\n",
    "        def __init__(self, var1, var2):\n",
    "            self.var1 = var1\n",
    "            self.__var2 = var2\n",
    "    \n",
    "    obj = SomeClass()\n",
    "    print(obj.var1) # ✔\n",
    "    print(obj.var2) # ✘\n",
    "```\n"
   ]
  },
  {
   "cell_type": "code",
   "execution_count": 23,
   "metadata": {},
   "outputs": [],
   "source": [
    "class SomeClass:\n",
    "        def __init__(self, var1, var2):\n",
    "            self.value1 = var1    #public\n",
    "            self.__value2 = var2  #private\n",
    "    \n",
    "obj = SomeClass(1,2)    #1 public var ma jancha ani 2 chai private var ma jancha \n"
   ]
  },
  {
   "cell_type": "code",
   "execution_count": 24,
   "metadata": {},
   "outputs": [
    {
     "name": "stdout",
     "output_type": "stream",
     "text": [
      "1\n"
     ]
    }
   ],
   "source": [
    "print(obj.value1)           #public var access gareko "
   ]
  },
  {
   "cell_type": "code",
   "execution_count": 27,
   "metadata": {},
   "outputs": [
    {
     "name": "stdout",
     "output_type": "stream",
     "text": [
      "2\n"
     ]
    }
   ],
   "source": [
    "print(obj._SomeClass__value2)       #private var access gareko "
   ]
  },
  {
   "attachments": {},
   "cell_type": "markdown",
   "metadata": {},
   "source": [
    "#### `Inheritance`\n",
    "- Mechanism that allows to create a hierarchy of classes that inherits the properties of the base class.\n",
    "#### `Syntax`\n",
    "```python \n",
    "    class BaseClass:\n",
    "        ...\n",
    "        \n",
    "    class DerivedClass(BaseClass):\n",
    "        ...\n",
    "```"
   ]
  },
  {
   "attachments": {},
   "cell_type": "markdown",
   "metadata": {},
   "source": [
    "#### `Base or Parent Class`\n",
    "- The class whose attributes are being inherited."
   ]
  },
  {
   "attachments": {},
   "cell_type": "markdown",
   "metadata": {},
   "source": [
    "#### `Derived or Child Class`\n",
    "- The class which inherits the attributes of base class."
   ]
  },
  {
   "cell_type": "code",
   "execution_count": 2,
   "metadata": {},
   "outputs": [
    {
     "name": "stdout",
     "output_type": "stream",
     "text": [
      "Ram False\n",
      "Shyam True\n"
     ]
    }
   ],
   "source": [
    "# Inheritance Demonstration\n",
    "\n",
    "# Generally, object is made ancestor of all classes\n",
    "# \"class Person\" is equivalent to \"class Person(object)\"\n",
    "class Person(object):\n",
    "    # Constructor\n",
    "    def __init__(self, name):\n",
    "        self.name = name\n",
    " \n",
    "    # To get name\n",
    "    def get_name(self):\n",
    "        return self.name\n",
    " \n",
    "    # To check if this person is an employee\n",
    "    def is_employee(self):\n",
    "        return False\n",
    " \n",
    " \n",
    "# Derived Class (Note Person in bracket)\n",
    "class Employee(Person):\n",
    "    # constructor\n",
    "    def __init__(self, id, name):\n",
    "        self.id = id\n",
    "\n",
    "        Person.__init__(self, name)\n",
    "        # super().__init__(name)\n",
    "\n",
    "    # Here we return true\n",
    "    def is_employee(self):\n",
    "        return True\n",
    " \n",
    " \n",
    "# Driver code\n",
    "emp = Person(\"Ram\")  # An Object of Person\n",
    "print(emp.get_name(), emp.is_employee())\n",
    " \n",
    "emp = Employee(123, \"Shyam\")  # An Object of Employee\n",
    "print(emp.get_name(), emp.is_employee())"
   ]
  },
  {
   "attachments": {},
   "cell_type": "markdown",
   "metadata": {},
   "source": [
    "#### ⏩ If you forget to invoke the `__init__()` of the parent class then its instance variables would not be available to the child class. "
   ]
  },
  {
   "attachments": {},
   "cell_type": "markdown",
   "metadata": {},
   "source": [
    "#### `Types of Inheritance`\n",
    "![image](../images/typesofinheritance.gif)"
   ]
  },
  {
   "attachments": {},
   "cell_type": "markdown",
   "metadata": {},
   "source": [
    "#### `Single Inheritance`\n",
    "![image](../images/single_inheritance.png)\n",
    "\n",
    "- The derived class is inherited from only one base class.\n",
    "- In picture, derived class `class B` is derived from base class `class A`.\n"
   ]
  },
  {
   "attachments": {},
   "cell_type": "markdown",
   "metadata": {},
   "source": [
    "#### `Multiple Inheritance`\n",
    "![image](../images/multiple-inheritance.png)\n",
    "\n",
    "- Derived class is inherited from more than one base classes.\n",
    "\n",
    "- In picture, deerived class `class C` is inherited from base classes `class A` and `class B`."
   ]
  },
  {
   "attachments": {},
   "cell_type": "markdown",
   "metadata": {},
   "source": [
    "#### `Multilevel Inheritance`\n",
    "![image](../images/Multilevel-inheritance.png)\n",
    "\n",
    "- The derived class is further used as base class to generate new derived class of it. \n",
    "- In picture, derived class `class B` is derived from base class `class A` while `class C` is derived from `class B` which is derived on its own."
   ]
  },
  {
   "attachments": {},
   "cell_type": "markdown",
   "metadata": {},
   "source": [
    "#### Hierarchial Inheritance\n",
    "![image](../images/Hierarchical-inheritance.png)\n",
    "\n",
    "- Multiple derived classes are generated having same base class.\n",
    "- In picture, derived classes `class B`, `class C` and `class D` have same base class `class A`."
   ]
  },
  {
   "attachments": {},
   "cell_type": "markdown",
   "metadata": {},
   "source": [
    "#### `Hybrid Inheritance`\n",
    "![image](../images/Hybrid-Inheritance.png)\n",
    "\n",
    "- Inheritance consisting of multiple inheritance."
   ]
  },
  {
   "attachments": {},
   "cell_type": "markdown",
   "metadata": {},
   "source": [
    "#### `Abstract Classes`"
   ]
  },
  {
   "attachments": {},
   "cell_type": "markdown",
   "metadata": {},
   "source": [
    "- can be considered as blueprint for other classes.\n",
    "- allows to declace set of methods that must be created within all derived classes built from the abstract class.\n",
    "- abstract method has declaration but not any implementation in abstract class.\n",
    "- module named `abc` (Abstract Base Class) provides base for defining abstract class.\n",
    "- methods becomes abstract when it is decorated with keyword @abstractmethod. "
   ]
  },
  {
   "cell_type": "code",
   "execution_count": null,
   "metadata": {},
   "outputs": [],
   "source": [
    "from abc import ABC, abstractmethod\n",
    "\n",
    "class Shape(ABC):               #base \n",
    "    @abstractmethod\n",
    "    def num_sides(self):\n",
    "        pass\n",
    "\n",
    "class Square(Shape):\n",
    "    def num_sides(self):\n",
    "        return 4\n",
    "\n",
    "class Triangle(Shape):\n",
    "    def num_sides(self):\n",
    "        return 2"
   ]
  }
 ],
 "metadata": {
  "kernelspec": {
   "display_name": "workshop",
   "language": "python",
   "name": "python3"
  },
  "language_info": {
   "codemirror_mode": {
    "name": "ipython",
    "version": 3
   },
   "file_extension": ".py",
   "mimetype": "text/x-python",
   "name": "python",
   "nbconvert_exporter": "python",
   "pygments_lexer": "ipython3",
   "version": "3.10.9"
  },
  "orig_nbformat": 4
 },
 "nbformat": 4,
 "nbformat_minor": 2
}
