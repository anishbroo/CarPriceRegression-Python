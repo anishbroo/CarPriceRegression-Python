{
 "cells": [
  {
   "cell_type": "code",
   "execution_count": 1,
   "metadata": {},
   "outputs": [],
   "source": [
    "from sklearn.linear_model import LinearRegression\n",
    "import pandas as pd\n",
    "import numpy as np\n",
    "import seaborn as sns\n",
    "import matplotlib.pyplot as plt"
   ]
  },
  {
   "cell_type": "code",
   "execution_count": 2,
   "metadata": {},
   "outputs": [
    {
     "data": {
      "text/html": [
       "<div>\n",
       "<style scoped>\n",
       "    .dataframe tbody tr th:only-of-type {\n",
       "        vertical-align: middle;\n",
       "    }\n",
       "\n",
       "    .dataframe tbody tr th {\n",
       "        vertical-align: top;\n",
       "    }\n",
       "\n",
       "    .dataframe thead th {\n",
       "        text-align: right;\n",
       "    }\n",
       "</style>\n",
       "<table border=\"1\" class=\"dataframe\">\n",
       "  <thead>\n",
       "    <tr style=\"text-align: right;\">\n",
       "      <th></th>\n",
       "      <th>Customer Name</th>\n",
       "      <th>Customer e-mail</th>\n",
       "      <th>Country</th>\n",
       "      <th>Gender</th>\n",
       "      <th>Age</th>\n",
       "      <th>Annual Salary</th>\n",
       "      <th>Credit Card Debt</th>\n",
       "      <th>Net Worth</th>\n",
       "      <th>Car Purchase Amount</th>\n",
       "    </tr>\n",
       "  </thead>\n",
       "  <tbody>\n",
       "    <tr>\n",
       "      <th>0</th>\n",
       "      <td>Martina Avila</td>\n",
       "      <td>cubilia.Curae.Phasellus@quisaccumsanconvallis.edu</td>\n",
       "      <td>USA</td>\n",
       "      <td>0</td>\n",
       "      <td>42</td>\n",
       "      <td>62812.09301</td>\n",
       "      <td>11609.380910</td>\n",
       "      <td>238961.2505</td>\n",
       "      <td>35321.45877</td>\n",
       "    </tr>\n",
       "    <tr>\n",
       "      <th>1</th>\n",
       "      <td>Harlan Barnes</td>\n",
       "      <td>eu.dolor@diam.co.uk</td>\n",
       "      <td>USA</td>\n",
       "      <td>0</td>\n",
       "      <td>41</td>\n",
       "      <td>66646.89292</td>\n",
       "      <td>9572.957136</td>\n",
       "      <td>530973.9078</td>\n",
       "      <td>45115.52566</td>\n",
       "    </tr>\n",
       "    <tr>\n",
       "      <th>2</th>\n",
       "      <td>Naomi Rodriquez</td>\n",
       "      <td>vulputate.mauris.sagittis@ametconsectetueradip...</td>\n",
       "      <td>USA</td>\n",
       "      <td>1</td>\n",
       "      <td>43</td>\n",
       "      <td>53798.55112</td>\n",
       "      <td>11160.355060</td>\n",
       "      <td>638467.1773</td>\n",
       "      <td>42925.70921</td>\n",
       "    </tr>\n",
       "    <tr>\n",
       "      <th>3</th>\n",
       "      <td>Jade Cunningham</td>\n",
       "      <td>malesuada@dignissim.com</td>\n",
       "      <td>USA</td>\n",
       "      <td>1</td>\n",
       "      <td>58</td>\n",
       "      <td>79370.03798</td>\n",
       "      <td>14426.164850</td>\n",
       "      <td>548599.0524</td>\n",
       "      <td>67422.36313</td>\n",
       "    </tr>\n",
       "    <tr>\n",
       "      <th>4</th>\n",
       "      <td>Cedric Leach</td>\n",
       "      <td>felis.ullamcorper.viverra@egetmollislectus.net</td>\n",
       "      <td>USA</td>\n",
       "      <td>1</td>\n",
       "      <td>57</td>\n",
       "      <td>59729.15130</td>\n",
       "      <td>5358.712177</td>\n",
       "      <td>560304.0671</td>\n",
       "      <td>55915.46248</td>\n",
       "    </tr>\n",
       "    <tr>\n",
       "      <th>...</th>\n",
       "      <td>...</td>\n",
       "      <td>...</td>\n",
       "      <td>...</td>\n",
       "      <td>...</td>\n",
       "      <td>...</td>\n",
       "      <td>...</td>\n",
       "      <td>...</td>\n",
       "      <td>...</td>\n",
       "      <td>...</td>\n",
       "    </tr>\n",
       "    <tr>\n",
       "      <th>495</th>\n",
       "      <td>Walter</td>\n",
       "      <td>ligula@Cumsociis.ca</td>\n",
       "      <td>USA</td>\n",
       "      <td>0</td>\n",
       "      <td>41</td>\n",
       "      <td>71942.40291</td>\n",
       "      <td>6995.902524</td>\n",
       "      <td>541670.1016</td>\n",
       "      <td>48901.44342</td>\n",
       "    </tr>\n",
       "    <tr>\n",
       "      <th>496</th>\n",
       "      <td>Vanna</td>\n",
       "      <td>Cum.sociis.natoque@Sedmolestie.edu</td>\n",
       "      <td>USA</td>\n",
       "      <td>1</td>\n",
       "      <td>38</td>\n",
       "      <td>56039.49793</td>\n",
       "      <td>12301.456790</td>\n",
       "      <td>360419.0988</td>\n",
       "      <td>31491.41457</td>\n",
       "    </tr>\n",
       "    <tr>\n",
       "      <th>497</th>\n",
       "      <td>Pearl</td>\n",
       "      <td>penatibus.et@massanonante.com</td>\n",
       "      <td>USA</td>\n",
       "      <td>1</td>\n",
       "      <td>54</td>\n",
       "      <td>68888.77805</td>\n",
       "      <td>10611.606860</td>\n",
       "      <td>764531.3203</td>\n",
       "      <td>64147.28888</td>\n",
       "    </tr>\n",
       "    <tr>\n",
       "      <th>498</th>\n",
       "      <td>Nell</td>\n",
       "      <td>Quisque.varius@arcuVivamussit.net</td>\n",
       "      <td>USA</td>\n",
       "      <td>1</td>\n",
       "      <td>59</td>\n",
       "      <td>49811.99062</td>\n",
       "      <td>14013.034510</td>\n",
       "      <td>337826.6382</td>\n",
       "      <td>45442.15353</td>\n",
       "    </tr>\n",
       "    <tr>\n",
       "      <th>499</th>\n",
       "      <td>Marla</td>\n",
       "      <td>Camaron.marla@hotmail.com</td>\n",
       "      <td>USA</td>\n",
       "      <td>1</td>\n",
       "      <td>47</td>\n",
       "      <td>61370.67766</td>\n",
       "      <td>9391.341628</td>\n",
       "      <td>462946.4924</td>\n",
       "      <td>45107.22566</td>\n",
       "    </tr>\n",
       "  </tbody>\n",
       "</table>\n",
       "<p>500 rows × 9 columns</p>\n",
       "</div>"
      ],
      "text/plain": [
       "       Customer Name                                    Customer e-mail  \\\n",
       "0      Martina Avila  cubilia.Curae.Phasellus@quisaccumsanconvallis.edu   \n",
       "1      Harlan Barnes                                eu.dolor@diam.co.uk   \n",
       "2    Naomi Rodriquez  vulputate.mauris.sagittis@ametconsectetueradip...   \n",
       "3    Jade Cunningham                            malesuada@dignissim.com   \n",
       "4       Cedric Leach     felis.ullamcorper.viverra@egetmollislectus.net   \n",
       "..               ...                                                ...   \n",
       "495           Walter                                ligula@Cumsociis.ca   \n",
       "496            Vanna                 Cum.sociis.natoque@Sedmolestie.edu   \n",
       "497            Pearl                      penatibus.et@massanonante.com   \n",
       "498             Nell                  Quisque.varius@arcuVivamussit.net   \n",
       "499            Marla                          Camaron.marla@hotmail.com   \n",
       "\n",
       "    Country  Gender  Age  Annual Salary  Credit Card Debt    Net Worth  \\\n",
       "0       USA       0   42    62812.09301      11609.380910  238961.2505   \n",
       "1       USA       0   41    66646.89292       9572.957136  530973.9078   \n",
       "2       USA       1   43    53798.55112      11160.355060  638467.1773   \n",
       "3       USA       1   58    79370.03798      14426.164850  548599.0524   \n",
       "4       USA       1   57    59729.15130       5358.712177  560304.0671   \n",
       "..      ...     ...  ...            ...               ...          ...   \n",
       "495     USA       0   41    71942.40291       6995.902524  541670.1016   \n",
       "496     USA       1   38    56039.49793      12301.456790  360419.0988   \n",
       "497     USA       1   54    68888.77805      10611.606860  764531.3203   \n",
       "498     USA       1   59    49811.99062      14013.034510  337826.6382   \n",
       "499     USA       1   47    61370.67766       9391.341628  462946.4924   \n",
       "\n",
       "     Car Purchase Amount  \n",
       "0            35321.45877  \n",
       "1            45115.52566  \n",
       "2            42925.70921  \n",
       "3            67422.36313  \n",
       "4            55915.46248  \n",
       "..                   ...  \n",
       "495          48901.44342  \n",
       "496          31491.41457  \n",
       "497          64147.28888  \n",
       "498          45442.15353  \n",
       "499          45107.22566  \n",
       "\n",
       "[500 rows x 9 columns]"
      ]
     },
     "execution_count": 2,
     "metadata": {},
     "output_type": "execute_result"
    }
   ],
   "source": [
    "data = pd.read_csv(\"csv_files/Car_Purchasing_Data.csv\")\n",
    "data"
   ]
  },
  {
   "cell_type": "code",
   "execution_count": 3,
   "metadata": {},
   "outputs": [
    {
     "data": {
      "text/plain": [
       "0      False\n",
       "1      False\n",
       "2      False\n",
       "3      False\n",
       "4      False\n",
       "       ...  \n",
       "495    False\n",
       "496    False\n",
       "497    False\n",
       "498    False\n",
       "499    False\n",
       "Length: 500, dtype: bool"
      ]
     },
     "execution_count": 3,
     "metadata": {},
     "output_type": "execute_result"
    }
   ],
   "source": [
    "condition = data.duplicated()\n",
    "condition"
   ]
  },
  {
   "cell_type": "code",
   "execution_count": 4,
   "metadata": {},
   "outputs": [
    {
     "data": {
      "text/html": [
       "<div>\n",
       "<style scoped>\n",
       "    .dataframe tbody tr th:only-of-type {\n",
       "        vertical-align: middle;\n",
       "    }\n",
       "\n",
       "    .dataframe tbody tr th {\n",
       "        vertical-align: top;\n",
       "    }\n",
       "\n",
       "    .dataframe thead th {\n",
       "        text-align: right;\n",
       "    }\n",
       "</style>\n",
       "<table border=\"1\" class=\"dataframe\">\n",
       "  <thead>\n",
       "    <tr style=\"text-align: right;\">\n",
       "      <th></th>\n",
       "      <th>Customer Name</th>\n",
       "      <th>Customer e-mail</th>\n",
       "      <th>Country</th>\n",
       "      <th>Gender</th>\n",
       "      <th>Age</th>\n",
       "      <th>Annual Salary</th>\n",
       "      <th>Credit Card Debt</th>\n",
       "      <th>Net Worth</th>\n",
       "      <th>Car Purchase Amount</th>\n",
       "    </tr>\n",
       "  </thead>\n",
       "  <tbody>\n",
       "  </tbody>\n",
       "</table>\n",
       "</div>"
      ],
      "text/plain": [
       "Empty DataFrame\n",
       "Columns: [Customer Name, Customer e-mail, Country, Gender, Age, Annual Salary, Credit Card Debt, Net Worth, Car Purchase Amount]\n",
       "Index: []"
      ]
     },
     "execution_count": 4,
     "metadata": {},
     "output_type": "execute_result"
    }
   ],
   "source": [
    "data[data.duplicated()]"
   ]
  },
  {
   "cell_type": "code",
   "execution_count": 5,
   "metadata": {},
   "outputs": [
    {
     "data": {
      "text/plain": [
       "Customer Name          0\n",
       "Customer e-mail        0\n",
       "Country                0\n",
       "Gender                 0\n",
       "Age                    0\n",
       "Annual Salary          0\n",
       "Credit Card Debt       0\n",
       "Net Worth              0\n",
       "Car Purchase Amount    0\n",
       "dtype: int64"
      ]
     },
     "execution_count": 5,
     "metadata": {},
     "output_type": "execute_result"
    }
   ],
   "source": [
    "data.isnull().sum()"
   ]
  },
  {
   "cell_type": "code",
   "execution_count": 6,
   "metadata": {},
   "outputs": [
    {
     "data": {
      "text/plain": [
       "0"
      ]
     },
     "execution_count": 6,
     "metadata": {},
     "output_type": "execute_result"
    }
   ],
   "source": [
    "data.duplicated().sum()"
   ]
  },
  {
   "cell_type": "code",
   "execution_count": 7,
   "metadata": {},
   "outputs": [
    {
     "name": "stdout",
     "output_type": "stream",
     "text": [
      "<class 'pandas.core.frame.DataFrame'>\n",
      "RangeIndex: 500 entries, 0 to 499\n",
      "Data columns (total 9 columns):\n",
      " #   Column               Non-Null Count  Dtype  \n",
      "---  ------               --------------  -----  \n",
      " 0   Customer Name        500 non-null    object \n",
      " 1   Customer e-mail      500 non-null    object \n",
      " 2   Country              500 non-null    object \n",
      " 3   Gender               500 non-null    int64  \n",
      " 4   Age                  500 non-null    int64  \n",
      " 5   Annual Salary        500 non-null    float64\n",
      " 6   Credit Card Debt     500 non-null    float64\n",
      " 7   Net Worth            500 non-null    float64\n",
      " 8   Car Purchase Amount  500 non-null    float64\n",
      "dtypes: float64(4), int64(2), object(3)\n",
      "memory usage: 35.3+ KB\n"
     ]
    }
   ],
   "source": [
    "data.info()"
   ]
  },
  {
   "cell_type": "code",
   "execution_count": 8,
   "metadata": {},
   "outputs": [
    {
     "data": {
      "text/plain": [
       "Index(['Customer Name', 'Customer e-mail', 'Country', 'Gender', 'Age',\n",
       "       'Annual Salary', 'Credit Card Debt', 'Net Worth',\n",
       "       'Car Purchase Amount'],\n",
       "      dtype='object')"
      ]
     },
     "execution_count": 8,
     "metadata": {},
     "output_type": "execute_result"
    }
   ],
   "source": [
    "data.columns"
   ]
  },
  {
   "cell_type": "code",
   "execution_count": 9,
   "metadata": {},
   "outputs": [
    {
     "data": {
      "text/plain": [
       "array(['Martina Avila', 'Harlan Barnes', 'Naomi Rodriquez',\n",
       "       'Jade Cunningham', 'Cedric Leach', 'Carla Hester',\n",
       "       'Griffin Rivera', 'Orli Casey', 'Marny Obrien', 'Rhonda Chavez',\n",
       "       'Jerome Rowe', 'Akeem Gibson', 'Quin Smith', 'Tatum Moon',\n",
       "       'Sharon Sharpe', 'Thomas Williams', 'Blaine Bender',\n",
       "       'Stephen Lindsey', 'Sloane Mann', 'Athena Wolf', 'Blythe Romero',\n",
       "       'Zelenia Byers', 'Nola Wiggins', 'Micah Wheeler', 'Caryn Hendrix',\n",
       "       'Hedda Miranda', 'Ulric Lynn', 'Alma Pope', 'Gemma Hendrix',\n",
       "       'Castor Wood', 'Herman Stevenson', 'Adrienne Bolton',\n",
       "       'Dahlia Cleveland', 'Keane Browning', 'Quon Hull', 'Coby Charles',\n",
       "       'Amery Cortez', 'Uriel Bradshaw', 'Fredericka Sanders',\n",
       "       'Christopher Stevens', 'Rachel Ashley', 'Lael Wright',\n",
       "       'Ryder Shaffer', 'Eric Noel', 'Tamara Guy', 'Quincy Bell',\n",
       "       'Lee Taylor', 'Kenneth Pope', 'Reese Vance', 'Quon Carroll',\n",
       "       'Magee Davidson', 'Leilani Gross', 'Morgan William',\n",
       "       'Francesca Cervantes', 'Rafael Peterson', 'Roanna Knox',\n",
       "       'Marny Vargas', 'Charlotte Waller', 'Dorian Hernandez',\n",
       "       'Armando Hensley', 'Rowan Kidd', 'Gwendolyn Rice', 'Gareth Morris',\n",
       "       'Sawyer Carney', 'Raya Shields', 'Olga Serrano', 'Yuli Craig',\n",
       "       'Lev Kramer', 'Nissim Acosta', 'Miranda Berry', 'Owen Jacobson',\n",
       "       'Marvin Becker', 'Davis Scott', 'Matthew Colon', 'Quinlan Harris',\n",
       "       'Hedley Greene', 'Orson Kirby', 'Adria Mathis', 'Peter Stout',\n",
       "       'Cleo Moore', 'Cally Montoya', 'Ila Farrell', 'Abel Stanton',\n",
       "       'Reed Roman', 'September Puckett', 'Teegan Barr', 'Alexander York',\n",
       "       'Jared Green', 'Eagan Woodward', 'Ferdinand Weber', 'Kitra Kerr',\n",
       "       'Desirae Stone', 'Len Phillips', 'Yen Santana', 'Martina Fuentes',\n",
       "       'Ariana Nash', 'Glenna Graham', 'Holmes Lane', 'Emerald Hamilton',\n",
       "       'Gage Marquez', 'Travis Burks', 'Otto Oneill', 'Brian Mathews',\n",
       "       'Ralph Rich', 'Yasir Tyler', 'Dominic Mcintosh', 'Tanner Ward',\n",
       "       'Wing Gray', 'Lionel Mcclure', 'Wing Parks', 'Oleg Gordon',\n",
       "       'Jamal Stephenson', 'Kadeem Larsen', 'Todd Maldonado',\n",
       "       'Victor Yang', 'Quamar Cummings', 'Dominic Hughes',\n",
       "       'Lamar Hensley', 'Solomon Atkinson', 'Dean Snider', 'Vernon Kidd',\n",
       "       'Dolan Clayton', 'Marvin Deleon', 'Merrill Bailey', 'Adrian Brock',\n",
       "       'Rigel Craft', 'Chaim Lewis', 'Kyle Evans', 'Ulysses Craig',\n",
       "       'Nolan Nixon', 'Oren Rosario', 'Hector Bowers', 'Tate Molina',\n",
       "       'Julian Alexander', 'Lucian Medina', 'Todd Bass', 'Mannix Snow',\n",
       "       'Benedict Serrano', 'Yoshio Potter', 'Stone Koch', 'Elliott Horne',\n",
       "       'Tanner Johnson', 'Gabriel Carson', 'Cain Love', 'Barry Larsen',\n",
       "       'Lawrence Ryan', 'Allen Burke', 'Nero Morgan', 'Reuben Holden',\n",
       "       'Orson Hyde', 'Nolan Conner', 'Stuart Reed', 'Rashad Harper',\n",
       "       'Dieter Delaney', 'Hop Farley', 'Darius Herring', 'Baker Saunders',\n",
       "       'Kermit Fuentes', 'Marvin Garner', 'Sebastian Marks',\n",
       "       'Hector Price', 'Holmes Irwin', 'Trevor Faulkner', 'Gannon Nguyen',\n",
       "       'Quentin Randall', 'Baker Norton', 'Hakeem Mendoza',\n",
       "       'Peter Maynard', 'Devin Humphrey', 'Isaiah Harding',\n",
       "       'Graiden Powell', 'Chancellor Padilla', 'Philip Barnes',\n",
       "       'Cameron Cash', 'Eric Green', 'Tanek Koch', 'Alan Browning',\n",
       "       'Phelan Montoya', 'Chancellor Patel', 'Palmer Cohen',\n",
       "       'Ahmed Wright', 'Burton Carroll', 'Nero Miranda', 'Ali Strong',\n",
       "       'Nasim Ryan', 'August Duncan', 'Kieran Gilliam', 'Stone Hunt',\n",
       "       'Malachi Henson', 'Seth Massey', 'Ulric Robles', 'Gannon Marquez',\n",
       "       'Marshall Armstrong', 'Christian Huffman', 'Gil Sanders',\n",
       "       'Otto Thomas', 'Moses Blackburn', 'Drake Chen',\n",
       "       'Christian Hernandez', 'Jelani F. Pace', 'Tiger I. Melton',\n",
       "       'Quail D. Horne', 'Hammett A. Manning', 'Lamar V. Guthrie',\n",
       "       'Abra D. Golden', 'Vaughan L. Mathis', 'Alfreda V. Harrell',\n",
       "       'Nora X. Decker', 'Jeanette Q. Leach', 'Keiko O. Whitaker',\n",
       "       'Hector F. Leblanc', 'Emerald R. Cohen', 'Cathleen E. Ortega',\n",
       "       'Velma K. Moses', 'Lael W. Sheppard', 'Indigo P. Dejesus',\n",
       "       'Quinlan S. Cantu', 'Mariam I. Montgomery', 'Pamela M. Cantu',\n",
       "       'Hanna C. Martinez', 'Lynn S. Avery', 'Laurel H. Snow',\n",
       "       'Keegan Q. Ramirez', 'Shad K. Hancock', 'Harding E. York',\n",
       "       'Indira A. Aguilar', 'Bell K. Romero', 'Cassady L. Foreman',\n",
       "       'Samson N. Wagner', 'Wade O. Diaz', 'Len B. Finley',\n",
       "       'Emerald U. Hanson', 'Cody G. Gill', 'Kyle R. Kaufman',\n",
       "       'Drake D. Gray', 'Honorato M. Butler', 'Tate C. Foster',\n",
       "       'Zelenia L. Lowe', 'Callum U. Sweet', 'Zane I. Boone',\n",
       "       'Timothy J. Terrell', 'Zahir A. Estes', 'Michelle W. Ryan',\n",
       "       'Serena B. Moody', 'Mark V. Vaughn', 'Anjolie A. Galloway',\n",
       "       'Kylee O. Warner', 'MacKenzie O. Fowler', 'Lana S. Pace',\n",
       "       'Wilma L. Stevenson', 'Sandra J. Huber', 'Octavius C. Spencer',\n",
       "       'Brendan G. Kelley', 'Shaeleigh M. Mckenzie', 'Rooney R. Padilla',\n",
       "       'Damon K. Boone', 'Taylor A. Patel', 'Lillith H. Larsen',\n",
       "       'Tobias L. Sullivan', 'Quincy Q. Ayers', 'Ulysses X. Burch',\n",
       "       'Jorden I. Whitley', 'Heather G. Goodwin', 'Yardley W. Jacobson',\n",
       "       'Gray F. Walker', 'Piper S. Houston', 'Chester X. Carrillo',\n",
       "       'Nathaniel P. Stephens', 'Jennifer C. Williamson', 'Rae C. Hodge',\n",
       "       'Urielle M. Contreras', 'Mechelle W. Stanton', 'Leila F. Hubbard',\n",
       "       'Tanisha H. Foster', 'Hammett F. Marsh', 'Calvin A. Lancaster',\n",
       "       'Rachel H. Ballard', 'Solomon P. Randolph', 'Kasimir Q. Cherry',\n",
       "       'Dominic I. Faulkner', 'Pascale I. Key', 'Nola L. Sweeney',\n",
       "       'Clementine X. Powell', 'Quinlan U. Sears', 'Odette Q. Sherman',\n",
       "       'Kirestin F. Yang', 'Colleen S. Mcguire', 'Dennis N. Thompson',\n",
       "       'Lester J. Burch', 'Madeson R. Salinas', 'Abigail X. Lindsey',\n",
       "       'Rachel E. Suarez', 'Derek X. Richards', 'Evangeline G. Cooper',\n",
       "       'Kieran G. Justice', 'Zenia H. Patel', 'Michelle R. Burke',\n",
       "       'Florence U. Hunter', 'Jelani A. Wall', 'England, Abel D.',\n",
       "       'Oconnor, Linus Q.', 'Herman, Griffith P.', 'Knapp, Quamar P.',\n",
       "       'Chambers, Avram C.', 'Cervantes, Rylee Q.', 'Ashley, Macon Z.',\n",
       "       'Jimenez, Joel G.', 'Bond, Caryn Y.', 'Gross, Cedric D.',\n",
       "       'Dyer, Aline L.', 'Rivers, Sonya A.', 'Frazier, Kai O.',\n",
       "       'Bond, Nyssa S.', 'Rush, Jarrod T.', 'Stephens, Tanner E.',\n",
       "       'Cameron, Kimberley P.', 'Mcdowell, Victoria J.',\n",
       "       'Dalton, Grant D.', 'Gregory, Reuben Z.', 'Schultz, Lee I.',\n",
       "       'Wise, Mechelle E.', 'Mcclure, Avye L.', 'Livingston, Blaze Y.',\n",
       "       'Fuentes, Dora E.', 'Thompson, Alvin R.', 'Armstrong, Hedda N.',\n",
       "       'Casey, Sylvia E.', 'Shaw, Rooney Q.', 'Sexton, Shaeleigh H.',\n",
       "       'Langley, Skyler J.', 'Caldwell, Yolanda F.', 'Olson, Riley O.',\n",
       "       'Irwin, Dillon J.', 'Terry, Mollie K.', 'Hudson, Maxwell F.',\n",
       "       'Levy, Irma P.', 'Brady, Oscar Y.', 'Dudley, Ryder M.',\n",
       "       'Morales, Halla M.', 'Holloway, Brennan Q.', 'Powers, Naomi B.',\n",
       "       'Armstrong, Naomi D.', 'Flores, Caldwell U.', 'Russo, Fleur N.',\n",
       "       'Reese, Sylvia H.', 'Burke, Simon H.', 'Mayer, Paki D.',\n",
       "       'Bush, Jessica C.', 'West, April J.', 'Levy, Wesley S.',\n",
       "       'Nieves, Bertha O.', 'Patrick, Merritt L.', 'Mcdaniel, Marcia Z.',\n",
       "       'Ortiz, Drew P.', 'Oneill, Tiger A.', 'Sims, Tashya J.',\n",
       "       'Lawrence, Hope Z.', 'Jenkins, Hasad P.', 'Rodriguez, Basia D.',\n",
       "       'Blair, Abra U.', 'Rosario, Elijah N.', 'Beach, Victor S.',\n",
       "       'Ruiz, Rafael L.', 'Macdonald, Rahim B.', 'Valdez, Joy U.',\n",
       "       'Watson, Moana M.', 'Cote, Evangeline F.', 'Delgado, Jasper U.',\n",
       "       'Hardy, Hilary R.', 'Stafford, Berk Y.', 'Daugherty, Veda M.',\n",
       "       'Harmon, David N.', 'Houston, Grant O.', 'Collier, Xerxes Q.',\n",
       "       'Lewis, Jackson U.', 'Smith, Nola H.', 'Jensen, Ebony Y.',\n",
       "       'Kim, Claudia W.', 'Livingston, Lucas K.', 'Bradford, Daquan F.',\n",
       "       'Park, Quincy A.', 'Dillon, Lynn W.', 'Blackburn, Joel Y.',\n",
       "       'Sanders, Selma F.', 'Solis, Melissa T.', 'Holmes, Ross Y.',\n",
       "       'Sutton, Michelle D.', 'Munoz, Kennedy K.', 'Little, Hayley R.',\n",
       "       'Church, Lareina E.', 'Wolf, Tashya X.', 'Barr, Hyatt D.',\n",
       "       'Hopper, Orson W.', 'Decker, Jolie T.', 'Chaney, Reuben I.',\n",
       "       'Ross, Kermit D.', 'Hampton, Venus Q.', 'Chavez, Ralph U.',\n",
       "       'Whitaker, Adena B.', 'Nola', 'Melodie', 'Seth', 'Kyra',\n",
       "       'Caldwell', 'Benjamin', 'Florence', 'Oleg', 'Donovan', 'Blaze',\n",
       "       'Illana', 'Yvette', 'Walter', 'Dexter', 'Cameran', 'Penelope',\n",
       "       'Hyatt', 'Stone', 'Irma', 'Josiah', 'Nathan', 'Stacy', 'Kane',\n",
       "       'Reed', 'Lani', 'Curran', 'Rhonda', 'Leroy', 'Adrienne', 'Aileen',\n",
       "       'Rafael', 'Olivia', 'Hiram', 'Jelani', 'Madeson', 'Uriah', 'Brady',\n",
       "       'Denise', 'Lyle', 'Victor', 'Demetria', 'Ora', 'Trevor', 'Kristen',\n",
       "       'Aristotle', 'Camden', 'Urielle', 'Jolene', 'Holly', 'Wayne',\n",
       "       'Judith', 'Dennis', 'Kaitlin', 'Harriet', 'Tatyana', 'Paula',\n",
       "       'Tamekah', 'Brandon', 'Veda', 'Kai', 'Piper', 'Hillary', 'Francis',\n",
       "       'Rogan', 'Kyle', 'Vaughan', 'India', 'Edward', 'Laurel', 'Igor',\n",
       "       'Diana', 'Todd', 'Zephania', 'Brock', 'Avye', 'Serena', 'Barclay',\n",
       "       'Isabella', 'Mia', 'Chester', 'Isaac', 'Heather', 'Justine',\n",
       "       'Bert', 'Gil', 'Dolan', 'Cheryl', 'Courtney', 'Neville', 'Gloria',\n",
       "       'Jonah', 'Merrill', 'Nolan', 'Winter', 'Rigel', 'Vanna', 'Pearl',\n",
       "       'Nell', 'Marla'], dtype=object)"
      ]
     },
     "execution_count": 9,
     "metadata": {},
     "output_type": "execute_result"
    }
   ],
   "source": [
    "data['Customer Name'].unique()"
   ]
  },
  {
   "cell_type": "code",
   "execution_count": 10,
   "metadata": {},
   "outputs": [
    {
     "data": {
      "text/plain": [
       "array(['cubilia.Curae.Phasellus@quisaccumsanconvallis.edu',\n",
       "       'eu.dolor@diam.co.uk',\n",
       "       'vulputate.mauris.sagittis@ametconsectetueradipiscing.co.uk',\n",
       "       'malesuada@dignissim.com',\n",
       "       'felis.ullamcorper.viverra@egetmollislectus.net',\n",
       "       'mi@Aliquamerat.edu', 'vehicula@at.co.uk',\n",
       "       'nunc.est.mollis@Suspendissetristiqueneque.co.uk',\n",
       "       'Phasellus@sedsemegestas.org', 'nec@nuncest.com',\n",
       "       'ipsum.cursus@dui.org', 'turpis.egestas.Fusce@purus.edu',\n",
       "       'nulla@ipsum.edu', 'Cras.sed.leo@Seddiamlorem.ca',\n",
       "       'eget.metus@aaliquetvel.co.uk', 'aliquet.molestie@ut.org',\n",
       "       'ultrices.posuere.cubilia@pedenonummyut.net',\n",
       "       'erat.eget.ipsum@tinciduntpede.org', 'at.augue@augue.net',\n",
       "       'volutpat.Nulla.facilisis@primis.ca', 'Sed.eu@risusNuncac.co.uk',\n",
       "       'auctor.non@sapien.co.uk', 'Aliquam@augue.edu',\n",
       "       'arcu.eu@tincidunt.org', 'condimentum.Donec@duiCum.com',\n",
       "       'scelerisque@magnased.com', 'sociis@vulputateveliteu.com',\n",
       "       'Nunc.mauris.Morbi@turpis.org', 'lobortis@non.co.uk',\n",
       "       'velit.Pellentesque@Nulla.net', 'sociosqu.ad.litora@erat.com',\n",
       "       'dictum@magnaPraesent.ca', 'tincidunt.tempus@idsapien.co.uk',\n",
       "       'Curabitur@acipsumPhasellus.co.uk',\n",
       "       'nascetur.ridiculus.mus@dignissim.co.uk', 'nec@dolornonummyac.com',\n",
       "       'semper.et.lacinia@Morbiquisurna.ca',\n",
       "       'ultrices@Integersemelit.com', 'Curabitur@Infaucibus.ca',\n",
       "       'blandit.enim@lacusvariuset.org',\n",
       "       'tincidunt.tempus.risus@posuerecubiliaCurae.co.uk',\n",
       "       'a@consequatpurusMaecenas.com',\n",
       "       'Phasellus.dapibus.quam@inhendrerit.ca',\n",
       "       'lacinia.at.iaculis@Fuscefermentumfermentum.edu',\n",
       "       'nec.eleifend@orci.org', 'in@Duisgravida.co.uk',\n",
       "       'Vivamus.nisi.Mauris@miAliquam.co.uk',\n",
       "       'vitae.sodales.at@molestiearcuSed.org',\n",
       "       'egestas@malesuadavelvenenatis.com', 'sodales@pharetra.com',\n",
       "       'Quisque@tempor.net', 'dignissim@mollisDuissit.org',\n",
       "       'sociis.natoque.penatibus@uterat.ca', 'leo@sitametdapibus.edu',\n",
       "       'lectus.a.sollicitudin@tortorat.net',\n",
       "       'dolor.nonummy@metusurnaconvallis.net',\n",
       "       'nonummy.Fusce.fermentum@ligula.org', 'odio@Nuncac.org',\n",
       "       'conubia.nostra.per@diam.co.uk', 'Class.aptent@torquentper.com',\n",
       "       'sapien.Aenean.massa@adipiscing.ca', 'Duis@metusIn.com',\n",
       "       'est.Nunc.laoreet@nullavulputatedui.edu', 'erat.Sed@Phasellus.ca',\n",
       "       'tincidunt.aliquam@orciluctuset.com',\n",
       "       'risus@urnasuscipitnonummy.edu', 'lobortis.quis.pede@Seddiam.com',\n",
       "       'eu.odio@tristique.org', 'enim@at.net', 'lorem@necmauris.ca',\n",
       "       'ac.orci@Etiamimperdietdictum.edu',\n",
       "       'congue.elit@vestibulumneceuismod.ca',\n",
       "       'neque@variusultricesmauris.edu', 'facilisis@Nullainterdum.edu',\n",
       "       'libero.nec@adipiscing.org', 'eleifend@felis.org',\n",
       "       'cursus@nectellus.co.uk', 'Aliquam.rutrum.lorem@Donec.net',\n",
       "       'dictum.mi.ac@semperrutrumFusce.com', 'pede.et@Sedeu.com',\n",
       "       'sit@pedeCum.ca', 'lacus@velit.edu', 'eu.lacus.Quisque@congue.edu',\n",
       "       'laoreet.libero@laoreetlectus.com',\n",
       "       'tincidunt@consequatpurusMaecenas.net',\n",
       "       'non.lorem.vitae@eratVivamus.org',\n",
       "       'eu.odio.Phasellus@ipsumporta.edu', 'laoreet@sagittis.edu',\n",
       "       'varius.et@Maecenas.edu', 'metus.Vivamus@vitaeposuere.org',\n",
       "       'scelerisque@Vivamusnon.co.uk', 'Morbi.sit@Aliquamfringilla.ca',\n",
       "       'libero.lacus@Suspendisseseddolor.net',\n",
       "       'ornare.facilisis@ornarelibero.ca', 'elit@nequeIn.com',\n",
       "       'vel.turpis.Aliquam@consequatpurus.edu',\n",
       "       'sodales@maurisSuspendisse.com', 'ac.orci@accumsaninterdum.co.uk',\n",
       "       'sit.amet.orci@facilisis.edu', 'malesuada.vel@dictum.co.uk',\n",
       "       'dictum@liberolacusvarius.ca', 'arcu.Morbi.sit@elementum.ca',\n",
       "       'vulputate.mauris.sagittis@orciluctus.com', 'et@tellus.edu',\n",
       "       'pharetra.sed.hendrerit@adipiscinglobortisrisus.edu',\n",
       "       'Cras.vehicula@nibhPhasellusnulla.net', 'diam@orciUt.ca',\n",
       "       'urna.nec@tempusscelerisquelorem.org',\n",
       "       'odio.auctor.vitae@placeratorcilacus.edu', 'sagittis@magnased.ca',\n",
       "       'Nunc.sollicitudin.commodo@blanditat.co.uk', 'lorem.lorem@in.edu',\n",
       "       'ornare.lectus.ante@lectusNullam.net',\n",
       "       'dui.semper.et@aultricies.net', 'arcu.Vivamus.sit@egestasSed.com',\n",
       "       'mauris@convallisconvallisdolor.co.uk',\n",
       "       'cursus.vestibulum.Mauris@pedenonummy.com', 'erat@pedeac.co.uk',\n",
       "       'Aliquam@laoreet.net', 'tempus@sit.ca',\n",
       "       'sapien.imperdiet.ornare@vitaeerat.edu', 'justo@est.ca',\n",
       "       'lectus.Nullam@congueelitsed.ca', 'natoque.penatibus@nislsem.net',\n",
       "       'Cras.lorem@nonvestibulumnec.net', 'diam.eu.dolor@Proin.com',\n",
       "       'luctus@ut.org', 'magnis@vitaenibh.org', 'sit.amet@orci.ca',\n",
       "       'arcu@etultricesposuere.co.uk',\n",
       "       'ultrices.Vivamus.rhoncus@lacusMauris.net',\n",
       "       'eget@Morbiquisurna.co.uk', 'erat@sitamet.ca',\n",
       "       'Integer.id.magna@consequatenimdiam.co.uk',\n",
       "       'rutrum@temporbibendum.com', 'Lorem.ipsum.dolor@et.edu',\n",
       "       'elit@euismodenim.net', 'blandit.viverra@mollisDuis.co.uk',\n",
       "       'fringilla.cursus.purus@dolorvitae.ca',\n",
       "       'facilisis.Suspendisse@Duissit.ca',\n",
       "       'sollicitudin.adipiscing.ligula@Sedeu.co.uk',\n",
       "       'blandit.at@vulputateullamcorpermagna.org', 'et@venenatis.co.uk',\n",
       "       'est.mollis.non@placerat.com', 'Praesent.eu.dui@bibendumsed.com',\n",
       "       'condimentum@duilectus.co.uk', 'eu.ultrices@In.edu',\n",
       "       'non.sapien@seddictumeleifend.edu',\n",
       "       'pede.nonummy@Vivamusnonlorem.co.uk', 'gravida.sit@eget.net',\n",
       "       'feugiat@felisNulla.org', 'elementum@SeddictumProin.net',\n",
       "       'auctor@arcuimperdiet.ca', 'sit.amet.risus@ipsum.ca',\n",
       "       'in@et.co.uk', 'imperdiet@sem.edu',\n",
       "       'Aliquam.nisl@hendreritidante.org', 'ac@sedpedeCum.org',\n",
       "       'in@sed.org', 'et.eros@feugiatmetussit.net',\n",
       "       'Aliquam.nisl@semegetmassa.co.uk',\n",
       "       'Nunc.sed.orci@Namligulaelit.net', 'ut@vitaesodales.net',\n",
       "       'et.rutrum.eu@congue.net', 'Fusce.aliquet@egetmassa.co.uk',\n",
       "       'convallis@purus.net', 'Maecenas@scelerisquelorem.ca',\n",
       "       'vel.est.tempor@egetvenenatisa.com',\n",
       "       'sodales.Mauris@ametornare.ca', 'pede.blandit@disparturient.net',\n",
       "       'pellentesque.tellus@faucibusidlibero.com',\n",
       "       'pharetra@nuncsedlibero.edu', 'senectus.et.netus@nibhDonecest.net',\n",
       "       'auctor@ipsum.org', 'arcu.vel.quam@magnaPraesentinterdum.co.uk',\n",
       "       'blandit@nunc.org', 'purus@Sed.ca',\n",
       "       'magna.tellus.faucibus@etmalesuadafames.co.uk',\n",
       "       'metus.eu.erat@suscipitnonummy.com', 'non.leo@mollis.net',\n",
       "       'consectetuer@auctorodio.com', 'rhoncus.id.mollis@Maurisvel.org',\n",
       "       'semper@vulputateposuere.net', 'dis.parturient.montes@eratvel.com',\n",
       "       'est.congue.a@convalliserat.net',\n",
       "       'tempor.bibendum@Nuncpulvinar.co.uk',\n",
       "       'ac.nulla@consectetueripsumnunc.co.uk',\n",
       "       'convallis.erat@eratvel.org', 'adipiscing.elit@Nunc.com',\n",
       "       'in.aliquet@fermentumvel.com', 'fringilla@ornare.edu',\n",
       "       'Aliquam@porttitor.net', 'ipsum.cursus.vestibulum@a.com',\n",
       "       'dignissim.Maecenas@tinciduntnuncac.co.uk',\n",
       "       'eu.ultrices@cursuset.net', 'orci.tincidunt.adipiscing@erat.edu',\n",
       "       'et.malesuada.fames@musProin.edu',\n",
       "       'enim.commodo@consequatenimdiam.com',\n",
       "       'dolor@vehiculaPellentesque.co.uk', 'Morbi@atarcuVestibulum.co.uk',\n",
       "       'rhoncus@nisl.net', 'sit.amet@FuscemollisDuis.org',\n",
       "       'sapien.cursus.in@netus.edu', 'vel@arcuVestibulumante.com',\n",
       "       'odio@Duis.com', 'eu@iaculis.org', 'molestie@mi.net',\n",
       "       'non.enim@diam.org', 'vitae@nisl.net', 'est@porttitortellus.com',\n",
       "       'Curabitur@maurisaliquameu.net',\n",
       "       'in.consequat.enim@consectetuer.edu', 'lectus@aliquamenim.org',\n",
       "       'augue.scelerisque@luctuslobortis.com',\n",
       "       'eu.metus@sodalespurusin.net',\n",
       "       'quam.Pellentesque.habitant@felis.com',\n",
       "       'pede.Praesent.eu@Aliquam.net', 'vel.mauris@accumsanneque.co.uk',\n",
       "       'posuere.enim.nisl@lectusNullam.ca',\n",
       "       'Maecenas.mi.felis@amet.co.uk',\n",
       "       'dui.Suspendisse.ac@Sedegetlacus.net',\n",
       "       'dui.Suspendisse.ac@tacitisociosqu.org',\n",
       "       'aliquet@volutpatNulla.edu', 'sit.amet@Proin.org',\n",
       "       'quis.lectus.Nullam@egestas.org', 'erat.Sed.nunc@aneque.ca',\n",
       "       'non.sapien.molestie@rhoncus.edu',\n",
       "       'magna.Suspendisse@tincidunt.edu', 'magna@sagittisaugueeu.org',\n",
       "       'vel.sapien.imperdiet@dolorsit.co.uk', 'dis@dis.edu',\n",
       "       'dui.quis.accumsan@pedeCrasvulputate.co.uk',\n",
       "       'sagittis.Nullam@acrisus.com', 'Morbi.vehicula@mattis.org',\n",
       "       'orci.consectetuer@porttitor.com', 'Cum.sociis.natoque@purus.ca',\n",
       "       'dignissim.magna@Maurisvel.edu',\n",
       "       'Nunc.mauris.elit@Curabiturvel.edu', 'sem.ut@odio.edu',\n",
       "       'blandit@Cum.edu', 'orci@lobortis.com',\n",
       "       'eleifend.vitae@Pellentesquehabitantmorbi.ca',\n",
       "       'ante.lectus@duiCum.net', 'vitae.risus.Duis@hymenaeos.edu',\n",
       "       'Morbi.vehicula@ac.net', 'consequat.nec.mollis@nec.ca',\n",
       "       'cursus.in@neque.co.uk', 'Aliquam.nec.enim@nec.co.uk',\n",
       "       'augue@orci.com', 'non.vestibulum@consectetuer.ca',\n",
       "       'enim@famesac.org', 'Curabitur.consequat@miDuisrisus.com',\n",
       "       'vel@lorem.org', 'diam.lorem.auctor@estmollisnon.net',\n",
       "       'eu.turpis@accumsansed.co.uk', 'nec@ad.net',\n",
       "       'erat.vitae.risus@temporarcu.edu',\n",
       "       'dignissim.lacus.Aliquam@maurissapien.com',\n",
       "       'tempus.non@nasceturridiculus.ca',\n",
       "       'nisl.Nulla@Donecelementumlorem.net', 'Sed.nunc.est@arcuMorbi.edu',\n",
       "       'turpis@orci.com', 'semper.egestas@maurissapien.co.uk',\n",
       "       'enim.non.nisi@Ut.net', 'lobortis.Class.aptent@iaculis.com',\n",
       "       'risus@enimconsequat.org', 'tempor.erat.neque@ac.com',\n",
       "       'Cras.dictum.ultricies@conubia.ca',\n",
       "       'rutrum@fermentumconvallisligula.ca', 'lacus@massaSuspendisse.ca',\n",
       "       'elit.Aliquam.auctor@dolor.org',\n",
       "       'Pellentesque.habitant@auctorquistristique.org',\n",
       "       'ultrices.posuere.cubilia@magnisdis.com',\n",
       "       'sem.vitae@malesuadafringillaest.net',\n",
       "       'tempus.scelerisque@maurisaliquam.ca',\n",
       "       'ante.bibendum.ullamcorper@fringilla.net',\n",
       "       'ipsum.leo.elementum@amet.org', 'orci.luctus.et@lacus.com',\n",
       "       'risus@in.net', 'pharetra.Nam@sociisnatoque.org',\n",
       "       'urna.suscipit@enim.ca', 'eu@necmaurisblandit.co.uk',\n",
       "       'quis.pede@Aliquamfringilla.ca', 'magna@velarcueu.ca',\n",
       "       'Mauris.molestie@Intincidunt.co.uk',\n",
       "       'eleifend.egestas.Sed@tempus.net', 'tincidunt@Proinsedturpis.edu',\n",
       "       'vitae.erat@urnaNullamlobortis.ca', 'Nunc.mauris@commodo.com',\n",
       "       'Cum.sociis.natoque@acnullaIn.edu', 'dui@nondui.ca',\n",
       "       'non.vestibulum.nec@euturpis.co.uk', 'tincidunt@porttitor.com',\n",
       "       'Integer.id.magna@Sedidrisus.org', 'in@Sed.co.uk',\n",
       "       'dis@tortor.com', 'dui@justo.ca', 'diam@tellus.org',\n",
       "       'aliquet@Duisa.co.uk', 'enim.commodo@parturientmontesnascetur.org',\n",
       "       'Donec.elementum@Fuscemilorem.co.uk',\n",
       "       'ligula.Nullam.enim@nibhlacinia.edu',\n",
       "       'Maecenas.libero.est@miacmattis.com',\n",
       "       'Nunc.pulvinar.arcu@ultricesaauctor.ca',\n",
       "       'luctus.lobortis.Class@sitametdapibus.co.uk',\n",
       "       'metus.Vivamus.euismod@arcuVivamus.co.uk',\n",
       "       'faucibus.lectus.a@ut.net', 'libero.Proin@acnulla.net',\n",
       "       'aliquam.adipiscing@maurissapien.edu', 'convallis@scelerisque.net',\n",
       "       'vel.lectus@Praesent.net', 'Cras@quamelementum.com',\n",
       "       'fringilla.euismod.enim@aauctornon.net',\n",
       "       'vestibulum.nec.euismod@netusetmalesuada.ca',\n",
       "       'egestas@turpisnecmauris.com', 'nec.tellus@lacinia.co.uk',\n",
       "       'risus.Duis@ornareFuscemollis.net', 'velit@doloregestas.net',\n",
       "       'fermentum@blanditviverra.ca', 'velit.eget.laoreet@quis.ca',\n",
       "       'est.mollis@dui.ca', 'dictum@lorem.org',\n",
       "       'montes.nascetur@liberoet.co.uk', 'nonummy@ornareelitelit.org',\n",
       "       'interdum.ligula@Phasellus.edu', 'magnis.dis@aliquam.org',\n",
       "       'Integer.vitae.nibh@a.org', 'Curabitur.vel@Nullam.net',\n",
       "       'Cras.convallis.convallis@Fuscealiquam.net',\n",
       "       'mi.eleifend.egestas@cursuset.net',\n",
       "       'ac.facilisis.facilisis@necmalesuada.com',\n",
       "       'ornare.sagittis@hendrerit.ca', 'arcu@dictummiac.edu',\n",
       "       'quam.dignissim.pharetra@aauctornon.ca', 'metus.eu.erat@non.org',\n",
       "       'lacus.varius@sitamet.ca', 'erat@urnaUttincidunt.com',\n",
       "       'sed@sedtortor.co.uk', 'elit.elit.fermentum@erosturpisnon.org',\n",
       "       'fringilla.purus.mauris@risusatfringilla.ca',\n",
       "       'Cras.eu@vitaevelitegestas.net',\n",
       "       'nunc.sed.pede@Quisqueporttitor.net', 'ut@Etiamvestibulum.ca',\n",
       "       'erat@at.edu', 'Proin.nisl.sem@Maecenasmalesuada.co.uk',\n",
       "       'lacinia@Nullam.com', 'Nunc.lectus.pede@egestasrhoncus.com',\n",
       "       'dolor.sit.amet@iaculisneceleifend.ca', 'ante@nisi.org',\n",
       "       'facilisis.vitae.orci@sociosquad.co.uk', 'dolor@velitegestas.org',\n",
       "       'ut@nonummyut.net', 'non.nisi.Aenean@etmagnis.co.uk',\n",
       "       'tincidunt@vel.edu', 'orci.Phasellus@ut.org',\n",
       "       'aliquam@anteNuncmauris.ca', 'metus.vitae@Morbisitamet.ca',\n",
       "       'adipiscing.elit.Aliquam@Utsagittislobortis.co.uk',\n",
       "       'Vestibulum@lobortis.org', 'montes@Loremipsum.edu', 'In@non.com',\n",
       "       'consequat.auctor@lacuspede.co.uk',\n",
       "       'sed.pede@volutpatNulladignissim.net', 'augue.eu@nisi.edu',\n",
       "       'lobortis.quam@velarcueu.org', 'ipsum.Suspendisse@diamDuismi.org',\n",
       "       'lorem.tristique.aliquet@estNunclaoreet.net', 'lacinia@posuere.ca',\n",
       "       'egestas.Fusce@orciDonecnibh.com', 'Quisque@ultriciessem.net',\n",
       "       'venenatis.vel.faucibus@iaculisnec.net',\n",
       "       'aliquet.diam.Sed@posuere.org', 'ut.aliquam@egetlacusMauris.ca',\n",
       "       'eu@magnaLorem.org', 'pellentesque.a.facilisis@nonlacinia.co.uk',\n",
       "       'orci.lacus.vestibulum@gravidasit.co.uk', 'ac@sagittisNullam.net',\n",
       "       'sit.amet@dignissimmagnaa.edu', 'porttitor.scelerisque@Aliquam.ca',\n",
       "       'Nunc@euarcuMorbi.ca', 'amet.consectetuer@orciinconsequat.ca',\n",
       "       'ornare.egestas.ligula@urnaVivamusmolestie.com',\n",
       "       'semper@tristique.co.uk', 'velit.Pellentesque@Nullam.org',\n",
       "       'placerat.eget@placeratorcilacus.com',\n",
       "       'velit@Pellentesquetincidunttempus.net', 'enim.Mauris@Namac.net',\n",
       "       'dolor@nislelementumpurus.edu', 'nunc.est@purusmaurisa.co.uk',\n",
       "       'lectus.rutrum.urna@nisinibh.co.uk',\n",
       "       'nulla.Integer.vulputate@eutelluseu.edu', 'sem@odiovel.edu',\n",
       "       'luctus@magnaseddui.net',\n",
       "       'pellentesque.massa.lobortis@facilisis.net',\n",
       "       'Integer@vulputate.net', 'Donec@lacusQuisquepurus.net',\n",
       "       'elit@faucibusMorbivehicula.net', 'Aenean@interdum.edu',\n",
       "       'pharetra.sed.hendrerit@accumsanneque.com',\n",
       "       'elit@Fuscealiquamenim.ca', 'facilisi.Sed@tortordictum.com',\n",
       "       'dignissim@nibhPhasellus.com', 'Etiam@diamluctus.org',\n",
       "       'amet@congue.edu', 'nisi.Mauris.nulla@vitaeodiosagittis.ca',\n",
       "       'eros@faucibus.com', 'Aenean.gravida@mifelis.com',\n",
       "       'iaculis.odio.Nam@sedfacilisis.org',\n",
       "       'vitae.semper.egestas@montesnascetur.co.uk',\n",
       "       'mi.pede.nonummy@euismodetcommodo.org', 'justo@pedeCras.ca',\n",
       "       'metus.vitae.velit@CuraePhasellus.co.uk', 'est.arcu@in.org',\n",
       "       'tristique@ligulaAliquam.net', 'vestibulum@metus.org',\n",
       "       'erat.Vivamus@ligula.co.uk', 'neque.non@iaculisaliquet.edu',\n",
       "       'placerat.eget.venenatis@elitpharetraut.edu',\n",
       "       'Phasellus@Aliquamadipiscing.co.uk', 'Nam.interdum.enim@et.com',\n",
       "       'aliquet.odio@fermentumvel.edu',\n",
       "       'iaculis.quis.pede@adipiscingenim.net',\n",
       "       'diam.nunc@lectusconvallisest.org',\n",
       "       'odio.Phasellus@fringilla.co.uk', 'risus@Sedmalesuada.net',\n",
       "       'Sed.congue.elit@faucibusleo.ca',\n",
       "       'arcu.et.pede@Morbinequetellus.org',\n",
       "       'mauris.Morbi@ligulatortordictum.net',\n",
       "       'venenatis.lacus@nuncQuisque.edu', 'nonummy.Fusce@sem.net',\n",
       "       'lacus.vestibulum.lorem@gravidaAliquamtincidunt.ca',\n",
       "       'ipsum.non.arcu@placeratorci.com',\n",
       "       'consectetuer.adipiscing.elit@vestibulumneceuismod.net',\n",
       "       'libero.et@Crasdictum.ca', 'molestie@commodoauctorvelit.co.uk',\n",
       "       'massa@nec.co.uk', 'montes@inconsectetuer.edu',\n",
       "       'nascetur@amet.org', 'lectus.a@nonhendreritid.org',\n",
       "       'Donec.at@sedlibero.net',\n",
       "       'bibendum.Donec.felis@liberoestcongue.org',\n",
       "       'Sed@Pellentesquetincidunttempus.edu', 'urna@vitaeodiosagittis.ca',\n",
       "       'ac@non.com', 'Aliquam.adipiscing.lobortis@loremut.net',\n",
       "       'est.congue@Nunc.edu', 'erat.neque.non@elit.com',\n",
       "       'accumsan@parturientmontes.net', 'molestie.orci@condimentum.com',\n",
       "       'vel.nisl.Quisque@mollisPhasellus.co.uk',\n",
       "       'nunc.nulla.vulputate@dignissimmagnaa.edu',\n",
       "       'parturient@Nuncsollicitudincommodo.co.uk', 'amet.orci@tellus.net',\n",
       "       'sem@parturientmontesnascetur.net', 'Nam@enimmitempor.com',\n",
       "       'ut.pharetra@ametultricies.net', 'non@purusaccumsaninterdum.com',\n",
       "       'et.euismod@Duis.co.uk', 'Nulla.aliquet@sedturpisnec.co.uk',\n",
       "       'velit@molestie.com', 'erat.neque@mattisvelitjusto.org',\n",
       "       'ut.mi.Duis@quisarcu.com', 'Phasellus@estcongue.ca',\n",
       "       'pulvinar@porttitortellus.ca', 'a.feugiat@enimnisl.com',\n",
       "       'Aliquam@aaliquet.com', 'risus.at.fringilla@feugiat.ca',\n",
       "       'rutrum.urna@faucibusidlibero.co.uk',\n",
       "       'felis@orciconsectetuereuismod.ca',\n",
       "       'Proin.eget@aliquetnecimperdiet.org',\n",
       "       'purus.ac.tellus@parturientmontesnascetur.org', 'egestas.a@vel.ca',\n",
       "       'montes@sedsem.ca', 'Vivamus.nisi@elitpharetraut.ca',\n",
       "       'Cras@eros.net', 'odio.Nam@estac.ca', 'diam.Proin@ut.edu',\n",
       "       'et.magnis@necmetus.ca', 'sed.est@afelisullamcorper.edu',\n",
       "       'Integer@odioauctor.co.uk',\n",
       "       'pretium.aliquet.metus@pretiumneque.com',\n",
       "       'erat.Etiam@elementum.org', 'orci.adipiscing@penatibuset.com',\n",
       "       'sem.Pellentesque@quis.net',\n",
       "       'Phasellus.fermentum@dictumplacerataugue.net',\n",
       "       'ipsum.Phasellus@egestasblanditNam.edu',\n",
       "       'iaculis.enim@nislelementum.edu', 'porttitor.tellus@elitelit.org',\n",
       "       'felis.Nulla@mi.ca',\n",
       "       'Curabitur.egestas.nunc@fermentumfermentum.ca',\n",
       "       'augue@risusNuncac.co.uk', 'dolor.sit@turpisIn.com',\n",
       "       'Donec.at@neccursus.co.uk',\n",
       "       'egestas.urna.justo@maurissagittis.edu',\n",
       "       'egestas.blandit.Nam@semvitaealiquam.com', 'ligula@Cumsociis.ca',\n",
       "       'Cum.sociis.natoque@Sedmolestie.edu',\n",
       "       'penatibus.et@massanonante.com',\n",
       "       'Quisque.varius@arcuVivamussit.net', 'Camaron.marla@hotmail.com'],\n",
       "      dtype=object)"
      ]
     },
     "execution_count": 10,
     "metadata": {},
     "output_type": "execute_result"
    }
   ],
   "source": [
    "data['Customer e-mail'].unique()"
   ]
  },
  {
   "cell_type": "code",
   "execution_count": 11,
   "metadata": {},
   "outputs": [
    {
     "data": {
      "text/plain": [
       "array(['USA'], dtype=object)"
      ]
     },
     "execution_count": 11,
     "metadata": {},
     "output_type": "execute_result"
    }
   ],
   "source": [
    "data['Country'].unique()"
   ]
  },
  {
   "cell_type": "code",
   "execution_count": 12,
   "metadata": {},
   "outputs": [
    {
     "data": {
      "text/plain": [
       "array([288, 168, 311, 204,  70,  64, 158, 339, 285, 387, 214,   9, 364,\n",
       "       441, 416, 446,  38, 426, 419,  24,  41, 494, 323, 303,  65, 176,\n",
       "       457,  15, 150,  68, 178,   6,  95, 228, 371,  88,  16, 462, 143,\n",
       "        84, 372, 246, 401, 134, 433, 365, 256, 231, 383, 370, 279, 258,\n",
       "       308, 140, 377, 391, 286,  77, 121,  20, 397, 160, 149, 405, 380,\n",
       "       333, 490, 263, 320, 306, 345, 290, 100, 293, 367, 177, 341,   3,\n",
       "       355,  87,  58, 194,   0, 382, 408, 444,  11, 206, 126, 136, 237,\n",
       "       109, 260, 488, 289,  18, 153, 185, 129, 146, 454, 343,  49, 378,\n",
       "       487, 119, 438, 481, 268, 482, 332, 205, 223, 453, 473, 362, 117,\n",
       "       247, 422, 101, 471, 116, 291, 301,   4, 389,  72, 241, 459, 326,\n",
       "       338, 173, 440, 221, 272, 452, 281,  34, 489, 430, 128, 437, 145,\n",
       "        54,  31, 254,  14, 317, 385, 340, 325, 431, 379, 113, 188,  98,\n",
       "        28, 232, 292, 407, 175, 184, 456, 148, 363,  27, 161, 354, 110,\n",
       "       203, 155,  74, 357,  62, 133, 435,  10, 356,  75, 346,   7,  52,\n",
       "       316,  13, 312,  25, 234, 429, 280, 412, 458, 147, 287,  83, 152,\n",
       "       344, 309, 122,  82, 210, 448, 361, 162, 248,   2, 468,  12, 327,\n",
       "       207, 230, 174, 130,  69, 470, 245, 197, 368, 282, 347, 165, 274,\n",
       "       253, 229, 414, 166, 198,  33,  67, 402, 474, 259, 131,  89, 242,\n",
       "       123, 187, 439, 495,  57, 493, 449, 492, 305, 410, 283,  17, 243,\n",
       "       275, 249, 480, 404, 329,  48, 415, 394,  97, 443, 267, 450, 366,\n",
       "       460, 218, 172, 486, 156, 359,  81, 314, 212, 375, 464, 298, 257,\n",
       "       436, 163,  59, 374, 423, 227, 118, 349, 322,  86, 369, 330, 236,\n",
       "        90, 107, 262, 278,   1, 373, 108, 135, 233, 496, 304, 138, 209,\n",
       "       132, 328, 179, 238,  73,  71,  23, 215,  42, 159, 125, 390, 142,\n",
       "        43, 399, 427,  63, 297,  96, 157, 406, 484, 295, 270, 144, 447,\n",
       "        21,  66, 417, 413, 250,  56, 335, 200, 445, 191, 264,  46, 124,\n",
       "       307, 182, 360,  22, 139, 400, 384,  51, 294,  53, 478, 265, 319,\n",
       "       350, 296, 342, 336, 418, 255, 211, 392,  39, 395,  32, 398, 276,\n",
       "       465, 476,  92, 103, 167, 425,  99, 169, 190,  91, 266, 420, 213,\n",
       "       235, 271,  44, 348, 114,  37, 403, 421, 186, 432, 310, 269,  85,\n",
       "       485,  30, 189, 102,  76, 396, 164,  78, 479, 321, 299, 411, 244,\n",
       "        55,  35, 137, 331, 120,  40, 195, 491, 475, 111,  61, 353, 192,\n",
       "       428, 199, 219, 313, 424, 226, 381, 251,  94, 386, 261,   5,   8,\n",
       "       376, 334, 181, 208, 277, 461,  45, 105, 273, 472, 104, 337, 455,\n",
       "       239,  19,  60, 463, 216, 183, 477, 220, 106, 225, 170, 442, 351,\n",
       "       434,  47, 469, 224, 358, 180, 141, 393, 240, 467, 196, 127, 252,\n",
       "       193, 112, 451, 497,  50,  26, 409,  29, 202, 302,  80, 201, 171,\n",
       "       222,  36, 151, 115,  79,  93, 318, 154, 217, 300, 324, 483, 388,\n",
       "       466, 352, 315, 284])"
      ]
     },
     "execution_count": 12,
     "metadata": {},
     "output_type": "execute_result"
    }
   ],
   "source": [
    "from sklearn import preprocessing\n",
    "label_encoder = preprocessing .LabelEncoder()\n",
    "data['Customer Name'] = label_encoder.fit_transform(data['Customer Name'])\n",
    "data['Customer Name'].unique()"
   ]
  },
  {
   "cell_type": "code",
   "execution_count": 13,
   "metadata": {},
   "outputs": [
    {
     "data": {
      "text/plain": [
       "array([139, 224, 498, 307, 241, 319, 473, 353,  68, 334, 264, 457, 352,\n",
       "        17, 179,  97, 461, 201, 114, 497,  76, 115,   8, 110, 128, 416,\n",
       "       438,  56, 293, 482, 439, 152, 451,  28, 327, 333, 426, 462,  27,\n",
       "       124, 450,  83,  64, 269, 330, 256,  80, 495, 177, 442,  73, 156,\n",
       "       437, 283, 279, 161, 348, 361, 135,  12, 412,  34, 210, 199, 449,\n",
       "       406, 292, 228, 195, 296,  86, 130, 336, 238, 287, 183, 142,   6,\n",
       "       149, 376, 436, 275, 225, 276, 453, 341, 227, 277, 472, 312, 415,\n",
       "        48, 286, 370, 190, 479, 441,  87, 430, 306, 150, 107, 499, 222,\n",
       "       384,  18, 147, 463, 359, 411,  61, 294, 371, 170, 108, 310, 141,\n",
       "       206,   9, 448, 414, 267, 278, 329,  16, 144, 299, 305, 435, 113,\n",
       "       459, 180, 207,  39, 409,  43, 188, 125, 245, 236, 443, 123, 223,\n",
       "       214,  69, 129, 230, 344, 377, 249, 244, 184, 116, 431, 258, 253,\n",
       "         4,  90, 259, 217,   5,  60, 471, 221,  36, 137,  46, 474, 440,\n",
       "       375, 380, 385, 429, 117, 111, 127, 394, 301, 314, 340, 132, 399,\n",
       "       428, 158, 212, 444,  85, 136,  93, 254, 248,  10, 263, 153, 231,\n",
       "       367, 220, 192, 165,  51, 400, 432, 413, 480, 360, 232, 322, 339,\n",
       "       496, 216,  29, 255, 282, 119, 226, 395, 374, 476, 390,  45, 167,\n",
       "       168, 100, 433, 397, 198, 343, 300, 302, 478, 159, 169, 410,  50,\n",
       "       364,  23, 155,  57, 421, 126, 368, 182, 105, 493,  49, 134, 140,\n",
       "         3, 120, 346, 196,  24, 481, 145, 229, 332, 204, 154, 446, 338,\n",
       "        77, 458, 425, 194, 290, 404, 445,  14, 408, 274, 185,  63, 460,\n",
       "       422, 447, 104, 265, 366, 405, 382, 464, 234, 398, 303,  47, 181,\n",
       "       452, 492,  58,  22, 172, 345, 454,  38, 257, 160, 171, 148,  99,\n",
       "       193,  32, 288,  44,  59, 297, 311, 239, 284,  94, 138, 475,  20,\n",
       "       246, 490, 178, 331, 401, 486, 243, 484, 215, 151, 323, 350, 260,\n",
       "       304,  40,  26,  13, 317,  84, 372, 112, 396, 313, 272, 208, 419,\n",
       "       186, 247,  15, 356, 469, 205,  71, 270,  55, 162, 106, 237, 166,\n",
       "       470, 342, 455, 362,  95, 316,  92,  79, 324,  37, 133, 418, 118,\n",
       "       291, 262, 295, 271, 173,  74, 489,  96, 466, 233, 378, 365,  89,\n",
       "       434, 388,  62, 101, 369, 427, 483, 387, 485, 191, 164, 354, 281,\n",
       "       351, 423, 298, 379,  42,  33, 189,   1, 383, 187, 235, 157,  35,\n",
       "       103, 337, 209,   0, 251, 494, 318, 268, 315, 211, 456, 491, 200,\n",
       "       335, 386,  66,  52,  98, 252, 146, 358, 403,  75, 109, 309, 488,\n",
       "       349, 273, 266, 131, 285, 321, 308, 325, 328, 280,  31, 122,  78,\n",
       "       465,  88,   2, 213, 202,  91, 320, 477, 355, 373, 102, 424,  53,\n",
       "       468, 347, 218,  54, 487, 203, 467,  67, 392,  82,   7, 402, 407,\n",
       "       242,  70, 393, 174, 326,  81,  19, 357, 143, 219, 417,  41, 391,\n",
       "       197, 363, 420,  65, 261, 250, 389, 240,  25, 121, 163,  30, 176,\n",
       "       175, 289,  21, 381,  72,  11])"
      ]
     },
     "execution_count": 13,
     "metadata": {},
     "output_type": "execute_result"
    }
   ],
   "source": [
    "label_encoder1 = preprocessing .LabelEncoder()\n",
    "data['Customer e-mail'] = label_encoder1.fit_transform(data['Customer e-mail'])\n",
    "data['Customer e-mail'].unique()"
   ]
  },
  {
   "cell_type": "code",
   "execution_count": 14,
   "metadata": {},
   "outputs": [
    {
     "data": {
      "text/plain": [
       "array([0])"
      ]
     },
     "execution_count": 14,
     "metadata": {},
     "output_type": "execute_result"
    }
   ],
   "source": [
    "label_encoder2 = preprocessing .LabelEncoder()\n",
    "data['Country'] = label_encoder1.fit_transform(data['Country'])\n",
    "data['Country'].unique()"
   ]
  },
  {
   "cell_type": "code",
   "execution_count": 15,
   "metadata": {},
   "outputs": [
    {
     "data": {
      "text/html": [
       "<div>\n",
       "<style scoped>\n",
       "    .dataframe tbody tr th:only-of-type {\n",
       "        vertical-align: middle;\n",
       "    }\n",
       "\n",
       "    .dataframe tbody tr th {\n",
       "        vertical-align: top;\n",
       "    }\n",
       "\n",
       "    .dataframe thead th {\n",
       "        text-align: right;\n",
       "    }\n",
       "</style>\n",
       "<table border=\"1\" class=\"dataframe\">\n",
       "  <thead>\n",
       "    <tr style=\"text-align: right;\">\n",
       "      <th></th>\n",
       "      <th>Customer Name</th>\n",
       "      <th>Customer e-mail</th>\n",
       "      <th>Country</th>\n",
       "      <th>Gender</th>\n",
       "      <th>Age</th>\n",
       "      <th>Annual Salary</th>\n",
       "      <th>Credit Card Debt</th>\n",
       "      <th>Net Worth</th>\n",
       "      <th>Car Purchase Amount</th>\n",
       "    </tr>\n",
       "  </thead>\n",
       "  <tbody>\n",
       "    <tr>\n",
       "      <th>Customer Name</th>\n",
       "      <td>1.000000</td>\n",
       "      <td>-0.034360</td>\n",
       "      <td>NaN</td>\n",
       "      <td>-0.021926</td>\n",
       "      <td>0.016523</td>\n",
       "      <td>0.038859</td>\n",
       "      <td>0.028952</td>\n",
       "      <td>-0.008116</td>\n",
       "      <td>0.031218</td>\n",
       "    </tr>\n",
       "    <tr>\n",
       "      <th>Customer e-mail</th>\n",
       "      <td>-0.034360</td>\n",
       "      <td>1.000000</td>\n",
       "      <td>NaN</td>\n",
       "      <td>0.073458</td>\n",
       "      <td>-0.041863</td>\n",
       "      <td>0.010627</td>\n",
       "      <td>0.019145</td>\n",
       "      <td>0.048010</td>\n",
       "      <td>0.003429</td>\n",
       "    </tr>\n",
       "    <tr>\n",
       "      <th>Country</th>\n",
       "      <td>NaN</td>\n",
       "      <td>NaN</td>\n",
       "      <td>NaN</td>\n",
       "      <td>NaN</td>\n",
       "      <td>NaN</td>\n",
       "      <td>NaN</td>\n",
       "      <td>NaN</td>\n",
       "      <td>NaN</td>\n",
       "      <td>NaN</td>\n",
       "    </tr>\n",
       "    <tr>\n",
       "      <th>Gender</th>\n",
       "      <td>-0.021926</td>\n",
       "      <td>0.073458</td>\n",
       "      <td>NaN</td>\n",
       "      <td>1.000000</td>\n",
       "      <td>-0.066488</td>\n",
       "      <td>-0.036499</td>\n",
       "      <td>0.024193</td>\n",
       "      <td>-0.008395</td>\n",
       "      <td>-0.066408</td>\n",
       "    </tr>\n",
       "    <tr>\n",
       "      <th>Age</th>\n",
       "      <td>0.016523</td>\n",
       "      <td>-0.041863</td>\n",
       "      <td>NaN</td>\n",
       "      <td>-0.066488</td>\n",
       "      <td>1.000000</td>\n",
       "      <td>0.000361</td>\n",
       "      <td>0.031748</td>\n",
       "      <td>0.021794</td>\n",
       "      <td>0.633273</td>\n",
       "    </tr>\n",
       "    <tr>\n",
       "      <th>Annual Salary</th>\n",
       "      <td>0.038859</td>\n",
       "      <td>0.010627</td>\n",
       "      <td>NaN</td>\n",
       "      <td>-0.036499</td>\n",
       "      <td>0.000361</td>\n",
       "      <td>1.000000</td>\n",
       "      <td>0.049599</td>\n",
       "      <td>0.014767</td>\n",
       "      <td>0.617862</td>\n",
       "    </tr>\n",
       "    <tr>\n",
       "      <th>Credit Card Debt</th>\n",
       "      <td>0.028952</td>\n",
       "      <td>0.019145</td>\n",
       "      <td>NaN</td>\n",
       "      <td>0.024193</td>\n",
       "      <td>0.031748</td>\n",
       "      <td>0.049599</td>\n",
       "      <td>1.000000</td>\n",
       "      <td>-0.049378</td>\n",
       "      <td>0.028882</td>\n",
       "    </tr>\n",
       "    <tr>\n",
       "      <th>Net Worth</th>\n",
       "      <td>-0.008116</td>\n",
       "      <td>0.048010</td>\n",
       "      <td>NaN</td>\n",
       "      <td>-0.008395</td>\n",
       "      <td>0.021794</td>\n",
       "      <td>0.014767</td>\n",
       "      <td>-0.049378</td>\n",
       "      <td>1.000000</td>\n",
       "      <td>0.488580</td>\n",
       "    </tr>\n",
       "    <tr>\n",
       "      <th>Car Purchase Amount</th>\n",
       "      <td>0.031218</td>\n",
       "      <td>0.003429</td>\n",
       "      <td>NaN</td>\n",
       "      <td>-0.066408</td>\n",
       "      <td>0.633273</td>\n",
       "      <td>0.617862</td>\n",
       "      <td>0.028882</td>\n",
       "      <td>0.488580</td>\n",
       "      <td>1.000000</td>\n",
       "    </tr>\n",
       "  </tbody>\n",
       "</table>\n",
       "</div>"
      ],
      "text/plain": [
       "                     Customer Name  Customer e-mail  Country    Gender  \\\n",
       "Customer Name             1.000000        -0.034360      NaN -0.021926   \n",
       "Customer e-mail          -0.034360         1.000000      NaN  0.073458   \n",
       "Country                        NaN              NaN      NaN       NaN   \n",
       "Gender                   -0.021926         0.073458      NaN  1.000000   \n",
       "Age                       0.016523        -0.041863      NaN -0.066488   \n",
       "Annual Salary             0.038859         0.010627      NaN -0.036499   \n",
       "Credit Card Debt          0.028952         0.019145      NaN  0.024193   \n",
       "Net Worth                -0.008116         0.048010      NaN -0.008395   \n",
       "Car Purchase Amount       0.031218         0.003429      NaN -0.066408   \n",
       "\n",
       "                          Age  Annual Salary  Credit Card Debt  Net Worth  \\\n",
       "Customer Name        0.016523       0.038859          0.028952  -0.008116   \n",
       "Customer e-mail     -0.041863       0.010627          0.019145   0.048010   \n",
       "Country                   NaN            NaN               NaN        NaN   \n",
       "Gender              -0.066488      -0.036499          0.024193  -0.008395   \n",
       "Age                  1.000000       0.000361          0.031748   0.021794   \n",
       "Annual Salary        0.000361       1.000000          0.049599   0.014767   \n",
       "Credit Card Debt     0.031748       0.049599          1.000000  -0.049378   \n",
       "Net Worth            0.021794       0.014767         -0.049378   1.000000   \n",
       "Car Purchase Amount  0.633273       0.617862          0.028882   0.488580   \n",
       "\n",
       "                     Car Purchase Amount  \n",
       "Customer Name                   0.031218  \n",
       "Customer e-mail                 0.003429  \n",
       "Country                              NaN  \n",
       "Gender                         -0.066408  \n",
       "Age                             0.633273  \n",
       "Annual Salary                   0.617862  \n",
       "Credit Card Debt                0.028882  \n",
       "Net Worth                       0.488580  \n",
       "Car Purchase Amount             1.000000  "
      ]
     },
     "execution_count": 15,
     "metadata": {},
     "output_type": "execute_result"
    }
   ],
   "source": [
    "data.corr()"
   ]
  },
  {
   "cell_type": "code",
   "execution_count": 16,
   "metadata": {},
   "outputs": [],
   "source": [
    "data.drop(['Country'],axis=1,inplace=True)"
   ]
  },
  {
   "cell_type": "code",
   "execution_count": 17,
   "metadata": {},
   "outputs": [
    {
     "data": {
      "text/plain": [
       "<Axes: >"
      ]
     },
     "execution_count": 17,
     "metadata": {},
     "output_type": "execute_result"
    },
    {
     "data": {
      "image/png": "[encoded data removed]",
      "text/plain": [
       "<Figure size 640x480 with 2 Axes>"
      ]
     },
     "metadata": {},
     "output_type": "display_data"
    }
   ],
   "source": [
    "sns.heatmap(data.corr(),annot=True,cmap=\"Blues\")"
   ]
  },
  {
   "cell_type": "code",
   "execution_count": 18,
   "metadata": {},
   "outputs": [
    {
     "name": "stdout",
     "output_type": "stream",
     "text": [
      "     Customer Name  Customer e-mail  Gender  Age  Annual Salary  \\\n",
      "0              288              139       0   42    62812.09301   \n",
      "1              168              224       0   41    66646.89292   \n",
      "2              311              498       1   43    53798.55112   \n",
      "3              204              307       1   58    79370.03798   \n",
      "4               70              241       1   57    59729.15130   \n",
      "..             ...              ...     ...  ...            ...   \n",
      "495            475              289       0   41    71942.40291   \n",
      "496            466               21       1   38    56039.49793   \n",
      "497            352              381       1   54    68888.77805   \n",
      "498            315               72       1   59    49811.99062   \n",
      "499            284               11       1   47    61370.67766   \n",
      "\n",
      "     Credit Card Debt    Net Worth  \n",
      "0        11609.380910  238961.2505  \n",
      "1         9572.957136  530973.9078  \n",
      "2        11160.355060  638467.1773  \n",
      "3        14426.164850  548599.0524  \n",
      "4         5358.712177  560304.0671  \n",
      "..                ...          ...  \n",
      "495       6995.902524  541670.1016  \n",
      "496      12301.456790  360419.0988  \n",
      "497      10611.606860  764531.3203  \n",
      "498      14013.034510  337826.6382  \n",
      "499       9391.341628  462946.4924  \n",
      "\n",
      "[500 rows x 7 columns]\n"
     ]
    }
   ],
   "source": [
    "X = data.drop(['Car Purchase Amount'],axis=1)\n",
    "y= data['Car Purchase Amount']\n",
    "print(X)"
   ]
  },
  {
   "cell_type": "code",
   "execution_count": 39,
   "metadata": {},
   "outputs": [],
   "source": [
    "from sklearn.model_selection import train_test_split\n",
    "X_train,X_test,y_train,y_test = train_test_split(\n",
    "    X,y,test_size=0.2,random_state=10\n",
    ")"
   ]
  },
  {
   "cell_type": "code",
   "execution_count": 40,
   "metadata": {},
   "outputs": [
    {
     "data": {
      "text/plain": [
       "((400, 7), (100, 7), (400,), (100,))"
      ]
     },
     "execution_count": 40,
     "metadata": {},
     "output_type": "execute_result"
    }
   ],
   "source": [
    "X_train.shape,X_test.shape,y_train.shape,y_test.shape"
   ]
  },
  {
   "cell_type": "code",
   "execution_count": 41,
   "metadata": {},
   "outputs": [],
   "source": [
    "lr_model = LinearRegression()"
   ]
  },
  {
   "cell_type": "code",
   "execution_count": 42,
   "metadata": {},
   "outputs": [
    {
     "data": {
      "text/html": [
       "<style>#sk-container-id-3 {color: black;background-color: white;}#sk-container-id-3 pre{padding: 0;}#sk-container-id-3 div.sk-toggleable {background-color: white;}#sk-container-id-3 label.sk-toggleable__label {cursor: pointer;display: block;width: 100%;margin-bottom: 0;padding: 0.3em;box-sizing: border-box;text-align: center;}#sk-container-id-3 label.sk-toggleable__label-arrow:before {content: \"▸\";float: left;margin-right: 0.25em;color: #696969;}#sk-container-id-3 label.sk-toggleable__label-arrow:hover:before {color: black;}#sk-container-id-3 div.sk-estimator:hover label.sk-toggleable__label-arrow:before {color: black;}#sk-container-id-3 div.sk-toggleable__content {max-height: 0;max-width: 0;overflow: hidden;text-align: left;background-color: #f0f8ff;}#sk-container-id-3 div.sk-toggleable__content pre {margin: 0.2em;color: black;border-radius: 0.25em;background-color: #f0f8ff;}#sk-container-id-3 input.sk-toggleable__control:checked~div.sk-toggleable__content {max-height: 200px;max-width: 100%;overflow: auto;}#sk-container-id-3 input.sk-toggleable__control:checked~label.sk-toggleable__label-arrow:before {content: \"▾\";}#sk-container-id-3 div.sk-estimator input.sk-toggleable__control:checked~label.sk-toggleable__label {background-color: #d4ebff;}#sk-container-id-3 div.sk-label input.sk-toggleable__control:checked~label.sk-toggleable__label {background-color: #d4ebff;}#sk-container-id-3 input.sk-hidden--visually {border: 0;clip: rect(1px 1px 1px 1px);clip: rect(1px, 1px, 1px, 1px);height: 1px;margin: -1px;overflow: hidden;padding: 0;position: absolute;width: 1px;}#sk-container-id-3 div.sk-estimator {font-family: monospace;background-color: #f0f8ff;border: 1px dotted black;border-radius: 0.25em;box-sizing: border-box;margin-bottom: 0.5em;}#sk-container-id-3 div.sk-estimator:hover {background-color: #d4ebff;}#sk-container-id-3 div.sk-parallel-item::after {content: \"\";width: 100%;border-bottom: 1px solid gray;flex-grow: 1;}#sk-container-id-3 div.sk-label:hover label.sk-toggleable__label {background-color: #d4ebff;}#sk-container-id-3 div.sk-serial::before {content: \"\";position: absolute;border-left: 1px solid gray;box-sizing: border-box;top: 0;bottom: 0;left: 50%;z-index: 0;}#sk-container-id-3 div.sk-serial {display: flex;flex-direction: column;align-items: center;background-color: white;padding-right: 0.2em;padding-left: 0.2em;position: relative;}#sk-container-id-3 div.sk-item {position: relative;z-index: 1;}#sk-container-id-3 div.sk-parallel {display: flex;align-items: stretch;justify-content: center;background-color: white;position: relative;}#sk-container-id-3 div.sk-item::before, #sk-container-id-3 div.sk-parallel-item::before {content: \"\";position: absolute;border-left: 1px solid gray;box-sizing: border-box;top: 0;bottom: 0;left: 50%;z-index: -1;}#sk-container-id-3 div.sk-parallel-item {display: flex;flex-direction: column;z-index: 1;position: relative;background-color: white;}#sk-container-id-3 div.sk-parallel-item:first-child::after {align-self: flex-end;width: 50%;}#sk-container-id-3 div.sk-parallel-item:last-child::after {align-self: flex-start;width: 50%;}#sk-container-id-3 div.sk-parallel-item:only-child::after {width: 0;}#sk-container-id-3 div.sk-dashed-wrapped {border: 1px dashed gray;margin: 0 0.4em 0.5em 0.4em;box-sizing: border-box;padding-bottom: 0.4em;background-color: white;}#sk-container-id-3 div.sk-label label {font-family: monospace;font-weight: bold;display: inline-block;line-height: 1.2em;}#sk-container-id-3 div.sk-label-container {text-align: center;}#sk-container-id-3 div.sk-container {/* jupyter's `normalize.less` sets `[hidden] { display: none; }` but bootstrap.min.css set `[hidden] { display: none !important; }` so we also need the `!important` here to be able to override the default hidden behavior on the sphinx rendered scikit-learn.org. See: https://github.com/scikit-learn/scikit-learn/issues/21755 */display: inline-block !important;position: relative;}#sk-container-id-3 div.sk-text-repr-fallback {display: none;}</style><div id=\"sk-container-id-3\" class=\"sk-top-container\"><div class=\"sk-text-repr-fallback\"><pre>LinearRegression()</pre><b>In a Jupyter environment, please rerun this cell to show the HTML representation or trust the notebook. <br />On GitHub, the HTML representation is unable to render, please try loading this page with nbviewer.org.</b></div><div class=\"sk-container\" hidden><div class=\"sk-item\"><div class=\"sk-estimator sk-toggleable\"><input class=\"sk-toggleable__control sk-hidden--visually\" id=\"sk-estimator-id-3\" type=\"checkbox\" checked><label for=\"sk-estimator-id-3\" class=\"sk-toggleable__label sk-toggleable__label-arrow\">LinearRegression</label><div class=\"sk-toggleable__content\"><pre>LinearRegression()</pre></div></div></div></div></div>"
      ],
      "text/plain": [
       "LinearRegression()"
      ]
     },
     "execution_count": 42,
     "metadata": {},
     "output_type": "execute_result"
    }
   ],
   "source": [
    "lr_model.fit(X_train,y_train)"
   ]
  },
  {
   "cell_type": "code",
   "execution_count": 43,
   "metadata": {},
   "outputs": [
    {
     "data": {
      "text/html": [
       "<div>\n",
       "<style scoped>\n",
       "    .dataframe tbody tr th:only-of-type {\n",
       "        vertical-align: middle;\n",
       "    }\n",
       "\n",
       "    .dataframe tbody tr th {\n",
       "        vertical-align: top;\n",
       "    }\n",
       "\n",
       "    .dataframe thead th {\n",
       "        text-align: right;\n",
       "    }\n",
       "</style>\n",
       "<table border=\"1\" class=\"dataframe\">\n",
       "  <thead>\n",
       "    <tr style=\"text-align: right;\">\n",
       "      <th></th>\n",
       "      <th>cofficient</th>\n",
       "    </tr>\n",
       "  </thead>\n",
       "  <tbody>\n",
       "    <tr>\n",
       "      <th>Customer Name</th>\n",
       "      <td>0.120322</td>\n",
       "    </tr>\n",
       "    <tr>\n",
       "      <th>Customer e-mail</th>\n",
       "      <td>0.008330</td>\n",
       "    </tr>\n",
       "    <tr>\n",
       "      <th>Gender</th>\n",
       "      <td>24.091311</td>\n",
       "    </tr>\n",
       "    <tr>\n",
       "      <th>Age</th>\n",
       "      <td>841.050472</td>\n",
       "    </tr>\n",
       "    <tr>\n",
       "      <th>Annual Salary</th>\n",
       "      <td>0.561816</td>\n",
       "    </tr>\n",
       "    <tr>\n",
       "      <th>Credit Card Debt</th>\n",
       "      <td>0.004716</td>\n",
       "    </tr>\n",
       "    <tr>\n",
       "      <th>Net Worth</th>\n",
       "      <td>0.028881</td>\n",
       "    </tr>\n",
       "  </tbody>\n",
       "</table>\n",
       "</div>"
      ],
      "text/plain": [
       "                  cofficient\n",
       "Customer Name       0.120322\n",
       "Customer e-mail     0.008330\n",
       "Gender             24.091311\n",
       "Age               841.050472\n",
       "Annual Salary       0.561816\n",
       "Credit Card Debt    0.004716\n",
       "Net Worth           0.028881"
      ]
     },
     "execution_count": 43,
     "metadata": {},
     "output_type": "execute_result"
    }
   ],
   "source": [
    "pd.DataFrame(lr_model.coef_,X.columns,columns=['cofficient'])\n"
   ]
  },
  {
   "cell_type": "code",
   "execution_count": 44,
   "metadata": {},
   "outputs": [],
   "source": [
    "y_pred = lr_model.predict(X_test)"
   ]
  },
  {
   "cell_type": "code",
   "execution_count": 45,
   "metadata": {},
   "outputs": [
    {
     "data": {
      "text/html": [
       "<div>\n",
       "<style scoped>\n",
       "    .dataframe tbody tr th:only-of-type {\n",
       "        vertical-align: middle;\n",
       "    }\n",
       "\n",
       "    .dataframe tbody tr th {\n",
       "        vertical-align: top;\n",
       "    }\n",
       "\n",
       "    .dataframe thead th {\n",
       "        text-align: right;\n",
       "    }\n",
       "</style>\n",
       "<table border=\"1\" class=\"dataframe\">\n",
       "  <thead>\n",
       "    <tr style=\"text-align: right;\">\n",
       "      <th></th>\n",
       "      <th>y_test</th>\n",
       "      <th>y_pred</th>\n",
       "    </tr>\n",
       "  </thead>\n",
       "  <tbody>\n",
       "    <tr>\n",
       "      <th>151</th>\n",
       "      <td>47604.34591</td>\n",
       "      <td>47777.880616</td>\n",
       "    </tr>\n",
       "    <tr>\n",
       "      <th>424</th>\n",
       "      <td>31408.62631</td>\n",
       "      <td>31117.627759</td>\n",
       "    </tr>\n",
       "    <tr>\n",
       "      <th>154</th>\n",
       "      <td>42369.64247</td>\n",
       "      <td>42371.492764</td>\n",
       "    </tr>\n",
       "    <tr>\n",
       "      <th>190</th>\n",
       "      <td>56579.90338</td>\n",
       "      <td>56420.394088</td>\n",
       "    </tr>\n",
       "    <tr>\n",
       "      <th>131</th>\n",
       "      <td>38243.66481</td>\n",
       "      <td>38255.785740</td>\n",
       "    </tr>\n",
       "    <tr>\n",
       "      <th>...</th>\n",
       "      <td>...</td>\n",
       "      <td>...</td>\n",
       "    </tr>\n",
       "    <tr>\n",
       "      <th>50</th>\n",
       "      <td>27187.23914</td>\n",
       "      <td>27097.773811</td>\n",
       "    </tr>\n",
       "    <tr>\n",
       "      <th>264</th>\n",
       "      <td>54013.47595</td>\n",
       "      <td>53791.370333</td>\n",
       "    </tr>\n",
       "    <tr>\n",
       "      <th>34</th>\n",
       "      <td>39810.34817</td>\n",
       "      <td>39572.484358</td>\n",
       "    </tr>\n",
       "    <tr>\n",
       "      <th>78</th>\n",
       "      <td>38502.42392</td>\n",
       "      <td>38409.298749</td>\n",
       "    </tr>\n",
       "    <tr>\n",
       "      <th>223</th>\n",
       "      <td>56457.74038</td>\n",
       "      <td>56574.500602</td>\n",
       "    </tr>\n",
       "  </tbody>\n",
       "</table>\n",
       "<p>100 rows × 2 columns</p>\n",
       "</div>"
      ],
      "text/plain": [
       "          y_test        y_pred\n",
       "151  47604.34591  47777.880616\n",
       "424  31408.62631  31117.627759\n",
       "154  42369.64247  42371.492764\n",
       "190  56579.90338  56420.394088\n",
       "131  38243.66481  38255.785740\n",
       "..           ...           ...\n",
       "50   27187.23914  27097.773811\n",
       "264  54013.47595  53791.370333\n",
       "34   39810.34817  39572.484358\n",
       "78   38502.42392  38409.298749\n",
       "223  56457.74038  56574.500602\n",
       "\n",
       "[100 rows x 2 columns]"
      ]
     },
     "execution_count": 45,
     "metadata": {},
     "output_type": "execute_result"
    }
   ],
   "source": [
    "com = pd.DataFrame({'y_test':y_test,'y_pred':y_pred})\n",
    "com"
   ]
  },
  {
   "cell_type": "code",
   "execution_count": 46,
   "metadata": {},
   "outputs": [
    {
     "data": {
      "text/plain": [
       "array([ 0,  1,  2,  3,  4,  5,  6,  7,  8,  9, 10, 11, 12, 13, 14, 15, 16,\n",
       "       17, 18, 19, 20, 21, 22, 23, 24, 25, 26, 27, 28, 29, 30, 31, 32, 33,\n",
       "       34, 35, 36, 37, 38, 39, 40, 41, 42, 43, 44, 45, 46, 47, 48, 49, 50,\n",
       "       51, 52, 53, 54, 55, 56, 57, 58, 59, 60, 61, 62, 63, 64, 65, 66, 67,\n",
       "       68, 69, 70, 71, 72, 73, 74, 75, 76, 77, 78, 79, 80, 81, 82, 83, 84,\n",
       "       85, 86, 87, 88, 89, 90, 91, 92, 93, 94, 95, 96, 97, 98, 99])"
      ]
     },
     "execution_count": 46,
     "metadata": {},
     "output_type": "execute_result"
    }
   ],
   "source": [
    "len_test = len(y_pred)\n",
    "len_test\n",
    "default_arr = np.array(range(len_test))\n",
    "default_arr"
   ]
  },
  {
   "cell_type": "code",
   "execution_count": 27,
   "metadata": {},
   "outputs": [
    {
     "data": {
      "image/png": "[encoded data removed]",
      "text/plain": [
       "<Figure size 640x480 with 1 Axes>"
      ]
     },
     "metadata": {},
     "output_type": "display_data"
    }
   ],
   "source": [
    "import matplotlib.pyplot as plt\n",
    "plt.scatter(default_arr,y_test,marker='o',label=\"Ground truth\")\n",
    "plt.scatter(default_arr,y_pred,marker='x',label=\"Prediction\")\n",
    "plt.legend()\n",
    "plt.grid()"
   ]
  },
  {
   "cell_type": "code",
   "execution_count": 28,
   "metadata": {},
   "outputs": [
    {
     "data": {
      "text/plain": [
       "0.9995493442675972"
      ]
     },
     "execution_count": 28,
     "metadata": {},
     "output_type": "execute_result"
    }
   ],
   "source": [
    "lr_model.score(X_test,y_test)"
   ]
  },
  {
   "cell_type": "code",
   "execution_count": 29,
   "metadata": {},
   "outputs": [],
   "source": [
    "from sklearn import metrics\n",
    "import numpy as np"
   ]
  },
  {
   "cell_type": "code",
   "execution_count": 30,
   "metadata": {},
   "outputs": [],
   "source": [
    "MSE = metrics.mean_squared_error(y_test,y_pred)\n",
    "RMSE = np.sqrt(MSE)"
   ]
  },
  {
   "cell_type": "code",
   "execution_count": 31,
   "metadata": {},
   "outputs": [
    {
     "data": {
      "text/plain": [
       "59191.60739983302"
      ]
     },
     "execution_count": 31,
     "metadata": {},
     "output_type": "execute_result"
    }
   ],
   "source": [
    "MSE"
   ]
  },
  {
   "cell_type": "markdown",
   "metadata": {},
   "source": [
    "# Decision Tree classification"
   ]
  },
  {
   "cell_type": "code",
   "execution_count": 32,
   "metadata": {},
   "outputs": [],
   "source": [
    "from sklearn.tree import DecisionTreeRegressor\n"
   ]
  },
  {
   "cell_type": "code",
   "execution_count": 33,
   "metadata": {},
   "outputs": [],
   "source": [
    "decisionTree = DecisionTreeRegressor()"
   ]
  },
  {
   "cell_type": "code",
   "execution_count": 34,
   "metadata": {},
   "outputs": [
    {
     "data": {
      "text/html": [
       "<style>#sk-container-id-2 {color: black;background-color: white;}#sk-container-id-2 pre{padding: 0;}#sk-container-id-2 div.sk-toggleable {background-color: white;}#sk-container-id-2 label.sk-toggleable__label {cursor: pointer;display: block;width: 100%;margin-bottom: 0;padding: 0.3em;box-sizing: border-box;text-align: center;}#sk-container-id-2 label.sk-toggleable__label-arrow:before {content: \"▸\";float: left;margin-right: 0.25em;color: #696969;}#sk-container-id-2 label.sk-toggleable__label-arrow:hover:before {color: black;}#sk-container-id-2 div.sk-estimator:hover label.sk-toggleable__label-arrow:before {color: black;}#sk-container-id-2 div.sk-toggleable__content {max-height: 0;max-width: 0;overflow: hidden;text-align: left;background-color: #f0f8ff;}#sk-container-id-2 div.sk-toggleable__content pre {margin: 0.2em;color: black;border-radius: 0.25em;background-color: #f0f8ff;}#sk-container-id-2 input.sk-toggleable__control:checked~div.sk-toggleable__content {max-height: 200px;max-width: 100%;overflow: auto;}#sk-container-id-2 input.sk-toggleable__control:checked~label.sk-toggleable__label-arrow:before {content: \"▾\";}#sk-container-id-2 div.sk-estimator input.sk-toggleable__control:checked~label.sk-toggleable__label {background-color: #d4ebff;}#sk-container-id-2 div.sk-label input.sk-toggleable__control:checked~label.sk-toggleable__label {background-color: #d4ebff;}#sk-container-id-2 input.sk-hidden--visually {border: 0;clip: rect(1px 1px 1px 1px);clip: rect(1px, 1px, 1px, 1px);height: 1px;margin: -1px;overflow: hidden;padding: 0;position: absolute;width: 1px;}#sk-container-id-2 div.sk-estimator {font-family: monospace;background-color: #f0f8ff;border: 1px dotted black;border-radius: 0.25em;box-sizing: border-box;margin-bottom: 0.5em;}#sk-container-id-2 div.sk-estimator:hover {background-color: #d4ebff;}#sk-container-id-2 div.sk-parallel-item::after {content: \"\";width: 100%;border-bottom: 1px solid gray;flex-grow: 1;}#sk-container-id-2 div.sk-label:hover label.sk-toggleable__label {background-color: #d4ebff;}#sk-container-id-2 div.sk-serial::before {content: \"\";position: absolute;border-left: 1px solid gray;box-sizing: border-box;top: 0;bottom: 0;left: 50%;z-index: 0;}#sk-container-id-2 div.sk-serial {display: flex;flex-direction: column;align-items: center;background-color: white;padding-right: 0.2em;padding-left: 0.2em;position: relative;}#sk-container-id-2 div.sk-item {position: relative;z-index: 1;}#sk-container-id-2 div.sk-parallel {display: flex;align-items: stretch;justify-content: center;background-color: white;position: relative;}#sk-container-id-2 div.sk-item::before, #sk-container-id-2 div.sk-parallel-item::before {content: \"\";position: absolute;border-left: 1px solid gray;box-sizing: border-box;top: 0;bottom: 0;left: 50%;z-index: -1;}#sk-container-id-2 div.sk-parallel-item {display: flex;flex-direction: column;z-index: 1;position: relative;background-color: white;}#sk-container-id-2 div.sk-parallel-item:first-child::after {align-self: flex-end;width: 50%;}#sk-container-id-2 div.sk-parallel-item:last-child::after {align-self: flex-start;width: 50%;}#sk-container-id-2 div.sk-parallel-item:only-child::after {width: 0;}#sk-container-id-2 div.sk-dashed-wrapped {border: 1px dashed gray;margin: 0 0.4em 0.5em 0.4em;box-sizing: border-box;padding-bottom: 0.4em;background-color: white;}#sk-container-id-2 div.sk-label label {font-family: monospace;font-weight: bold;display: inline-block;line-height: 1.2em;}#sk-container-id-2 div.sk-label-container {text-align: center;}#sk-container-id-2 div.sk-container {/* jupyter's `normalize.less` sets `[hidden] { display: none; }` but bootstrap.min.css set `[hidden] { display: none !important; }` so we also need the `!important` here to be able to override the default hidden behavior on the sphinx rendered scikit-learn.org. See: https://github.com/scikit-learn/scikit-learn/issues/21755 */display: inline-block !important;position: relative;}#sk-container-id-2 div.sk-text-repr-fallback {display: none;}</style><div id=\"sk-container-id-2\" class=\"sk-top-container\"><div class=\"sk-text-repr-fallback\"><pre>DecisionTreeRegressor()</pre><b>In a Jupyter environment, please rerun this cell to show the HTML representation or trust the notebook. <br />On GitHub, the HTML representation is unable to render, please try loading this page with nbviewer.org.</b></div><div class=\"sk-container\" hidden><div class=\"sk-item\"><div class=\"sk-estimator sk-toggleable\"><input class=\"sk-toggleable__control sk-hidden--visually\" id=\"sk-estimator-id-2\" type=\"checkbox\" checked><label for=\"sk-estimator-id-2\" class=\"sk-toggleable__label sk-toggleable__label-arrow\">DecisionTreeRegressor</label><div class=\"sk-toggleable__content\"><pre>DecisionTreeRegressor()</pre></div></div></div></div></div>"
      ],
      "text/plain": [
       "DecisionTreeRegressor()"
      ]
     },
     "execution_count": 34,
     "metadata": {},
     "output_type": "execute_result"
    }
   ],
   "source": [
    "decisionTree.fit(X_train,y_train)"
   ]
  },
  {
   "cell_type": "code",
   "execution_count": 44,
   "metadata": {},
   "outputs": [],
   "source": [
    "#pd.DataFrame(decisionTree.coef_,X.columns,columns=['d_coeffient'])"
   ]
  },
  {
   "cell_type": "code",
   "execution_count": 35,
   "metadata": {},
   "outputs": [],
   "source": [
    "decision_y_pred = decisionTree.predict(X_test)"
   ]
  },
  {
   "cell_type": "code",
   "execution_count": 36,
   "metadata": {},
   "outputs": [
    {
     "data": {
      "text/html": [
       "<div>\n",
       "<style scoped>\n",
       "    .dataframe tbody tr th:only-of-type {\n",
       "        vertical-align: middle;\n",
       "    }\n",
       "\n",
       "    .dataframe tbody tr th {\n",
       "        vertical-align: top;\n",
       "    }\n",
       "\n",
       "    .dataframe thead th {\n",
       "        text-align: right;\n",
       "    }\n",
       "</style>\n",
       "<table border=\"1\" class=\"dataframe\">\n",
       "  <thead>\n",
       "    <tr style=\"text-align: right;\">\n",
       "      <th></th>\n",
       "      <th>decision_y_test</th>\n",
       "      <th>decision_y_pred</th>\n",
       "    </tr>\n",
       "  </thead>\n",
       "  <tbody>\n",
       "    <tr>\n",
       "      <th>153</th>\n",
       "      <td>31300.54347</td>\n",
       "      <td>30826.10903</td>\n",
       "    </tr>\n",
       "    <tr>\n",
       "      <th>483</th>\n",
       "      <td>55377.87697</td>\n",
       "      <td>50702.18103</td>\n",
       "    </tr>\n",
       "    <tr>\n",
       "      <th>27</th>\n",
       "      <td>49091.97185</td>\n",
       "      <td>53110.88052</td>\n",
       "    </tr>\n",
       "    <tr>\n",
       "      <th>50</th>\n",
       "      <td>27187.23914</td>\n",
       "      <td>29556.79320</td>\n",
       "    </tr>\n",
       "    <tr>\n",
       "      <th>442</th>\n",
       "      <td>42705.11311</td>\n",
       "      <td>45593.68490</td>\n",
       "    </tr>\n",
       "    <tr>\n",
       "      <th>...</th>\n",
       "      <td>...</td>\n",
       "      <td>...</td>\n",
       "    </tr>\n",
       "    <tr>\n",
       "      <th>98</th>\n",
       "      <td>52474.71839</td>\n",
       "      <td>54823.19221</td>\n",
       "    </tr>\n",
       "    <tr>\n",
       "      <th>451</th>\n",
       "      <td>59984.16361</td>\n",
       "      <td>64147.28888</td>\n",
       "    </tr>\n",
       "    <tr>\n",
       "      <th>455</th>\n",
       "      <td>32967.20191</td>\n",
       "      <td>31215.64210</td>\n",
       "    </tr>\n",
       "    <tr>\n",
       "      <th>220</th>\n",
       "      <td>61118.46947</td>\n",
       "      <td>60763.24731</td>\n",
       "    </tr>\n",
       "    <tr>\n",
       "      <th>454</th>\n",
       "      <td>46012.10616</td>\n",
       "      <td>47240.86004</td>\n",
       "    </tr>\n",
       "  </tbody>\n",
       "</table>\n",
       "<p>100 rows × 2 columns</p>\n",
       "</div>"
      ],
      "text/plain": [
       "     decision_y_test  decision_y_pred\n",
       "153      31300.54347      30826.10903\n",
       "483      55377.87697      50702.18103\n",
       "27       49091.97185      53110.88052\n",
       "50       27187.23914      29556.79320\n",
       "442      42705.11311      45593.68490\n",
       "..               ...              ...\n",
       "98       52474.71839      54823.19221\n",
       "451      59984.16361      64147.28888\n",
       "455      32967.20191      31215.64210\n",
       "220      61118.46947      60763.24731\n",
       "454      46012.10616      47240.86004\n",
       "\n",
       "[100 rows x 2 columns]"
      ]
     },
     "execution_count": 36,
     "metadata": {},
     "output_type": "execute_result"
    }
   ],
   "source": [
    "com = pd.DataFrame({'decision_y_test':y_test,'decision_y_pred':decision_y_pred})\n",
    "com"
   ]
  },
  {
   "cell_type": "code",
   "execution_count": 49,
   "metadata": {},
   "outputs": [
    {
     "data": {
      "text/plain": [
       "array([ 0,  1,  2,  3,  4,  5,  6,  7,  8,  9, 10, 11, 12, 13, 14, 15, 16,\n",
       "       17, 18, 19, 20, 21, 22, 23, 24, 25, 26, 27, 28, 29, 30, 31, 32, 33,\n",
       "       34, 35, 36, 37, 38, 39, 40, 41, 42, 43, 44, 45, 46, 47, 48, 49, 50,\n",
       "       51, 52, 53, 54, 55, 56, 57, 58, 59, 60, 61, 62, 63, 64, 65, 66, 67,\n",
       "       68, 69, 70, 71, 72, 73, 74, 75, 76, 77, 78, 79, 80, 81, 82, 83, 84,\n",
       "       85, 86, 87, 88, 89, 90, 91, 92, 93, 94, 95, 96, 97, 98, 99])"
      ]
     },
     "execution_count": 49,
     "metadata": {},
     "output_type": "execute_result"
    }
   ],
   "source": [
    "len_test =len(decision_y_pred)#how much length? \n",
    "len_test\n",
    "default_arr= np.array(range(len_test))#array of data length\n",
    "default_arr"
   ]
  },
  {
   "cell_type": "code",
   "execution_count": 37,
   "metadata": {},
   "outputs": [
    {
     "data": {
      "text/plain": [
       "0.8760150549798619"
      ]
     },
     "execution_count": 37,
     "metadata": {},
     "output_type": "execute_result"
    }
   ],
   "source": [
    "decisionTree.score(X_test,y_test)"
   ]
  },
  {
   "cell_type": "code",
   "execution_count": 38,
   "metadata": {},
   "outputs": [
    {
     "data": {
      "image/png": "[encoded data removed]",
      "text/plain": [
       "<Figure size 640x480 with 1 Axes>"
      ]
     },
     "metadata": {},
     "output_type": "display_data"
    }
   ],
   "source": [
    "import matplotlib.pyplot as plt\n",
    "plt.scatter(default_arr,y_test,marker='o',label=\"Ground truth\")\n",
    "plt.scatter(default_arr,decision_y_pred,marker='x',label=\"prediction\")\n",
    "plt.legend()\n",
    "plt.grid()"
   ]
  },
  {
   "cell_type": "code",
   "execution_count": 51,
   "metadata": {},
   "outputs": [],
   "source": [
    "from sklearn import metrics\n",
    "import numpy as np"
   ]
  },
  {
   "cell_type": "code",
   "execution_count": 47,
   "metadata": {},
   "outputs": [],
   "source": [
    "MSE = metrics.mean_squared_error(y_test,decision_y_pred)\n",
    "#(45.1-47.62)^2\n",
    "RMSE =np.sqrt(MSE)"
   ]
  },
  {
   "cell_type": "code",
   "execution_count": 48,
   "metadata": {},
   "outputs": [
    {
     "data": {
      "text/plain": [
       "205130629.1335159"
      ]
     },
     "execution_count": 48,
     "metadata": {},
     "output_type": "execute_result"
    }
   ],
   "source": [
    "MSE"
   ]
  }
 ],
 "metadata": {
  "kernelspec": {
   "display_name": "workshop",
   "language": "python",
   "name": "python3"
  },
  "language_info": {
   "codemirror_mode": {
    "name": "ipython",
    "version": 3
   },
   "file_extension": ".py",
   "mimetype": "text/x-python",
   "name": "python",
   "nbconvert_exporter": "python",
   "pygments_lexer": "ipython3",
   "version": "3.11.3"
  },
  "orig_nbformat": 4
 },
 "nbformat": 4,
 "nbformat_minor": 2
}
